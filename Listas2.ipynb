{
 "cells": [
  {
   "cell_type": "code",
   "execution_count": 12,
   "id": "ef05aafa-1b0e-45aa-8e2d-abce6003a7a3",
   "metadata": {},
   "outputs": [
    {
     "name": "stdout",
     "output_type": "stream",
     "text": [
      "Esse é o subconjunto que abrange desde o índice 1 até o 5: [1, 2, 3, 4, 5]\n",
      "\n",
      "Aqui está o python usando slice, omitindo o início: [0, 1, 2, 3]\n",
      "\n",
      "Aqui está o python usando slice, omitindo o final: [6, 7, 8, 9, 10]\n",
      "\n",
      "Início e final omitido, mas pedindo que siga de dois em dois números: [0, 2, 4, 6, 8, 10]\n",
      "\n",
      "Aqui está a lista invertida: [10, 9, 8, 7, 6, 5, 4, 3, 2, 1, 0]\n"
     ]
    }
   ],
   "source": [
    "#Slice de listas\n",
    "my_list = [0, 1, 2, 3, 4, 5, 6, 7, 8, 9, 10]\n",
    "\n",
    "#Para acessarmos um subconjunto de uma lista, usamos o slice com a seguinte sintaxe lista[início : final - 1]\n",
    "print(f\"Esse é o subconjunto que abrange desde o índice 1 até o 5: {my_list[1:6]}\")\n",
    "print()\n",
    "\n",
    "#Se omitirmos o último ou primeiro elemento, o python usa o extremo\n",
    "print(f\"Aqui está o python usando slice, omitindo o início: {my_list[:4]}\")\n",
    "print()\n",
    "\n",
    "print(f\"Aqui está o python usando slice, omitindo o final: {my_list[6:]}\")\n",
    "print()\n",
    "\n",
    "#Podemos adicionar passos ao slice, como abaixo, onde está omitido início e final, mas é predeterminado que o slice pule de dois em dois\n",
    "print(f\"Início e final omitido, mas pedindo que siga de dois em dois números: {my_list[::2]}\")\n",
    "print()\n",
    "\n",
    "\n",
    "#Podemos também inverter uma lista usando o passo negativo\n",
    "print(f\"Aqui está a lista invertida: {my_list[::-1]}\")"
   ]
  },
  {
   "cell_type": "code",
   "execution_count": 11,
   "id": "dde64359-485d-400a-8afc-41c48ca94ffe",
   "metadata": {},
   "outputs": [
    {
     "name": "stdin",
     "output_type": "stream",
     "text": [
      "Digite seu nome: moises\n"
     ]
    },
    {
     "name": "stdout",
     "output_type": "stream",
     "text": [
      "sesiom\n"
     ]
    }
   ],
   "source": [
    "nome = input(\"Digite seu nome:\")\n",
    "\n",
    "li = [i for i in nome]\n",
    "\n",
    "print(''.join(li[::-1]))"
   ]
  },
  {
   "cell_type": "code",
   "execution_count": 15,
   "id": "93855ce3-b3e3-41ff-b873-b1d42c6eaaa4",
   "metadata": {},
   "outputs": [
    {
     "name": "stdout",
     "output_type": "stream",
     "text": [
      "[0, 1, 4, 9, 16, 25, 36, 49, 64, 81, 100]\n",
      "\n",
      "[0, 1, 4, 9, 16, 25, 36, 49, 64, 81, 100]\n"
     ]
    }
   ],
   "source": [
    "#List comprehension é uma maneira concisa de escrever listas que atendem a alguns requisitos\n",
    "quadrados_0_a_10 = [x ** 2 for x in range(11)]\n",
    "print(quadrados_0_a_10)\n",
    "print()\n",
    "\n",
    "#O código acima pode ser escrito da seguinte forma:\n",
    "quadrados = []\n",
    "for n in range(11):\n",
    "    quadrados.append(n ** 2)\n",
    "\n",
    "print(quadrados)"
   ]
  },
  {
   "cell_type": "code",
   "execution_count": 19,
   "id": "ff8beeec-012a-4ef0-ad4b-6dcc3f2f6f05",
   "metadata": {},
   "outputs": [
    {
     "name": "stdout",
     "output_type": "stream",
     "text": [
      "[0, 4, 16, 36, 64, 100]\n"
     ]
    }
   ],
   "source": [
    "#Na mesma linha, eu consigo usar um loop e uma condicional, além de não precisar usar o .append()\n",
    "quadradosPares = [n ** 2 for n in range(11) if n % 2 == 0]\n",
    "print(quadradosPares)"
   ]
  },
  {
   "cell_type": "code",
   "execution_count": 22,
   "id": "67e7c2ea-5ef3-4845-973a-72b2fa5b385e",
   "metadata": {},
   "outputs": [
    {
     "name": "stdout",
     "output_type": "stream",
     "text": [
      "[(1, 4), (2, 3), (3, 2), (4, 1)]\n"
     ]
    }
   ],
   "source": [
    "a = [1, 2, 3, 4, 5]\n",
    "\n",
    "b = [1, 2, 3, 4, 5]\n",
    "\n",
    "#Eu posso até mesmo aninhar loops em uma lista\n",
    "combin = [(x, y) for x in a for y in b if x + y == 5]\n",
    "print(combin)"
   ]
  },
  {
   "cell_type": "code",
   "execution_count": 24,
   "id": "03451b27-d379-4981-a924-5db6427dd5be",
   "metadata": {},
   "outputs": [
    {
     "name": "stdout",
     "output_type": "stream",
     "text": [
      "[3, 6, 9, 12, 15, 18]\n"
     ]
    }
   ],
   "source": [
    "#Todos os números de 1 a 20, que são divisíveis por 3\n",
    "divByTrhee = [i for i in range(1, 21) if i % 3 == 0]\n",
    "print(divByTrhee)"
   ]
  },
  {
   "cell_type": "code",
   "execution_count": 25,
   "id": "2321531e-77f2-4bc3-bf56-e56400654863",
   "metadata": {},
   "outputs": [
    {
     "name": "stdout",
     "output_type": "stream",
     "text": [
      "5\n"
     ]
    }
   ],
   "source": [
    "#Listas aninhadas, ou listas de listas\n",
    "matriz = [\n",
    "    [1, 2, 3],\n",
    "    [4, 5, 6],\n",
    "    [7, 8, 9]\n",
    "]\n",
    "\n",
    "#Para acessarmos um elemento de uma lista que está dentro de outra lista, precisamos especificar o indice da lista externa e depois da lista interna \n",
    "print(matriz[1][1]) #Saída: 5\n",
    "#Nós acessamos o elemento de indice 1, da lista externa, ([4, 5, 6]) e depois o elemento de índice 1, dentro desse elemento ([4, 5, 6][1] = 5)"
   ]
  },
  {
   "cell_type": "code",
   "execution_count": 30,
   "id": "f737f4dc-fd8b-4f4e-9b54-5179283559b6",
   "metadata": {},
   "outputs": [
    {
     "name": "stdout",
     "output_type": "stream",
     "text": [
      "[(1, 4), (2, 3), (3, 2), (4, 1)]\n",
      "\n",
      "[(1, 4), (2, 3), (3, 2), (4, 1)]\n"
     ]
    }
   ],
   "source": [
    "#Ou seja: podemos refazer aquele exercicio da seguinte forma\n",
    "a = [\n",
    "    [1, 2, 3, 4, 5],\n",
    "    [1, 2, 3, 4, 5]\n",
    "    ]\n",
    "combin = [(x, y) for x in a[0] for y in a[1] if x + y == 5]\n",
    "print(combin)\n",
    "print()\n",
    "\n",
    "#Ou assim...\n",
    "combin1 = [(x, y) for x in range(1, 6) for y in range(1, 6) if x + y == 5]\n",
    "print(combin1)\n",
    "\n",
    "#De qualquer forma, o loop externo vai iterar sobre a lista externa e a o loop interno sobre a interna"
   ]
  },
  {
   "cell_type": "code",
   "execution_count": 36,
   "id": "c067f441-1def-4694-b0d9-5a82f5683053",
   "metadata": {},
   "outputs": [
    {
     "name": "stdout",
     "output_type": "stream",
     "text": [
      "[[1, 4, 7], [2, 5, 8], [3, 6, 9]]\n"
     ]
    }
   ],
   "source": [
    "#vamos supor que eu quero calcular a tranposta da seguinte matriz\n",
    "matriz1 = [\n",
    "    [1, 2, 3],\n",
    "    [4, 5, 6],\n",
    "    [7, 8, 9]\n",
    "]\n",
    "\n",
    "#lista que recebera a matriz transposta\n",
    "transposta = []\n",
    "\n",
    "#para cada número entre 0 e o comprimento do primeiro elemento da matriz, incluindo o zero e não incluindo o comprimento da matriz\n",
    "for i in range(len(matriz1[0])):\n",
    "    #essa lista que recebe a linha temporaria é zerada\n",
    "    linha_temporaria = []\n",
    "    #para cada número entre 0 e o comprimento da matriz, incluindo o zero e não incluindo o comprimento da matriz\n",
    "    for j in range(len(matriz1)):\n",
    "        #eu coloco dentro da linha temporaria o primeiro número de cada lista dentro da matriz. Depois, o segundo, depois o terceiro...\n",
    "        linha_temporaria.append(matriz1[j][i])\n",
    "    #coloco dentro da transposta cada uma das linhas\n",
    "    transposta.append(linha_temporaria)\n",
    "\n",
    "print(transposta)"
   ]
  },
  {
   "cell_type": "code",
   "execution_count": 40,
   "id": "3444caaa-f585-4b82-837a-9b09878f4458",
   "metadata": {},
   "outputs": [
    {
     "name": "stdout",
     "output_type": "stream",
     "text": [
      "45\n",
      "1\t2\t3\t\n",
      "4\t5\t6\t\n",
      "7\t8\t9\t\n"
     ]
    }
   ],
   "source": [
    "#soma de todos os elementos de uma matriz\n",
    "matriz2 = [\n",
    "    [1, 2, 3],\n",
    "    [4, 5, 6],\n",
    "    [7, 8, 9]\n",
    "]\n",
    "\n",
    "#Variavel que recebera a soma\n",
    "soma = 0\n",
    "\n",
    "#para cada lista dentro da matriz\n",
    "for i in matriz2:\n",
    "    #para cada elemento dentro da lista\n",
    "    for j in i:\n",
    "        #a variavel soma recebe é somada a esse elemento\n",
    "        soma += j\n",
    "\n",
    "print(soma)\n",
    "\n",
    "for linha in matriz2:\n",
    "    for num in linha:\n",
    "        print(num, end= \"\\t\")\n",
    "    print()"
   ]
  },
  {
   "cell_type": "code",
   "execution_count": 46,
   "id": "022c31c9-c477-4950-aedc-a0de098bf71c",
   "metadata": {},
   "outputs": [
    {
     "name": "stdout",
     "output_type": "stream",
     "text": [
      "[0, 1, 4, 9, 16, 25, 36, 49, 64, 81, 100]\n",
      "\n",
      "O comprimento da lista é: 11\n",
      "\n",
      "O menor quadrado da lista é: 0\n",
      "\n",
      "O maior quadrado da lista é: 100\n",
      "\n",
      "A soma dos quadrados da lista é: 385\n",
      "\n"
     ]
    }
   ],
   "source": [
    "#Utilidades e funções com listas\n",
    "lista99 = [x ** 2 for x in range(11)]\n",
    "print(lista99)\n",
    "print()\n",
    "\n",
    "#Len(): retorna o comprimento da lista\n",
    "comprimento_lista99 = len(lista99)\n",
    "print(f\"O comprimento da lista é: {comprimento_lista99}\")\n",
    "print()\n",
    "\n",
    "\n",
    "#Min(): retorna o maior valor da lista\n",
    "menor_quadrado = min(lista99)\n",
    "print(f\"O menor quadrado da lista é: {menor_quadrado}\")\n",
    "print()\n",
    "\n",
    "\n",
    "#Max(): retorna o menor valor da lista\n",
    "maior_quadrado = max(lista99)\n",
    "print(f\"O maior quadrado da lista é: {maior_quadrado}\")\n",
    "print()\n",
    "\n",
    "\n",
    "#Sum(): retorna a soma de todos os valores da lista\n",
    "soma_quadrado = sum(lista99)\n",
    "print(f\"A soma dos quadrados da lista é: {soma_quadrado}\")\n",
    "print()"
   ]
  },
  {
   "cell_type": "code",
   "execution_count": 48,
   "id": "0d95ae34-2577-4309-bf6a-90546ae3bb22",
   "metadata": {},
   "outputs": [
    {
     "name": "stdout",
     "output_type": "stream",
     "text": [
      "A fruta na posição 1 é banana\n",
      "A fruta na posição 2 é maçã\n",
      "A fruta na posição 3 é laranja\n",
      "A fruta na posição 4 é pitaya\n",
      "A fruta na posição 5 é caqui\n",
      "A fruta na posição 6 é manga\n",
      "A fruta na posição 7 é maracujá\n"
     ]
    }
   ],
   "source": [
    "#Iterando sobre listas com enumerate\n",
    "frutas = [\"banana\", \"maçã\", \"laranja\", \"pitaya\", \"caqui\", \"manga\", \"maracujá\"]\n",
    "\n",
    "#A função enumerate itera também sobre o índice da lista, além dos elementos\n",
    "for indice, fruta in enumerate(frutas):\n",
    "    print(f\"A fruta na posição {indice + 1} é {fruta}\")"
   ]
  },
  {
   "cell_type": "code",
   "execution_count": 51,
   "id": "69cdb21a-1556-4c97-8acc-019040fb35b9",
   "metadata": {},
   "outputs": [
    {
     "name": "stdout",
     "output_type": "stream",
     "text": [
      "Alice recebeu nota 85!\n",
      "Bruno recebeu nota 90!\n",
      "Clara recebeu nota 78!\n",
      "Daniel recebeu nota 92!\n",
      "Eduardo recebeu nota 88!\n"
     ]
    }
   ],
   "source": [
    "alunos = [\"Alice\", \"Bruno\", \"Clara\", \"Daniel\", \"Eduardo\"]\n",
    "notas = [85, 90, 78, 92, 88]\n",
    "\n",
    "for indice, aluno in enumerate(alunos):\n",
    "    print(f\"{aluno} recebeu nota {notas[indice]}!\")"
   ]
  },
  {
   "cell_type": "code",
   "execution_count": 62,
   "id": "b5c95dd7-e87e-451a-aa6b-c02bbb7af6ed",
   "metadata": {},
   "outputs": [
    {
     "name": "stdout",
     "output_type": "stream",
     "text": [
      "Lista formada com base em uma string, usando a função list(): ['O', 'l', 'á']\n",
      "\n",
      "Lista formada com base em uma string, usando a função split(): ['Python', 'é', 'muito', 'legal!']\n",
      "\n",
      "String formada com base em uma lista, usando o join(): Python é muito legal!\n"
     ]
    }
   ],
   "source": [
    "#Listas e strings\n",
    "\n",
    "# list() e split(): convertem uma string em uma lista\n",
    "s = \"Olá\"\n",
    "print(f\"Lista formada com base em uma string, usando a função list(): {list(s)}\")\n",
    "print()\n",
    "\n",
    "#O list() forma uma lista com cada caractere da string sendo seus elementos\n",
    "#O split() divide a string com base em um delimitador especificado, sendo o espaço o padrão\n",
    "\n",
    "s2 = \"Python é muito legal!\"\n",
    "print(f\"Lista formada com base em uma string, usando a função split(): {s2.split()}\")\n",
    "print()\n",
    "\n",
    "# join(): forma uma string usando os elemrntos de uma lista\n",
    "lista100 = ['Python', 'é', 'muito', 'legal!']\n",
    "print(f\"String formada com base em uma lista, usando o join(): {' '.join(lista100)}\")"
   ]
  },
  {
   "cell_type": "code",
   "execution_count": 81,
   "id": "4b46a960-47ed-4529-844d-8e8eb3ac78f4",
   "metadata": {},
   "outputs": [
    {
     "name": "stdout",
     "output_type": "stream",
     "text": [
      "\n"
     ]
    },
    {
     "name": "stdin",
     "output_type": "stream",
     "text": [
      "Escolha uma opção:\n",
      " \n",
      "1. Adicionar produto na lista de compras \n",
      "2. Remover item da lista de compras \n",
      "3. Exibir lista de compras \n",
      "4. Sair\n",
      "\n",
      " 1\n"
     ]
    },
    {
     "name": "stdout",
     "output_type": "stream",
     "text": [
      "\n"
     ]
    },
    {
     "name": "stdin",
     "output_type": "stream",
     "text": [
      "Qual produto você quer adicionar?\n",
      "\n",
      "\n",
      "  Carne, Farinha, Mel, Salsicha\n"
     ]
    },
    {
     "name": "stdout",
     "output_type": "stream",
     "text": [
      "\n",
      " Carne, Farinha, Mel, Salsicha adicionado com sucesso à sua lista!\n",
      "\n",
      "\n",
      "\n"
     ]
    },
    {
     "name": "stdin",
     "output_type": "stream",
     "text": [
      "Escolha uma opção:\n",
      " \n",
      "1. Adicionar produto na lista de compras \n",
      "2. Remover item da lista de compras \n",
      "3. Exibir lista de compras \n",
      "4. Sair\n",
      "\n",
      " 3\n"
     ]
    },
    {
     "name": "stdout",
     "output_type": "stream",
     "text": [
      "\n",
      "Sua lista é: \n",
      "\n",
      "1-  Carne\n",
      "\n",
      "2- Farinha\n",
      "\n",
      "3- Mel\n",
      "\n",
      "4- Salsicha\n",
      "\n",
      "\n"
     ]
    },
    {
     "name": "stdin",
     "output_type": "stream",
     "text": [
      "Escolha uma opção:\n",
      " \n",
      "1. Adicionar produto na lista de compras \n",
      "2. Remover item da lista de compras \n",
      "3. Exibir lista de compras \n",
      "4. Sair\n",
      "\n",
      " 2\n"
     ]
    },
    {
     "name": "stdout",
     "output_type": "stream",
     "text": [
      "\n"
     ]
    },
    {
     "name": "stdin",
     "output_type": "stream",
     "text": [
      "Qual produto você quer remover?\n",
      "\n",
      " Mel\n"
     ]
    },
    {
     "name": "stdout",
     "output_type": "stream",
     "text": [
      "\n",
      "Mel foi removido com sucesso da sua lista!\n",
      "\n",
      "\n",
      "\n"
     ]
    },
    {
     "name": "stdin",
     "output_type": "stream",
     "text": [
      "Escolha uma opção:\n",
      " \n",
      "1. Adicionar produto na lista de compras \n",
      "2. Remover item da lista de compras \n",
      "3. Exibir lista de compras \n",
      "4. Sair\n",
      "\n",
      " 3\n"
     ]
    },
    {
     "name": "stdout",
     "output_type": "stream",
     "text": [
      "\n",
      "Sua lista é: \n",
      "\n",
      "1-  Carne\n",
      "\n",
      "2- Farinha\n",
      "\n",
      "3- Salsicha\n",
      "\n",
      "\n"
     ]
    },
    {
     "name": "stdin",
     "output_type": "stream",
     "text": [
      "Escolha uma opção:\n",
      " \n",
      "1. Adicionar produto na lista de compras \n",
      "2. Remover item da lista de compras \n",
      "3. Exibir lista de compras \n",
      "4. Sair\n",
      "\n",
      " 4\n"
     ]
    },
    {
     "name": "stdout",
     "output_type": "stream",
     "text": [
      "\n",
      "Até a próxima =)\n",
      "\n",
      "\n"
     ]
    }
   ],
   "source": [
    "#exercício lista de compras\n",
    "\n",
    "\n",
    "#Inicia a lista que receberá os produto a serem comprados\n",
    "lista_de_compras = []\n",
    "\n",
    "#inicia um loop que roda até que se diga o contrário (break)\n",
    "while True: \n",
    "    #captura o que o usuário deseja fazer\n",
    "    print()\n",
    "    escolha = int(input(\"Escolha uma opção:\\n \\n1. Adicionar produto na lista de compras \\n2. Remover item da lista de compras \\n3. Exibir lista de compras \\n4. Sair\\n\\n\"))\n",
    "    print()\n",
    "    #define os valores possíveis para que o usuário escolha\n",
    "    match escolha:\n",
    "         #se o usuário escolher 1 (adicionar produto(s))...\n",
    "          case 1:\n",
    "              #pergunta qual(is) produto(s) são esses...\n",
    "              produto = str(input(\"Qual produto você quer adicionar?\\n\\n\\n\"))\n",
    "              #se for mais de um, separa eles...\n",
    "              for prod in produto.split(\", \"):\n",
    "                  #e coloca na lista de produtos...\n",
    "                  lista_de_compras.append(prod)\n",
    "              print(f\"\\n{produto} adicionado com sucesso à sua lista!\\n\\n\")\n",
    "          #se escolher 2...\n",
    "          case 2:\n",
    "              #pergunta qual produto...\n",
    "              produtoR = str(input(\"Qual produto você quer remover?\\n\\n\"))\n",
    "              #e remove ele da lista\n",
    "              lista_de_compras.remove(produtoR)\n",
    "              print(f\"\\n{produtoR} foi removido com sucesso da sua lista!\\n\\n\")\n",
    "          #se for 3...\n",
    "          case 3:\n",
    "              #exibe todos os produtos na tela, numerando eles\n",
    "              print(\"Sua lista é: \\n\")\n",
    "              for indice, item in enumerate(lista_de_compras):\n",
    "                  print(f\"{indice + 1}- {item}\")\n",
    "                  print()\n",
    "          #se for 4...\n",
    "          case 4:\n",
    "              print(\"Até a próxima =)\\n\\n\")\n",
    "              #quebra o loop\n",
    "              break\n",
    "          #se não for nenhuma das 4...\n",
    "          case _:\n",
    "              #pede uma opção válida\n",
    "              print(\"Digite uma opção válida!\\n\\n\")"
   ]
  },
  {
   "cell_type": "code",
   "execution_count": 89,
   "id": "87be9a9a-eb88-456e-a33b-ca3e0d1b66ea",
   "metadata": {},
   "outputs": [
    {
     "name": "stdin",
     "output_type": "stream",
     "text": [
      "Digite um número:  34\n",
      "Digite um número:  5\n",
      "Digite um número:  3\n",
      "Digite um número:  4665\n",
      "Digite um número:  7\n"
     ]
    },
    {
     "name": "stdout",
     "output_type": "stream",
     "text": [
      "Seus números em ordem crescente: [3, 5, 7, 34, 4665]\n"
     ]
    }
   ],
   "source": [
    "#exercicio classificar números\n",
    "numeros = []\n",
    "count = 5\n",
    "while count > 0:\n",
    "    num = int(input(\"Digite um número: \"))\n",
    "    numeros.append(num)\n",
    "    count -= 1\n",
    "\n",
    "numeros.sort()\n",
    "print(f\"Seus números em ordem crescente: {numeros}\")"
   ]
  },
  {
   "cell_type": "code",
   "execution_count": null,
   "id": "d29e24ca-57ec-4097-a762-3c17e5f573a3",
   "metadata": {},
   "outputs": [],
   "source": []
  }
 ],
 "metadata": {
  "kernelspec": {
   "display_name": "Python 3 (ipykernel)",
   "language": "python",
   "name": "python3"
  },
  "language_info": {
   "codemirror_mode": {
    "name": "ipython",
    "version": 3
   },
   "file_extension": ".py",
   "mimetype": "text/x-python",
   "name": "python",
   "nbconvert_exporter": "python",
   "pygments_lexer": "ipython3",
   "version": "3.11.7"
  }
 },
 "nbformat": 4,
 "nbformat_minor": 5
}
