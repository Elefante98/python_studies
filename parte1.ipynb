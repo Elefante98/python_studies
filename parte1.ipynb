{
 "cells": [
  {
   "cell_type": "code",
   "execution_count": 8,
   "id": "33492ad6-c9f1-4d74-953b-99b261b7b1af",
   "metadata": {},
   "outputs": [
    {
     "name": "stdin",
     "output_type": "stream",
     "text": [
      "Qual tabuada você deseja ver?  9\n"
     ]
    },
    {
     "name": "stdout",
     "output_type": "stream",
     "text": [
      "9 * 0 = 0\n",
      "9 * 1 = 9\n",
      "9 * 2 = 18\n",
      "9 * 3 = 27\n",
      "9 * 4 = 36\n",
      "9 * 5 = 45\n",
      "9 * 6 = 54\n",
      "9 * 7 = 63\n",
      "9 * 8 = 72\n",
      "9 * 9 = 81\n",
      "9 * 10 = 90\n"
     ]
    }
   ],
   "source": [
    "num = int(input(\"Qual tabuada você deseja ver? \"))\n",
    "\n",
    "print(num, \"* 0 =\", num * 0)\n",
    "print(num, \"* 1 =\", num * 1)\n",
    "print(num, \"* 2 =\", num * 2)\n",
    "print(num, \"* 3 =\", num * 3)\n",
    "print(num, \"* 4 =\", num * 4)\n",
    "print(num, \"* 5 =\", num * 5)\n",
    "print(num, \"* 6 =\", num * 6)\n",
    "print(num, \"* 7 =\", num * 7)\n",
    "print(num, \"* 8 =\", num * 8)\n",
    "print(num, \"* 9 =\", num * 9)\n",
    "print(num, \"* 10 =\", num * 10)"
   ]
  },
  {
   "cell_type": "code",
   "execution_count": 10,
   "id": "32e16924-bc22-47f6-8b1c-c7adf008f5d8",
   "metadata": {},
   "outputs": [
    {
     "name": "stdin",
     "output_type": "stream",
     "text": [
      "Em que ano você nasceu?  2005\n"
     ]
    },
    {
     "name": "stdout",
     "output_type": "stream",
     "text": [
      "Você tem 19 anos\n"
     ]
    }
   ],
   "source": [
    "nasc = int(input(\"Em que ano você nasceu? \"))\n",
    "\n",
    "idade = 2024 - nasc\n",
    "\n",
    "print(\"Você tem\", idade, \"anos\")"
   ]
  },
  {
   "cell_type": "code",
   "execution_count": 47,
   "id": "24c6237e-4694-486c-a74c-c085b36c0657",
   "metadata": {},
   "outputs": [
    {
     "name": "stdout",
     "output_type": "stream",
     "text": [
      "Aqui está seu número aleatório entre 1 e 4: 3\n",
      "Aqui está seu número aleatório entre 0 e 1: 0.7505592430368251\n",
      "Aqui está seu número aleatório entre 1 a 10: 8\n",
      "Você ganhou um lhasa-apso\n",
      "Aqui está sua lista embaralhada: [9, 8, 4, 6, 5, 7, 2, 0, 3, 1]\n",
      "Aqui está seu número float aleatório entre 5,0 e 9,9: 5.4546787953832405\n"
     ]
    }
   ],
   "source": [
    "import random\n",
    "\n",
    "print(\"Aqui está seu número aleatório entre 1 e 4:\", random.randrange(1, 4))\n",
    "\n",
    "aleat = random.random()\n",
    "print(\"Aqui está seu número aleatório entre 0 e 1:\", aleat)\n",
    "\n",
    "print(\"Aqui está seu número aleatório entre 1 a 10:\", random.randint(1, 10))\n",
    "\n",
    "cachorros = [\"bull-terrier\", \"shitzu\", \"poodle\", \"border-collie\", \"lhasa-apso\"]\n",
    "print(\"Você ganhou um\", random.choice(cachorros))\n",
    "\n",
    "numeros = [0, 1, 2, 3, 4, 5, 6, 7, 8, 9]\n",
    "random.shuffle(numeros)\n",
    "print(\"Aqui está sua lista embaralhada:\", numeros)\n",
    "\n",
    "print(\"Aqui está seu número float aleatório entre 5,0 e 9,9:\", random.uniform(5.0, 9.9))"
   ]
  },
  {
   "cell_type": "code",
   "execution_count": 54,
   "id": "667de644-2d50-41e5-8d2d-cf14d221055a",
   "metadata": {},
   "outputs": [
    {
     "name": "stdout",
     "output_type": "stream",
     "text": [
      "Aqui está a 11° letra da sua string: e\n",
      "Aqui está da quarta até a oitava letra de sua string: eu fo\n",
      "Aqui estão os primeiros 5 caracteres da sua string: Se eu\n",
      "Aqui estão os últimos 5 caracteres de sua string: ar...\n"
     ]
    }
   ],
   "source": [
    "conteudo = \"Se eu fosse um peixinho e soubesse nadar...\"\n",
    "print(\"Aqui está a 11° letra da sua string:\", conteudo[10])\n",
    "\n",
    "print(\"Aqui está da quarta até a oitava letra de sua string:\", conteudo[3:8])\n",
    "\n",
    "print(\"Aqui estão os primeiros 5 caracteres da sua string:\", conteudo[:5])\n",
    "\n",
    "print(\"Aqui estão os últimos 5 caracteres de sua string:\", conteudo[-5:])\n"
   ]
  },
  {
   "cell_type": "code",
   "execution_count": 58,
   "id": "4dd10425-45dd-4d88-bc79-fd337fce25db",
   "metadata": {},
   "outputs": [
    {
     "name": "stdout",
     "output_type": "stream",
     "text": [
      "True\n",
      "False\n",
      "Sim, ele é meu!\n"
     ]
    }
   ],
   "source": [
    "frase = \"Meu parceiro corria, com aquele braço ensanguentado...\"\n",
    "\n",
    "print(\"parceiro\" in frase)\n",
    "\n",
    "print(\"cachorro\" in frase)\n",
    "\n",
    "if \"Meu\" in frase:\n",
    "    print(\"Sim, ele é meu!\")"
   ]
  },
  {
   "cell_type": "code",
   "execution_count": 60,
   "id": "a4302642-3d3d-498e-8be6-0c47554cad84",
   "metadata": {},
   "outputs": [
    {
     "name": "stdout",
     "output_type": "stream",
     "text": [
      "Aqui está sua string, sem espaços indesejados no inicio e no final: Sim, eu ia, mas parei após aquele show de horrores.\n"
     ]
    }
   ],
   "source": [
    "texto = \"              Sim, eu ia, mas parei após aquele show de horrores.            \"\n",
    "\n",
    "print(\"Aqui está sua string, sem espaços indesejados no inicio e no final:\", texto.strip())"
   ]
  },
  {
   "cell_type": "code",
   "execution_count": 67,
   "id": "194f7e85-eaad-4ce8-a875-a902a7c3d312",
   "metadata": {},
   "outputs": [
    {
     "name": "stdout",
     "output_type": "stream",
     "text": [
      "Aqui está seu texto separado pelos espaços: ['Olá!', 'Como', 'vai', 'você?']\n",
      "\n",
      "Aqui estão suas palavras juntas, com um espaço entre elas: Olá! Como vai você?\n"
     ]
    }
   ],
   "source": [
    "text = \"Olá! Como vai você?\"\n",
    "print(\"Aqui está seu texto separado pelos espaços:\", text.split())\n",
    "palavras = ['Olá!', 'Como', 'vai', 'você?']\n",
    "print(\"\\nAqui estão suas palavras juntas, com um espaço entre elas:\", ' '.join(palavras))"
   ]
  },
  {
   "cell_type": "code",
   "execution_count": 70,
   "id": "694b3f84-d366-4696-9d9a-c5c6722a4f51",
   "metadata": {},
   "outputs": [
    {
     "name": "stdout",
     "output_type": "stream",
     "text": [
      "Aqui está seu texto, removendo os '*' do início e final: Meu cachorro fez xixi no seu carro\n"
     ]
    }
   ],
   "source": [
    "oracao = \"**Meu cachorro fez xixi no seu carro***********\"\n",
    "print(\"Aqui está seu texto, removendo os '*' do início e final:\", oracao.strip('*'))"
   ]
  },
  {
   "cell_type": "code",
   "execution_count": 82,
   "id": "353cc552-e922-43a4-8e5d-8e006e284bd6",
   "metadata": {},
   "outputs": [
    {
     "name": "stdout",
     "output_type": "stream",
     "text": [
      "Olá! Meu nome é Moisés, tenho 18 anos e 1.87 metros de altura.\n",
      "MOISÉS\n",
      "moisés\n",
      "Instituto federal de educação, ciência e tecnologia de são paulo\n",
      "Seu texto tem 7 letras 'e'\n",
      "instituto f%d%ral d% %ducação, ciência % t%cnologia d% são paulo\n",
      "Sua string tem 55 caracteres\n"
     ]
    }
   ],
   "source": [
    "nome = \"Moisés\"\n",
    "idade = 18\n",
    "altura = 1.873436\n",
    "\n",
    "print(f\"Olá! Meu nome é {nome}, tenho {idade} anos e {altura:.2f} metros de altura.\")\n",
    "\n",
    "print(nome.upper())\n",
    "\n",
    "print(nome.lower())\n",
    "\n",
    "ifsp = \"instituto federal de educação, ciência e tecnologia de são paulo\"\n",
    "\n",
    "print(ifsp.capitalize())\n",
    "\n",
    "print(f\"Seu texto tem {ifsp.count('e')} letras 'e'\")\n",
    "\n",
    "print(ifsp.replace(\"e\", \"%\"))\n",
    "\n",
    "print(f\"Sua string tem {len(ifsp.replace(' ', ''))} caracteres\")"
   ]
  },
  {
   "cell_type": "code",
   "execution_count": 84,
   "id": "f765d9f2-2e52-48c4-8ff3-db8fa743ec68",
   "metadata": {},
   "outputs": [
    {
     "name": "stdout",
     "output_type": "stream",
     "text": [
      "Não teremos assentos suficientes!\n"
     ]
    }
   ],
   "source": [
    "num_pessoas = 94\n",
    "num_assentos = 85\n",
    "\n",
    "if num_pessoas > num_assentos:\n",
    "    print(\"Não teremos assentos suficientes!\")\n",
    "elif num_pessoas == num_assentos:\n",
    "    print(\"Estamos lotados...\")\n",
    "else:\n",
    "    print(\"Entrem, entrem!\")"
   ]
  },
  {
   "cell_type": "code",
   "execution_count": 87,
   "id": "c0e384f2-6535-413b-99a1-b6b1bbd12cf0",
   "metadata": {},
   "outputs": [
    {
     "name": "stdin",
     "output_type": "stream",
     "text": [
      "Adivinhe o número que estou pensando!  9\n"
     ]
    },
    {
     "name": "stdout",
     "output_type": "stream",
     "text": [
      "Errou... Your soul is mine!\n"
     ]
    }
   ],
   "source": [
    "Snum = random.randrange(1, 10)\n",
    "Pnum = int(input(\"Adivinhe o número que estou pensando! \"))\n",
    "\n",
    "if Snum == Pnum:\n",
    "    print(\"Acertou! Ah, miserável!\")\n",
    "else:\n",
    "    print(\"Errou... Your soul is mine!\")"
   ]
  },
  {
   "cell_type": "code",
   "execution_count": 90,
   "id": "550e6b57-52a3-4cb9-ba99-b1bef0931b64",
   "metadata": {},
   "outputs": [
    {
     "name": "stdin",
     "output_type": "stream",
     "text": [
      "Qual ano você nasceu?  2005\n"
     ]
    },
    {
     "name": "stdout",
     "output_type": "stream",
     "text": [
      "Liberado para votar\n"
     ]
    }
   ],
   "source": [
    "ano_nasc = int(input(\"Qual ano você nasceu? \"))\n",
    "current_year = 2024\n",
    "idade = current_year - ano_nasc\n",
    "\n",
    "if idade > 18:\n",
    "    print(\"Liberado para votar\")\n",
    "else:\n",
    "    print(\"Você é de menó\")"
   ]
  },
  {
   "cell_type": "code",
   "execution_count": 93,
   "id": "31d708ec-6369-4271-9f7d-0f071313a950",
   "metadata": {},
   "outputs": [
    {
     "name": "stdin",
     "output_type": "stream",
     "text": [
      "Qual a sua nota? 49\n"
     ]
    },
    {
     "name": "stdout",
     "output_type": "stream",
     "text": [
      "Sua nota é ruim...\n"
     ]
    }
   ],
   "source": [
    "nota = int(input(\"Qual a sua nota?\" ))\n",
    "\n",
    "if nota > 89:\n",
    "    print(\"Sua nota é excelente!\")\n",
    "elif nota > 69:\n",
    "    print(\"Sua nota é boa!\")\n",
    "elif nota > 49:\n",
    "    print(\"Sua nota é satisfatória.\")\n",
    "else:\n",
    "    print(\"Sua nota é ruim...\")"
   ]
  },
  {
   "cell_type": "code",
   "execution_count": 98,
   "id": "c5b06db0-0669-4c1c-96e8-30ea463443c1",
   "metadata": {},
   "outputs": [
    {
     "name": "stdin",
     "output_type": "stream",
     "text": [
      "Qual o valor da sua compra? 680\n"
     ]
    },
    {
     "name": "stdout",
     "output_type": "stream",
     "text": [
      "O valor da sua compra com desconto é 612.0\n"
     ]
    }
   ],
   "source": [
    "valor = float(input(\"Qual o valor da sua compra?\" ))\n",
    "\n",
    "if valor > 1000:\n",
    "    desc = valor * 0.2\n",
    "    print(f\"O valor da sua compra com desconto é {valor - desc}\")\n",
    "elif valor > 500:\n",
    "    desc = valor * 0.1\n",
    "    print(f\"O valor da sua compra com desconto é {valor - desc}\")\n",
    "else:\n",
    "    print(\"Você não tem desconto para essa compra!\")"
   ]
  },
  {
   "cell_type": "code",
   "execution_count": 108,
   "id": "6d775171-0126-49d0-9c85-f61eb4e712a1",
   "metadata": {},
   "outputs": [
    {
     "name": "stdin",
     "output_type": "stream",
     "text": [
      "Você tem um convite? nao\n",
      "Você está na lista de convidados? sim\n"
     ]
    },
    {
     "data": {
      "text/plain": [
       "'Entrada liberada!'"
      ]
     },
     "execution_count": 108,
     "metadata": {},
     "output_type": "execute_result"
    }
   ],
   "source": [
    "def portaria():\n",
    "    convite = str(input(\"Você tem um convite?\" ))\n",
    "    if convite == \"sim\" or convite == \"Sim\":\n",
    "        return \"Entrada liberada!\"\n",
    "    \n",
    "\n",
    "\n",
    "    vip = str(input(\"Você está na lista de convidados?\" ))\n",
    "    if vip == \"sim\" or vip == \"Sim\":\n",
    "        return \"Entrada liberada!\"\n",
    "\n",
    "\n",
    "    membro = str(input(\"Você é membro do clube?\" ))\n",
    "    if membro == \"sim\" or membro == \"Sim\":\n",
    "        print(\"Entrada liberada!\")\n",
    "    else:\n",
    "        print(\"Você é um intruso!\")\n",
    "\n",
    "portaria()"
   ]
  },
  {
   "cell_type": "code",
   "execution_count": 111,
   "id": "211f75ce-c005-42bc-a994-2444e8e677e9",
   "metadata": {},
   "outputs": [
    {
     "name": "stdin",
     "output_type": "stream",
     "text": [
      "Qual o número a ser verificado? 3\n"
     ]
    },
    {
     "name": "stdout",
     "output_type": "stream",
     "text": [
      "O número é ímpar!\n"
     ]
    }
   ],
   "source": [
    "numero = int(input(\"Qual o número a ser verificado?\" ))\n",
    "\n",
    "if numero % 2 == 0:\n",
    "    print(\"O número é par!\")\n",
    "else:\n",
    "    print(\"O número é ímpar!\")"
   ]
  },
  {
   "cell_type": "code",
   "execution_count": 114,
   "id": "c79eac32-39de-4b3a-8700-f864c85a0b99",
   "metadata": {},
   "outputs": [
    {
     "name": "stdin",
     "output_type": "stream",
     "text": [
      "Em que ano você nasceu?  2010\n"
     ]
    },
    {
     "name": "stdout",
     "output_type": "stream",
     "text": [
      "De menó! Você só tem 14 anos\n"
     ]
    }
   ],
   "source": [
    "ano_nasc = int(input(\"Em que ano você nasceu? \"))\n",
    "idade = 2024 - ano_nasc\n",
    "\n",
    "maioridade = \"Adulto\" if idade > 17 else f\"De menó! Você só tem {idade} anos\"\n",
    "print(maioridade)"
   ]
  },
  {
   "cell_type": "code",
   "execution_count": 117,
   "id": "aad01080-a527-41fe-8495-3ed4416eac15",
   "metadata": {},
   "outputs": [
    {
     "name": "stdin",
     "output_type": "stream",
     "text": [
      "Qual o número a ser verificado? 9\n"
     ]
    },
    {
     "name": "stdout",
     "output_type": "stream",
     "text": [
      "Seu número é ímpar\n"
     ]
    }
   ],
   "source": [
    "numero = int(input(\"Qual o número a ser verificado?\" ))\n",
    "\n",
    "\n",
    "paridade = \"par\" if numero % 2 == 0 else \"ímpar\"\n",
    "\n",
    "print(f\"Seu número é {paridade}\")"
   ]
  },
  {
   "cell_type": "code",
   "execution_count": 121,
   "id": "ca379727-0233-4fa0-a05e-90740ed135e4",
   "metadata": {},
   "outputs": [
    {
     "name": "stdin",
     "output_type": "stream",
     "text": [
      "Qual a sua pontuação?  89\n"
     ]
    },
    {
     "name": "stdout",
     "output_type": "stream",
     "text": [
      "Sua pontuação é alta\n"
     ]
    }
   ],
   "source": [
    "score = int(input(\"Qual a sua pontuação? \"))\n",
    "\n",
    "pontua = \"baixa\" if score < 50 else \"média\" if score < 80 else \"alta\"\n",
    "\n",
    "print(f\"Sua pontuação é {pontua}\")"
   ]
  },
  {
   "cell_type": "code",
   "execution_count": null,
   "id": "0820cac7-fe71-4bfe-8dad-2a085547bb0b",
   "metadata": {},
   "outputs": [],
   "source": []
  }
 ],
 "metadata": {
  "kernelspec": {
   "display_name": "Python 3 (ipykernel)",
   "language": "python",
   "name": "python3"
  },
  "language_info": {
   "codemirror_mode": {
    "name": "ipython",
    "version": 3
   },
   "file_extension": ".py",
   "mimetype": "text/x-python",
   "name": "python",
   "nbconvert_exporter": "python",
   "pygments_lexer": "ipython3",
   "version": "3.11.7"
  }
 },
 "nbformat": 4,
 "nbformat_minor": 5
}
