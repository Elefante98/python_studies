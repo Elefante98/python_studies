{
 "cells": [
  {
   "cell_type": "code",
   "execution_count": 11,
   "id": "fb094bbd-5c02-47ae-9d81-0ee66d71fdf6",
   "metadata": {},
   "outputs": [
    {
     "name": "stdout",
     "output_type": "stream",
     "text": [
      "A soma dos seus números é 10\n",
      "A subtração dos seus números é 10\n",
      "A multiplicação dos seus números é 10\n",
      "A divisão dos seus números é 10.0\n",
      "Escolha uma operação válida, por favor!\n"
     ]
    }
   ],
   "source": [
    "#Refazendo a calculadora para treinar o uso do parametro *args\n",
    "\n",
    "\n",
    "#inicia uma função que recebe o nome de um tipo de operação e retorna ela\n",
    "def fabrica_de_operacoes(operacao):\n",
    "    #Inicia uma função que recebe vários argumentos e retorna a soma deles\n",
    "    def soma(*args):\n",
    "        return f\"A soma dos seus números é {sum(args)}\"\n",
    "\n",
    "    #Inicia uma função que recebe vários argumentos e retorna a subtração deles\n",
    "    def subtracao(*args):\n",
    "        subtracao = args[0]\n",
    "        for i in args[1:]:\n",
    "            subtracao -= i\n",
    "        return f\"A subtração dos seus números é {subtracao}\"\n",
    "\n",
    "    #Inicia uma função que recebe vários argumentos e retorna a multiplicação deles\n",
    "    def multiplicacao(*args):\n",
    "        mult = 1\n",
    "        for i in args:\n",
    "            mult *= i\n",
    "        return f\"A multiplicação dos seus números é {mult}\"\n",
    "\n",
    "    #Inicia uma função que recebe vários argumentos e retorna a divisão deles\n",
    "    def divisao(*args):\n",
    "        div = args[0]\n",
    "        for i in args[1:]:\n",
    "            if i == 0:\n",
    "                print(\"Divisão por 0 é inválida, digite um número diferente de 0!\")\n",
    "            else:\n",
    "                div /= i\n",
    "        return f\"A divisão dos seus números é {div}\"\n",
    "\n",
    "    #Inicia uma função que recebe vários argumentos e retorna um erro\n",
    "    def operacao_invalida(*args):\n",
    "        return \"Escolha uma operação válida, por favor!\"\n",
    "        \n",
    "    #Verifica qual a operacao a ser executada, com base no parametro recebido pela função principal    \n",
    "    if operacao == \"Soma\":\n",
    "        return soma\n",
    "    elif operacao == \"Subtração\":\n",
    "        return subtracao\n",
    "    elif operacao == \"Multiplicação\":\n",
    "        return multiplicacao\n",
    "    elif operacao == \"Divisão\":\n",
    "        return divisao\n",
    "    #Se o argumento não condizer com nenhuma  operaçõa, a função que retorna erro é chamada\n",
    "    else:\n",
    "        return operacao_invalida\n",
    "\n",
    "#Armazenando as função de acordo sua operação\n",
    "adicao = fabrica_de_operacoes(\"Soma\")\n",
    "subtracao = fabrica_de_operacoes(\"Subtração\")\n",
    "multiplicacao = fabrica_de_operacoes(\"Multiplicação\")\n",
    "divisao = fabrica_de_operacoes(\"Divisão\")\n",
    "operacao_invalida = fabrica_de_operacoes(\"Módulo\")\n",
    "\n",
    "#Testando o código...\n",
    "print(adicao(1, 2, 3, 4))\n",
    "print(subtracao(50, 30, 4, 6))\n",
    "print(multiplicacao(1, 2, 1, 5))\n",
    "print(divisao(30, 2, 30, 0.05))\n",
    "print(operacao_invalida(1, 2))"
   ]
  },
  {
   "cell_type": "code",
   "execution_count": 13,
   "id": "c62789d4-b478-471b-82b5-203755cd409f",
   "metadata": {},
   "outputs": [
    {
     "name": "stdout",
     "output_type": "stream",
     "text": [
      "Função regular: 16\n",
      "Função lambda: 16\n"
     ]
    }
   ],
   "source": [
    "#Funções lambda são funções anônimas simplificadas, usadas para operações pequenas\n",
    "\n",
    "#Ex.:\n",
    "#Função regular\n",
    "def dobrar(a):\n",
    "    return a * 2\n",
    "\n",
    "print(\"Função regular:\", dobrar(8)) #Saída: 16\n",
    "\n",
    "#Função lambda\n",
    "dobrarLambda = lambda a: a * 2\n",
    "\n",
    "print(\"Função lambda:\", dobrarLambda(8)) #Saída: 16"
   ]
  },
  {
   "cell_type": "code",
   "execution_count": 16,
   "id": "318bdb54-bc01-441e-87b1-1f91b3fedeea",
   "metadata": {},
   "outputs": [
    {
     "name": "stdout",
     "output_type": "stream",
     "text": [
      "Negativo\n",
      "Negativo\n"
     ]
    }
   ],
   "source": [
    "#Ex2\n",
    "\n",
    "#Função convencional que classifica um número em Negativo, Positivo, ou zero\n",
    "def classificar(n):\n",
    "    if n < 0:\n",
    "        return \"Negativo\"\n",
    "    elif n == 0:\n",
    "        return \"Zero\"\n",
    "    else:\n",
    "        return \"Positivo\"\n",
    "\n",
    "print(classificar(-9)) #Saída: Negativo\n",
    "\n",
    "#Função lambda, que faz o mesmo em uma única linha\n",
    "classificar_lambda = lambda n: \"Negativo\" if n < 0 else (\"Zero\" if n == 0 else \"Positivo\")\n",
    "\n",
    "print(classificar_lambda(-9)) #Saída: Negativo\n",
    "\n",
    "\n",
    "#As funções lambda continuam anônimas, até que sejam atribuidas a uma variável, por exemplo"
   ]
  },
  {
   "cell_type": "code",
   "execution_count": 2,
   "id": "1e64adf4-1f4a-4b63-814a-86630d7d9ee1",
   "metadata": {},
   "outputs": [
    {
     "name": "stdout",
     "output_type": "stream",
     "text": [
      "[('Victor', 13), ('Moises', 18), ('Layane', 22), ('Jose', 45)]\n",
      "[('Jose', 45), ('Layane', 22), ('Moises', 18), ('Victor', 13)]\n"
     ]
    }
   ],
   "source": [
    "#Podemos usar as funções lambda dentro de funções bult-in, como a sorted\n",
    "#Ex.:\n",
    "#A lista pessoas recebe várias tuplas com um nome e uma idade numérica\n",
    "pessoas = [('Layane', 22), ('Victor', 13), ('Jose', 45), ('Moises', 18)]\n",
    "\n",
    "#A variável abaixo recebe a lista de pessoas e ordena ela de acordo com a função lambda: a função recebe a tupla e retorna o segundo elemento dela\n",
    "pessoas_ordenadas = sorted(pessoas, key = lambda n: n[1])\n",
    "\n",
    "#Classificamos as pessoas com base no índice 1, ou seja, a idade\n",
    "print(pessoas_ordenadas)\n",
    "\n",
    "\n",
    "#Classificando as pessoas com base no índice 0, ou seja, o nome\n",
    "pessoas1 = [('Layane', 22), ('Victor', 13), ('Jose', 45), ('Moises', 18)]\n",
    "pessoas_ordenadas1 = sorted(pessoas, key = lambda n: n[0])\n",
    "print(pessoas_ordenadas1)"
   ]
  },
  {
   "cell_type": "code",
   "execution_count": 1,
   "id": "d33b739e-6fd7-47df-a15f-ec0cd1bba453",
   "metadata": {},
   "outputs": [
    {
     "name": "stdout",
     "output_type": "stream",
     "text": [
      "[2, 4, 6, 8, 10]\n"
     ]
    }
   ],
   "source": [
    "#Lambda com outras funções built-in\n",
    "numeros = [1, 2, 3, 4, 5, 6, 7, 8, 9, 10]\n",
    "\n",
    "#a função lambda atua dentro da função filtro, filtrando apenas os números pares\n",
    "numeros_pares = list(filter(lambda x: x % 2 == 0, numeros)) #Saída: 2, 4, 6, 8, 10\n",
    "\n",
    "print(numeros_pares)"
   ]
  },
  {
   "cell_type": "code",
   "execution_count": 3,
   "id": "0d684c1c-8281-4da0-a0b8-570a95a00982",
   "metadata": {},
   "outputs": [
    {
     "name": "stdout",
     "output_type": "stream",
     "text": [
      "['Armando', 'Alexandre']\n"
     ]
    }
   ],
   "source": [
    "#Filtrando palavras de uma lista que começam com a letra A\n",
    "nomes = ['Armando', 'Pedro', 'Francisco', 'Alexandre']\n",
    "\n",
    "#com a função lambda, filtramos apenas os nomes que possuem a letra A no primeiro índice\n",
    "letraA = list(filter(lambda x: x[0] == \"A\", nomes))\n",
    "\n",
    "print(letraA)"
   ]
  },
  {
   "cell_type": "code",
   "execution_count": 5,
   "id": "5369b7c6-4542-4be9-be0f-7ff0733f1341",
   "metadata": {},
   "outputs": [
    {
     "name": "stdout",
     "output_type": "stream",
     "text": [
      "['Alice', 'Alice']\n"
     ]
    }
   ],
   "source": [
    "nomes1 = ['Armando', 'Pedro', 'Francisco', 'Alexandre', 'Alice', 'José', 'Alice']\n",
    "\n",
    "alic = list(filter(lambda x: x == \"Alice\", nomes1))\n",
    "\n",
    "print(alic)"
   ]
  },
  {
   "cell_type": "code",
   "execution_count": 7,
   "id": "050f59db-3caa-42b6-a396-2fe2a2bccad1",
   "metadata": {},
   "outputs": [
    {
     "name": "stdout",
     "output_type": "stream",
     "text": [
      "[1, 4, 9, 16, 25, 36, 49, 64, 81, 100]\n"
     ]
    }
   ],
   "source": [
    "#Função lambda com map\n",
    "nums = [1, 2, 3, 4, 5, 6, 7, 8, 9, 10]\n",
    "\n",
    "#usamos a função map para aplicar a função lambda em todos os números da lista\n",
    "quadrados = list(map(lambda num: num ** 2, nums))\n",
    "\n",
    "print(quadrados)"
   ]
  },
  {
   "cell_type": "code",
   "execution_count": 8,
   "id": "753edc77-e299-4778-b43e-73b3dff4bfbe",
   "metadata": {},
   "outputs": [
    {
     "name": "stdout",
     "output_type": "stream",
     "text": [
      "[7, 5, 9, 9, 5, 4, 5]\n"
     ]
    }
   ],
   "source": [
    "#Função lambda com map\n",
    "nomes2 = ['Armando', 'Pedro', 'Francisco', 'Alexandre', 'Alice', 'José', 'Alice']\n",
    "\n",
    "leng = list(map(lambda nome: len(nome), nomes2))\n",
    "\n",
    "print(leng)"
   ]
  },
  {
   "cell_type": "code",
   "execution_count": 9,
   "id": "777f1d77-cefd-43b1-a820-92fac1cd27af",
   "metadata": {},
   "outputs": [
    {
     "name": "stdout",
     "output_type": "stream",
     "text": [
      "[2, 5, 8, 10, 12, 15, 18, 20, 23, 25, 28]\n",
      "[5, 15, 23, 25]\n",
      "[25, 225, 529, 625]\n"
     ]
    }
   ],
   "source": [
    "#Exercício: dada uma lista de números, filtre os números impares em outra lista e os quadrados desses numeros em uma terceira lista\n",
    "numers = [2, 5, 8, 10, 12, 15, 18, 20, 23, 25, 28]\n",
    "\n",
    "impares = list(filter(lambda n: n % 2 != 0, numers))\n",
    "\n",
    "squars = list(map(lambda nu: nu ** 2, impares))\n",
    "\n",
    "print(numers)\n",
    "print(impares)\n",
    "print(squars)"
   ]
  },
  {
   "cell_type": "code",
   "execution_count": 12,
   "id": "efb6ffc6-4066-44a6-887e-3920ab55fea2",
   "metadata": {},
   "outputs": [
    {
     "name": "stdout",
     "output_type": "stream",
     "text": [
      "10\n",
      "9\n",
      "8\n",
      "7\n",
      "6\n",
      "5\n",
      "4\n",
      "3\n",
      "2\n",
      "1\n"
     ]
    }
   ],
   "source": [
    "#funções recursivas são funções que chamam a si mesmas. Ex.:\n",
    "def contagem_regressiva(n):\n",
    "    if n > 0:\n",
    "        print(n)\n",
    "    else:\n",
    "        return 0\n",
    "    contagem_regressiva(n - 1)\n",
    "\n",
    "contagem_regressiva(10)"
   ]
  },
  {
   "cell_type": "code",
   "execution_count": 15,
   "id": "401e3cc4-0c25-4b8b-bcf9-83a61fd3fabf",
   "metadata": {},
   "outputs": [
    {
     "name": "stdout",
     "output_type": "stream",
     "text": [
      "20\n",
      "\n",
      "    A função soma recebe dois parâmetros:\n",
      "\n",
      "    Número 1: a, inteiro\n",
      "    Número 2: b, inteiro\n",
      "\n",
      "    retorna a soma de a e b, em formato de inteiro\n",
      "    \n"
     ]
    }
   ],
   "source": [
    "#Documentação e anotações\n",
    "\n",
    "#Eu posso especificar o tipo do parametro recebido e o tipo do elemento que a função retornará, como podemos ver\n",
    "def soma(a: int, b: int) -> int:\n",
    "    #Entre 3 aspas duplas, eu posso criar a documentação da minha função\n",
    "    \"\"\"\n",
    "    A função soma recebe dois parâmetros:\n",
    "\n",
    "    Número 1: a, inteiro\n",
    "    Número 2: b, inteiro\n",
    "\n",
    "    retorna a soma de a e b, em formato de inteiro\n",
    "    \"\"\"\n",
    "    return a + b\n",
    "\n",
    "print(soma(5, 15))\n",
    "\n",
    "#Para chamar a documentação de uma função, usamos o formato abaixo:\n",
    "print(soma.__doc__)"
   ]
  },
  {
   "cell_type": "code",
   "execution_count": 24,
   "id": "d95e2fa1-da6f-4c6d-8301-1b002bea58d3",
   "metadata": {},
   "outputs": [
    {
     "name": "stdin",
     "output_type": "stream",
     "text": [
      "Digite sua string: Moises\n"
     ]
    },
    {
     "name": "stdout",
     "output_type": "stream",
     "text": [
      "sesioM\n"
     ]
    }
   ],
   "source": [
    "#invertendo uma string\n",
    "strin = str(input(\"Digite sua string:\"))\n",
    "\n",
    "lit = [i for i in strin]\n",
    "\n",
    "lis = [lit[i] for i in range(len(lit) - 1, -1, -1)]\n",
    "\n",
    "print(''.join(lis))"
   ]
  }
 ],
 "metadata": {
  "kernelspec": {
   "display_name": "Python 3 (ipykernel)",
   "language": "python",
   "name": "python3"
  },
  "language_info": {
   "codemirror_mode": {
    "name": "ipython",
    "version": 3
   },
   "file_extension": ".py",
   "mimetype": "text/x-python",
   "name": "python",
   "nbconvert_exporter": "python",
   "pygments_lexer": "ipython3",
   "version": "3.11.7"
  }
 },
 "nbformat": 4,
 "nbformat_minor": 5
}
