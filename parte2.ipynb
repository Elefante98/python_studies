{
 "cells": [
  {
   "cell_type": "code",
   "execution_count": 3,
   "id": "d64b31ad-e5c8-47ee-9fbc-77052ee86bc0",
   "metadata": {},
   "outputs": [
    {
     "name": "stdin",
     "output_type": "stream",
     "text": [
      "Digite um número inteiro: 30\n"
     ]
    },
    {
     "name": "stdout",
     "output_type": "stream",
     "text": [
      "Aqui estão os números ímpares entre 1 e 30:\n",
      "1 3 5 7 9 11 13 15 17 19 21 23 25 27 29 "
     ]
    }
   ],
   "source": [
    "num = 1\n",
    "max = int(input(\"Digite um número inteiro:\"))\n",
    "\n",
    "print(f\"Aqui estão os números ímpares entre 1 e {max}:\")\n",
    "\n",
    "while num <= max:\n",
    "    if num % 2 != 0:\n",
    "        print(num, end= \" \")\n",
    "    num += 1"
   ]
  },
  {
   "cell_type": "code",
   "execution_count": 9,
   "id": "5ccf713a-04f3-4bb8-9950-6006dc24eb45",
   "metadata": {},
   "outputs": [
    {
     "name": "stdin",
     "output_type": "stream",
     "text": [
      "Password: 9237\n"
     ]
    },
    {
     "name": "stdout",
     "output_type": "stream",
     "text": [
      "Wrong password. Try again.\n"
     ]
    },
    {
     "name": "stdin",
     "output_type": "stream",
     "text": [
      "Password: 12345\n"
     ]
    },
    {
     "name": "stdout",
     "output_type": "stream",
     "text": [
      "Welcome!\n"
     ]
    }
   ],
   "source": [
    "counter = 0\n",
    "senha = 12345\n",
    "\n",
    "while counter < 1:\n",
    "    passw = int(input(\"Password:\"))\n",
    "    if passw == senha:\n",
    "        print(\"Welcome!\")\n",
    "        counter += 1\n",
    "    else:\n",
    "        print(\"Wrong password. Try again.\")"
   ]
  },
  {
   "cell_type": "code",
   "execution_count": 2,
   "id": "fb3e5937-e357-4a55-98ec-83b0506df7c9",
   "metadata": {},
   "outputs": [
    {
     "name": "stdin",
     "output_type": "stream",
     "text": [
      "Digite um número:  54\n",
      "Digite um número:  2\n",
      "Digite um número:  42\n",
      "Digite um número:  0\n"
     ]
    },
    {
     "name": "stdout",
     "output_type": "stream",
     "text": [
      "O total é 98\n"
     ]
    }
   ],
   "source": [
    "soma = 0\n",
    "num = int(input(\"Digite um número: \"))\n",
    "\n",
    "while num!= 0:\n",
    "    soma += num\n",
    "    num = int(input(\"Digite um número: \"))\n",
    "print(f\"O total é {soma}\")"
   ]
  },
  {
   "cell_type": "code",
   "execution_count": 3,
   "id": "c4b25db2-630c-4075-83af-9c724608538c",
   "metadata": {},
   "outputs": [
    {
     "name": "stdin",
     "output_type": "stream",
     "text": [
      "Adivinha o número que eu pensei! (está entre 0 e 100) 20\n"
     ]
    },
    {
     "name": "stdout",
     "output_type": "stream",
     "text": [
      "O número secreto é maior que 20!\n"
     ]
    },
    {
     "name": "stdin",
     "output_type": "stream",
     "text": [
      "Adivinha o número que eu pensei! (está entre 0 e 100) 40\n"
     ]
    },
    {
     "name": "stdout",
     "output_type": "stream",
     "text": [
      "O número secreto é maior que 40!\n"
     ]
    },
    {
     "name": "stdin",
     "output_type": "stream",
     "text": [
      "Adivinha o número que eu pensei! (está entre 0 e 100) 60\n"
     ]
    },
    {
     "name": "stdout",
     "output_type": "stream",
     "text": [
      "O número secreto é maior que 60!\n"
     ]
    },
    {
     "name": "stdin",
     "output_type": "stream",
     "text": [
      "Adivinha o número que eu pensei! (está entre 0 e 100) 80\n"
     ]
    },
    {
     "name": "stdout",
     "output_type": "stream",
     "text": [
      "O número secreto é menor que 80!\n"
     ]
    },
    {
     "name": "stdin",
     "output_type": "stream",
     "text": [
      "Adivinha o número que eu pensei! (está entre 0 e 100) 70\n"
     ]
    },
    {
     "name": "stdout",
     "output_type": "stream",
     "text": [
      "O número secreto é maior que 70!\n"
     ]
    },
    {
     "name": "stdin",
     "output_type": "stream",
     "text": [
      "Adivinha o número que eu pensei! (está entre 0 e 100) 75\n"
     ]
    },
    {
     "name": "stdout",
     "output_type": "stream",
     "text": [
      "Parabéns! Você acertou o número secreto em 6 tentativas!\n"
     ]
    }
   ],
   "source": [
    "import random\n",
    "numero = random.randint(1, 100)\n",
    "tent = 0\n",
    "counter = 0\n",
    "\n",
    "while counter == 0:\n",
    "    tentativa = int(input(\"Adivinha o número que eu pensei! (está entre 0 e 100)\"))\n",
    "    tent += 1\n",
    "    if tentativa < numero:\n",
    "        print(f\"O número secreto é maior que {tentativa}!\")\n",
    "    elif tentativa > numero:\n",
    "        print(f\"O número secreto é menor que {tentativa}!\")\n",
    "    else:\n",
    "        print(f\"Parabéns! Você acertou o número secreto em {tent} tentativas!\")\n",
    "        counter += 1"
   ]
  },
  {
   "cell_type": "code",
   "execution_count": 23,
   "id": "3c953c67-96fd-45af-be82-23730d36f7d8",
   "metadata": {},
   "outputs": [
    {
     "name": "stdin",
     "output_type": "stream",
     "text": [
      "Digite um número inteiro positivo 23\n",
      "Digite um número inteiro positivo 54\n",
      "Digite um número inteiro positivo 45\n",
      "Digite um número inteiro positivo 56426\n",
      "Digite um número inteiro positivo 6\n",
      "Digite um número inteiro positivo -3\n"
     ]
    },
    {
     "name": "stdout",
     "output_type": "stream",
     "text": [
      "56426\n"
     ]
    }
   ],
   "source": [
    "#Código que roda um loop até que seja inserido um número negativo e depois imprime o maior dos números inseridos\n",
    "\n",
    "#Inicia a lista que receberá os números\n",
    "lista = []\n",
    "\n",
    "#Pede o número ao usuário pela primeira vez\n",
    "num = int(input(\"Digite um número inteiro positivo\"))\n",
    "\n",
    "#Loop que roda enquanto o número inserido for positivo\n",
    "while num >= 0:\n",
    "    #Se o número for positivo, ele vai para a lista, se for negativo, o loop se quebra\n",
    "    lista.append(num)\n",
    "    #Após receber um número positivo, o loop pede outro número\n",
    "    num = int(input(\"Digite um número inteiro positivo\"))\n",
    "#Após a quebra do loop, é imprimido o maior número digitado\n",
    "print(max(lista))"
   ]
  },
  {
   "cell_type": "code",
   "execution_count": 22,
   "id": "1a139600-fedb-4ee5-b9bc-15249ef8ad52",
   "metadata": {},
   "outputs": [
    {
     "name": "stdin",
     "output_type": "stream",
     "text": [
      "Escolha uma opção: \n",
      "\n",
      "1 - Verificar saldo \n",
      "2 - Depositar \n",
      "3 - Sacar \n",
      "4 - Sair \n",
      " 2\n",
      "Qual o valor do depósito?\n",
      " 345\n"
     ]
    },
    {
     "name": "stdout",
     "output_type": "stream",
     "text": [
      "Depósito de R$345.0 efetuado com sucesso!\n",
      "\n"
     ]
    },
    {
     "name": "stdin",
     "output_type": "stream",
     "text": [
      "Escolha uma opção: \n",
      "\n",
      "1 - Verificar saldo \n",
      "2 - Depositar \n",
      "3 - Sacar \n",
      "4 - Sair \n",
      " 3\n",
      "Qual o valor do saque?\n",
      " 690\n"
     ]
    },
    {
     "name": "stdout",
     "output_type": "stream",
     "text": [
      "Saque de R$690.0 efetuado com sucesso!\n",
      "\n"
     ]
    },
    {
     "name": "stdin",
     "output_type": "stream",
     "text": [
      "Escolha uma opção: \n",
      "\n",
      "1 - Verificar saldo \n",
      "2 - Depositar \n",
      "3 - Sacar \n",
      "4 - Sair \n",
      " 1\n"
     ]
    },
    {
     "name": "stdout",
     "output_type": "stream",
     "text": [
      "Seu saldo é de R$655.0\n",
      "\n"
     ]
    },
    {
     "name": "stdin",
     "output_type": "stream",
     "text": [
      "Escolha uma opção: \n",
      "\n",
      "1 - Verificar saldo \n",
      "2 - Depositar \n",
      "3 - Sacar \n",
      "4 - Sair \n",
      " 4\n"
     ]
    },
    {
     "name": "stdout",
     "output_type": "stream",
     "text": [
      "\n",
      "Obrigado!\n"
     ]
    }
   ],
   "source": [
    "#Simulação de sistema bancário\n",
    "\n",
    "#Inicia a variável que armazena o saldo do cliente\n",
    "saldo = 1000\n",
    "\n",
    "#Inicia um loop que só se quebra com o break\n",
    "while True:\n",
    "    #Inicia a variável que armazena a escolha do cliente e dá as opções a ele\n",
    "    escolha = float(input(\"Escolha uma opção: \\n\\n1 - Verificar saldo \\n2 - Depositar \\n3 - Sacar \\n4 - Sair \\n\"))\n",
    "    \n",
    "    #Condicional que funcionará conforme o loop rodar\n",
    "    if escolha == 1:\n",
    "        print(f\"Seu saldo é de R${saldo}\\n\")\n",
    "    \n",
    "    elif escolha == 2:\n",
    "        depo = float(input(\"Qual o valor do depósito?\\n\"))\n",
    "        if depo < 0:\n",
    "            print(\"\\nDigite um valor positivo, por favor!\")\n",
    "        else:\n",
    "            saldo += depo\n",
    "            print(f\"Depósito de R${depo} efetuado com sucesso!\\n\")\n",
    "    \n",
    "    elif escolha == 3:\n",
    "        sac = float(input(\"Qual o valor do saque?\\n\"))\n",
    "        if sac > saldo:\n",
    "            print(\"\\nSaldo insuficiente!\")\n",
    "        elif sac < 0:\n",
    "            print(\"\\nDigite um valor positivo, por favor!\")\n",
    "        else:\n",
    "            saldo -= sac\n",
    "            print(f\"Saque de R${sac} efetuado com sucesso!\\n\")\n",
    "    \n",
    "    elif escolha == 4:\n",
    "        print(\"\\nObrigado!\")\n",
    "        #Quebra do loop, quando o cliente decide sair do sistema\n",
    "        break\n",
    "    \n",
    "    else:\n",
    "        print(\"\\nDigite uma opção válida, por favor!\")"
   ]
  },
  {
   "cell_type": "code",
   "execution_count": 26,
   "id": "97955f8c-2356-4ea4-b6bc-69c9ab796eb5",
   "metadata": {},
   "outputs": [
    {
     "name": "stdin",
     "output_type": "stream",
     "text": [
      "Escolha uma opção: \n",
      "1 - Adição \n",
      "2 - Subtração \n",
      "3 - Multiplicação \n",
      "4 - Divisão \n",
      "5 - Exponenciação \n",
      "6 - Radiciação \n",
      "7 - Fatorial \n",
      "8 - Sair 7\n",
      "Digite o número:\n",
      " 6\n"
     ]
    },
    {
     "name": "stdout",
     "output_type": "stream",
     "text": [
      "O fatorial do seu número é 720.0!\n",
      "\n"
     ]
    },
    {
     "name": "stdin",
     "output_type": "stream",
     "text": [
      "Escolha uma opção: \n",
      "1 - Adição \n",
      "2 - Subtração \n",
      "3 - Multiplicação \n",
      "4 - Divisão \n",
      "5 - Exponenciação \n",
      "6 - Radiciação \n",
      "7 - Fatorial \n",
      "8 - Sair 8\n"
     ]
    },
    {
     "name": "stdout",
     "output_type": "stream",
     "text": [
      "Até mais!\n"
     ]
    }
   ],
   "source": [
    "#Calculadora simples\n",
    "\n",
    "#Inicia um loop que para ao comando do usuário\n",
    "while True:\n",
    "    #Dá as opções e registra a escolhida pelo usuário\n",
    "    esc = int(input(\"Escolha uma opção: \\n1 - Adição \\n2 - Subtração \\n3 - Multiplicação \\n4 - Divisão \\n5 - Exponenciação \\n6 - Radiciação \\n7 - Fatorial \\n8 - Sair\"))\n",
    "    #Define os possíveis valores para a variável esc\n",
    "    match esc:\n",
    "         #Área de soma\n",
    "         case 1:\n",
    "             num1 = float(input(\"Digite o primeiro número:\"))\n",
    "             num2 = float(input(\"Digite o segundo número:\\n\"))\n",
    "             print(f\"A soma dos seus números é {num1 + num2}!\\n\")\n",
    "         #Área de subtração\n",
    "         case 2:\n",
    "             nm1 = float(input(\"Digite o primeiro número:\"))\n",
    "             nm2 = float(input(\"Digite o segundo número:\\n\"))\n",
    "             print(f\"A subtração dos seus números é {nm1 - nm2}!\\n\")\n",
    "         #Área de multiplação\n",
    "         case 3:\n",
    "             nu1 = float(input(\"Digite o primeiro número:\"))\n",
    "             nu2 = float(input(\"Digite o segundo número:\\n\"))\n",
    "             print(f\"A multiplicação dos seus números é {nu1 * nu2}!\\n\")\n",
    "         #Área de divisão\n",
    "         case 4:\n",
    "             n1 = float(input(\"Digite o primeiro número:\"))\n",
    "             n2 = float(input(\"Digite o segundo número:\\n\"))\n",
    "             #verifica se não existe uma divisão inválida\n",
    "             if n2 != 0:\n",
    "                 print(f\"A divisão dos seus números é {n1 / n2}!\\n\")\n",
    "             else:\n",
    "                 print(\"Erro! Não é possível dividir para 0\\n\")\n",
    "         #Área de exponenciação\n",
    "         case 5:\n",
    "             nume1 = float(input(\"Digite a base:\"))\n",
    "             nume2 = float(input(\"Digite o expoente:\\n\"))\n",
    "             print(f\"A exponenciação dos seus números é {nume1 ** nume2}!\\n\")\n",
    "         #Área de radiciação\n",
    "         case 6:\n",
    "             print(\"Área em desenvolvimento! Nosso dev ainda é muito burro para essa parte.\\n\")\n",
    "         #Área de fatorial\n",
    "         case 7:\n",
    "             number = float(input(\"Digite o número:\\n\"))\n",
    "             #Inicia a variável que armazena os valoress parcialmente multiplicados\n",
    "             counter = 1\n",
    "             #Inicia o loop que multiplicará o númro por todos os seus antecessores maiores que 0\n",
    "             while number > 0:\n",
    "                 counter *=  number\n",
    "                 number -= 1\n",
    "             print(f\"O fatorial do seu número é {counter}!\\n\")\n",
    "         #Área de saída do sistema\n",
    "         case 8:\n",
    "             print(\"Até mais!\")\n",
    "             break\n",
    "         #Área de validação de erros\n",
    "         case _:\n",
    "             print(\"Digite uma opção válida!\")"
   ]
  },
  {
   "cell_type": "code",
   "execution_count": 29,
   "id": "9c663ef0-70e5-49bb-8789-6daf2359672c",
   "metadata": {},
   "outputs": [
    {
     "name": "stdout",
     "output_type": "stream",
     "text": [
      "Multiplicando por 1, o resultado é 1\n",
      "Multiplicando por 2, o resultado é 2\n",
      "Multiplicando por 3, o resultado é 6\n",
      "Multiplicando por 4, o resultado é 24\n",
      "Multiplicando por 5, o resultado é 120\n",
      "O resultado final da multiplicação dos algarismos de 1 a 5 é 120\n"
     ]
    }
   ],
   "source": [
    "#Loop for\n",
    "\n",
    "total = 1\n",
    "\n",
    "for i in range(1, 6):\n",
    "    total *= i\n",
    "    print(f\"Multiplicando por {i}, o resultado é {total}\")\n",
    "print(f\"O resultado final da multiplicação dos algarismos de 1 a 5 é {total}\")"
   ]
  },
  {
   "cell_type": "code",
   "execution_count": 30,
   "id": "8e3c47e6-3dc8-486b-8780-69ba4d3fc8f3",
   "metadata": {},
   "outputs": [
    {
     "name": "stdin",
     "output_type": "stream",
     "text": [
      "Digite um número positivo inteiro 20\n"
     ]
    },
    {
     "name": "stdout",
     "output_type": "stream",
     "text": [
      "A soma de todos os pares de 1 até 20 é 110\n"
     ]
    }
   ],
   "source": [
    "#Somando todos os pares de 1 até N\n",
    "\n",
    "n = int(input(\"Digite um número positivo inteiro\"))\n",
    "soma = 0 \n",
    "\n",
    "#Loop que itera de 1 até n\n",
    "for i in range(1, n + 1):\n",
    "    #Se o resto da divisão de i por 2 for 0, ele é par e faz parte da soma\n",
    "    if i % 2 == 0:\n",
    "        soma += i\n",
    "    #Se não for 0, ele é ímpar e vai ser ignorado\n",
    "    else:\n",
    "        pass\n",
    "\n",
    "print(f\"A soma de todos os pares de 1 até {n} é {soma}\")"
   ]
  },
  {
   "cell_type": "code",
   "execution_count": 33,
   "id": "b53cb2ca-67b0-427f-b355-2634ae9285c5",
   "metadata": {},
   "outputs": [
    {
     "name": "stdin",
     "output_type": "stream",
     "text": [
      "Você quer ver a tabuada de que número? 8\n"
     ]
    },
    {
     "name": "stdout",
     "output_type": "stream",
     "text": [
      "8 x 0 = 0\n",
      "8 x 1 = 8\n",
      "8 x 2 = 16\n",
      "8 x 3 = 24\n",
      "8 x 4 = 32\n",
      "8 x 5 = 40\n",
      "8 x 6 = 48\n",
      "8 x 7 = 56\n",
      "8 x 8 = 64\n",
      "8 x 9 = 72\n",
      "8 x 10 = 80\n"
     ]
    }
   ],
   "source": [
    "#Tabuada\n",
    "#Pede o númeroo ao usuário\n",
    "numero = int(input(\"Você quer ver a tabuada de que número?\"))\n",
    "\n",
    "#Loop que itera sobre os valores fixos de uma tabuada\n",
    "for i in range(0, 11):\n",
    "    print(f\"{numero} x {i} = {numero * i}\")"
   ]
  },
  {
   "cell_type": "code",
   "execution_count": 36,
   "id": "a1f586e2-364c-436b-b1aa-a4674e370fba",
   "metadata": {},
   "outputs": [
    {
     "name": "stdin",
     "output_type": "stream",
     "text": [
      "Você quer a soma dos quadrados de 1 até que número? 10\n"
     ]
    },
    {
     "name": "stdout",
     "output_type": "stream",
     "text": [
      "A soma dos quadrados de 1 até 10 é 385\n"
     ]
    }
   ],
   "source": [
    "#Soma dos quadrados do 1 até N\n",
    "\n",
    "numa = int(input(\"Você quer a soma dos quadrados de 1 até que número?\"))\n",
    "soma = 0\n",
    "\n",
    "for i in range(1, numa + 1):\n",
    "    soma += i ** 2\n",
    "\n",
    "print(f\"A soma dos quadrados de 1 até {numa} é {soma}\")"
   ]
  },
  {
   "cell_type": "code",
   "execution_count": null,
   "id": "eb01610f-fda2-4917-8950-a03dcdaa822c",
   "metadata": {},
   "outputs": [],
   "source": []
  }
 ],
 "metadata": {
  "kernelspec": {
   "display_name": "Python 3 (ipykernel)",
   "language": "python",
   "name": "python3"
  },
  "language_info": {
   "codemirror_mode": {
    "name": "ipython",
    "version": 3
   },
   "file_extension": ".py",
   "mimetype": "text/x-python",
   "name": "python",
   "nbconvert_exporter": "python",
   "pygments_lexer": "ipython3",
   "version": "3.11.7"
  }
 },
 "nbformat": 4,
 "nbformat_minor": 5
}
