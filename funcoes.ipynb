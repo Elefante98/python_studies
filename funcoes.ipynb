{
 "cells": [
  {
   "cell_type": "code",
   "execution_count": 6,
   "id": "3390ae5e-2da6-4115-a78e-d780416e9c6b",
   "metadata": {},
   "outputs": [
    {
     "name": "stdin",
     "output_type": "stream",
     "text": [
      "Digite o primeiro número 22\n",
      "Digite o segundo número 252\n"
     ]
    },
    {
     "name": "stdout",
     "output_type": "stream",
     "text": [
      "\n",
      "A soma dos dois números é 274\n"
     ]
    }
   ],
   "source": [
    "#primeiros passos em funções\n",
    "\n",
    "#uma função incia-se com a palavra chave \"def\", recebe argumrntos (a e b, nesse caso)...\n",
    "def soma(a, b):\n",
    "    #...e retorna algo, encerrando seu funcionamento\n",
    "    return a + b\n",
    "\n",
    "x = int(input(\"Digite o primeiro número\"))\n",
    "y = int(input(\"Digite o segundo número\"))\n",
    "\n",
    "#para funcionar, a função precisa ser chamada\n",
    "#eu atribuí ao argumento a, o valor de x; ao argumento b, o valor de y. ambos, x e y, são inputs\n",
    "s = soma(x, y)\n",
    "\n",
    "print(f\"\\nA soma dos dois números é {s}\")"
   ]
  },
  {
   "cell_type": "code",
   "execution_count": 47,
   "id": "ce23b1e9-7347-4e97-b098-f5f8fbcbf7f0",
   "metadata": {},
   "outputs": [
    {
     "name": "stdout",
     "output_type": "stream",
     "text": [
      "O resultado da soma dos números é 1035\n"
     ]
    }
   ],
   "source": [
    "#uma função com vários parâmetros pode receber o argumento *args\n",
    "\n",
    "#quando o parametro recebido pela função é *agrs, estamos esperando muitos argumentos, que serão tratados como tuplas\n",
    "def soma2(*args):\n",
    "    return sum(args)\n",
    "\n",
    "resultado = soma2(1,32,55,436,453,45,13)\n",
    "\n",
    "print(f\"O resultado da soma dos números é {resultado}\")"
   ]
  },
  {
   "cell_type": "code",
   "execution_count": 45,
   "id": "7d3b2930-ac21-44c7-a53e-748092c715f1",
   "metadata": {},
   "outputs": [
    {
     "name": "stdin",
     "output_type": "stream",
     "text": [
      "Digite uma sequência de números separados por espaços: 12 24 2 13 42\n"
     ]
    },
    {
     "name": "stdout",
     "output_type": "stream",
     "text": [
      "\n",
      "O maior número da lista é 42, o menor é 2 e a média deles é 18.60\n"
     ]
    }
   ],
   "source": [
    "#função que calcula estatíticas dos numeros\n",
    "\n",
    "x = input(\"Digite uma sequência de números separados por espaços:\")\n",
    "\n",
    "#inicia-se uma função que recebe um argumento\n",
    "def estatiticas(a):\n",
    "    #inicia-se uma lista que recebe cada um dos valores recebidos do input, separados pelo espaço e convertidos para inteiros\n",
    "    lista = [int(i) for i in x.split()]\n",
    "    #media é igual a soma dos elementos, dividido pela quantidade de elementos\n",
    "    media = sum(lista)/len(lista)\n",
    "    maior = max(lista)\n",
    "    menor = min(lista)\n",
    "    print(f\"\\nO maior número da lista é {maior}, o menor é {menor} e a média deles é {media:.2f}\")\n",
    "\n",
    "estatiticas(x)"
   ]
  },
  {
   "cell_type": "code",
   "execution_count": 46,
   "id": "9453af1e-ddd3-4d99-a488-016fd5c9671d",
   "metadata": {},
   "outputs": [
    {
     "name": "stdin",
     "output_type": "stream",
     "text": [
      "Digite seus números separados por espaço: 12 24 2 13 42\n"
     ]
    },
    {
     "name": "stdout",
     "output_type": "stream",
     "text": [
      "\n",
      "O maior número da sua lista é 42, o menor é 2 e a média deles é 18.6\n"
     ]
    }
   ],
   "source": [
    "#refazendo o exercicio acima, usando menos código\n",
    "\n",
    "#define-se uma função que recebe *args\n",
    "def estatiticas1(*args):\n",
    "    #essa função retorna 3 valores, separados por vírgula: a média dos parametros, o maior dos parametros e o menor\n",
    "    return sum(args)/len(args), max(args), min(args)\n",
    "\n",
    "#a variavel global numeros recebe um input separando os elementos com base nos espaços, transformando cada um em inteiro e depois em lista\n",
    "numeros = list(map(int, input(\"Digite seus números separados por espaço:\").split()))\n",
    "\n",
    "#cada uma das variaveis recebe um dos tres valores retornados pela função, que recebe a lista\n",
    "media, maior, menor = estatiticas1(*numeros)\n",
    "\n",
    "print(f\"\\nO maior número da sua lista é {maior}, o menor é {menor} e a média deles é {media}\")"
   ]
  },
  {
   "cell_type": "code",
   "execution_count": 1,
   "id": "ae46c4cb-3d6b-4aa8-82df-b289690b7558",
   "metadata": {},
   "outputs": [
    {
     "name": "stdout",
     "output_type": "stream",
     "text": [
      "Nome: Moisés\n",
      "Idade: 18\n",
      "Nacionalidade: Brasileiro\n",
      "Altura: 188\n",
      "Peso: 88\n"
     ]
    }
   ],
   "source": [
    "#kwargs é um parametro especial que recebe valores em quantidades variaveis e em formato de dicionario\n",
    "#Sua nomenclatura não becessáriamente precisa ser kwargs, mas deve vir com \"**\" antes\n",
    "def informacoes(**kwargs):\n",
    "    for chave, valor in kwargs.items():\n",
    "        print(chave + \":\", str(valor))\n",
    "\n",
    "\n",
    "\n",
    "informacoes(Nome= \"Moisés\", Idade= 18, Nacionalidade= \"Brasileiro\", Altura= 188, Peso= 88)"
   ]
  },
  {
   "cell_type": "code",
   "execution_count": 5,
   "id": "ac0883b6-1a73-4f96-a9ac-e6e81257e640",
   "metadata": {},
   "outputs": [
    {
     "name": "stdout",
     "output_type": "stream",
     "text": [
      "1\n",
      "2\n",
      "3\n"
     ]
    }
   ],
   "source": [
    "#Variaveis globais e locais\n",
    "\n",
    "#Inicia-se uma variável global (Que não se encontra dentro de um bloco de código)\n",
    "counter = 0 \n",
    "\n",
    "#Inicia-se uma função que vai usar a variável global\n",
    "def incrementar_counter():\n",
    "    #Nós conseguiremos acessar uma variável global dentro de uma função normalmente, mas, para modificá-la, precisaremos usar a palavra chave \"global\"\n",
    "    global counter\n",
    "    counter += 1\n",
    "    print(counter)\n",
    "\n",
    "incrementar_counter()\n",
    "incrementar_counter()\n",
    "incrementar_counter()"
   ]
  },
  {
   "cell_type": "code",
   "execution_count": 7,
   "id": "9bce923d-e1b5-40c1-bfd6-32d2ef3d1f92",
   "metadata": {},
   "outputs": [
    {
     "name": "stdout",
     "output_type": "stream",
     "text": [
      "shitzu\n"
     ]
    }
   ],
   "source": [
    "#Variavel nonlocal\n",
    "\n",
    "#Usamos a palavra chave \"nonlocal\" para referenciar variaveis no escopo não global mais proximo, como em funçoes aninhadas, por exemplo\n",
    "def funcao1():\n",
    "    dog = \"lhasa-apso\"\n",
    "    def funcao2():\n",
    "        nonlocal dog\n",
    "        dog = \"shitzu\"\n",
    "        print(dog)\n",
    "    funcao2()\n",
    "\n",
    "funcao1()\n",
    "\n",
    "#é como se estivéssemos importando a variavel"
   ]
  },
  {
   "cell_type": "code",
   "execution_count": 11,
   "id": "0226c18f-3bb6-4015-a207-11d7594c847c",
   "metadata": {},
   "outputs": [
    {
     "name": "stdout",
     "output_type": "stream",
     "text": [
      "Olá, Moisés, tudo bem?\n"
     ]
    }
   ],
   "source": [
    "#Funções são objetos de primeira classe, ou seja: podem ser tratadas como strings, variaveis, etc\n",
    "\n",
    "#Eu posso atribuir uma funcao a uma variavel:\n",
    "def saudacao(nome):\n",
    "    return f\"Olá, {nome}, tudo bem?\"\n",
    "\n",
    "#atribuo a funcao à variavel, sem parenteses\n",
    "cumprimentar = saudacao\n",
    "\n",
    "#agora sim, posso usar os parenteses\n",
    "print(cumprimentar(\"Moisés\"))"
   ]
  },
  {
   "cell_type": "code",
   "execution_count": 12,
   "id": "e3c18e69-13d1-443f-996f-33e35326f629",
   "metadata": {},
   "outputs": [
    {
     "name": "stdout",
     "output_type": "stream",
     "text": [
      "Olá, Moisés!\n"
     ]
    }
   ],
   "source": [
    "#Funcoes tambem podem ser passadas como argumento:\n",
    "\n",
    "#Incia uma funcao de saudacao, que recebe o nome da pessoa como argumento\n",
    "def saudation(name):\n",
    "    return f\"Olá, {name}!\"\n",
    "\n",
    "#Inicia outra função, que recebe uma funcao e um nome como argumento\n",
    "def hello(funcao, nome):\n",
    "    #E retorna a funcao recebida como argumento, recebendo o argumento nome como argumento\n",
    "    return funcao(nome)\n",
    "\n",
    "print(hello(saudation, \"Moisés\"))\n"
   ]
  },
  {
   "cell_type": "code",
   "execution_count": 14,
   "id": "36332b19-829a-4a27-8f4f-0c064a940abf",
   "metadata": {},
   "outputs": [
    {
     "name": "stdout",
     "output_type": "stream",
     "text": [
      "Eai, cumpadi\n"
     ]
    }
   ],
   "source": [
    "#Funções podem retornar outras funções\n",
    "\n",
    "# a funçao saudacao recebe outras funçoes...\n",
    "def saudacao(nivel):\n",
    "    def saudacao_basica():\n",
    "        return \"Olá\"\n",
    "        \n",
    "    def saudacao_conhecido():\n",
    "        return \"Opa, colega\"\n",
    "        \n",
    "    def saudacao_proximo():\n",
    "        return \"Eai, cumpadi\"\n",
    "        \n",
    "    #...e retorna uma delas, com base no parametro recebido\n",
    "    if nivel == \"proximo\":\n",
    "        return saudacao_proximo()\n",
    "    elif nivel == \"conhecido\":\n",
    "        return saudacao_conhecido()\n",
    "    else:\n",
    "        return saudacao_basica()\n",
    "\n",
    "print(saudacao(\"proximo\"))"
   ]
  },
  {
   "cell_type": "code",
   "execution_count": 27,
   "id": "62fc8f61-15fe-452c-8aa2-4d6a184f52db",
   "metadata": {},
   "outputs": [
    {
     "name": "stdin",
     "output_type": "stream",
     "text": [
      "Digite o primeiro número: 9\n",
      "\n",
      "Digite o segundo número: 3\n",
      "Escolha uma opção: \n",
      "1- Adição \n",
      "2- Subtração \n",
      "3- Multiplicação \n",
      "4- Divisão\n",
      " 4\n"
     ]
    },
    {
     "name": "stdout",
     "output_type": "stream",
     "text": [
      "\n",
      "A divisão dos números é 3.0\n"
     ]
    }
   ],
   "source": [
    "#Calculadora simples com funções\n",
    "\n",
    "def calculadora(num1, num2):\n",
    "\n",
    "    escolha = int(input(\"Escolha uma opção: \\n1- Adição \\n2- Subtração \\n3- Multiplicação \\n4- Divisão\\n\"))\n",
    "    \n",
    "    def adicao(num1, num2):\n",
    "        return f\"\\nA soma dos números é {num1 + num2}\"\n",
    "        \n",
    "    def subtracao(num1, num2):\n",
    "        return f\"\\nA subtração dos números é {num1 - num2}\"\n",
    "        \n",
    "    def multiplicacao(num1, num2):\n",
    "        return f\"\\nA multiplicação dos números é {num1 * num2}\"\n",
    "        \n",
    "    def divisao(num1, num2):\n",
    "        return f\"\\nA divisão dos números é {num1 / num2}\"\n",
    "        \n",
    "    if escolha == 1:\n",
    "        return adicao(num1, num2)\n",
    "    elif escolha == 2:\n",
    "        return sbtracao(num1, num2)\n",
    "    elif escolha == 3:\n",
    "        return multiplicacao(num1, num2)\n",
    "    elif escolha == 4:\n",
    "        return divisao(num1, num2)\n",
    "    else:\n",
    "        print(\"Digite um número válido!\")\n",
    "\n",
    "num1, num2 = int(input(\"Digite o primeiro número:\")), int(input(\"\\nDigite o segundo número:\"))\n",
    "print(calculadora(num1, num2))"
   ]
  },
  {
   "cell_type": "code",
   "execution_count": null,
   "id": "8bae48c5-cdbb-4d3f-8a8d-316e180e1cda",
   "metadata": {},
   "outputs": [],
   "source": []
  }
 ],
 "metadata": {
  "kernelspec": {
   "display_name": "Python 3 (ipykernel)",
   "language": "python",
   "name": "python3"
  },
  "language_info": {
   "codemirror_mode": {
    "name": "ipython",
    "version": 3
   },
   "file_extension": ".py",
   "mimetype": "text/x-python",
   "name": "python",
   "nbconvert_exporter": "python",
   "pygments_lexer": "ipython3",
   "version": "3.11.7"
  }
 },
 "nbformat": 4,
 "nbformat_minor": 5
}
