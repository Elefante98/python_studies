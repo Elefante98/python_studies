{
 "cells": [
  {
   "cell_type": "code",
   "execution_count": 2,
   "id": "1a47a907-07b0-41dd-a867-8c3ce28a7d39",
   "metadata": {},
   "outputs": [
    {
     "name": "stdout",
     "output_type": "stream",
     "text": [
      "*\n",
      "**\n",
      "***\n",
      "****\n",
      "*****\n"
     ]
    }
   ],
   "source": [
    "#Árvore de natal com laço for\n",
    "\n",
    "for i in range(1, 6):\n",
    "    print(\"*\" * i)"
   ]
  },
  {
   "cell_type": "code",
   "execution_count": 13,
   "id": "733fe057-f367-4a62-b071-165d4fe0aa70",
   "metadata": {},
   "outputs": [
    {
     "name": "stdin",
     "output_type": "stream",
     "text": [
      "Digite a sua lista de palavras cavalo, vaca, correndo, azul, pasta, está, andando, puta\n"
     ]
    },
    {
     "name": "stdout",
     "output_type": "stream",
     "text": [
      "vaca\n",
      "azul\n",
      "está\n",
      "puta\n"
     ]
    }
   ],
   "source": [
    "#Programa que recebe uma lista de palavras e imprime apenas as que têm 4 letras\n",
    "inp = str(input(\"Digite a sua lista de palavras\"))\n",
    "#a variável lista recebe uma lista contendo as palavras recebidas do usuário\n",
    "lista = inp.split(\", \")\n",
    "\n",
    "#O loop itera por todas as palavras da lista\n",
    "for item in lista:\n",
    "    #Se o comprimento do item for igual a 4...\n",
    "    if len(item) == 4:\n",
    "        #...o programa imprime o item\n",
    "        print(item)\n",
    "    else:\n",
    "        pass"
   ]
  },
  {
   "cell_type": "code",
   "execution_count": 17,
   "id": "5b4219f4-8502-4e97-9289-163792efd872",
   "metadata": {},
   "outputs": [
    {
     "name": "stdout",
     "output_type": "stream",
     "text": [
      "[1, 9, 25, 49, 81]\n",
      "[1, 9, 25, 49, 81]\n"
     ]
    }
   ],
   "source": [
    "#List comprehension\n",
    "\n",
    "#inicia uma lista que recebe: x ao quadrado, onde x pode ser qualquer número de 1 a 9, se x for impar\n",
    "quadrados_impares = [x ** 2 for x in range(10) if x % 2 != 0]\n",
    "\n",
    "print(quadrados_impares)\n",
    "\n",
    "#Ou\n",
    "\n",
    "lista = []\n",
    "for x in range(0, 10):\n",
    "    if x % 2 != 0:\n",
    "        lista.append(x ** 2)\n",
    "\n",
    "print(lista)"
   ]
  },
  {
   "cell_type": "code",
   "execution_count": 22,
   "id": "57f601e9-d183-4844-8d1f-5a73935eb0af",
   "metadata": {},
   "outputs": [
    {
     "name": "stdout",
     "output_type": "stream",
     "text": [
      "['H', 'l', 'l', 'w', 'r', 'l', 'd']\n",
      "['H', 'l', 'l', 'w', 'r', 'l', 'd']\n"
     ]
    }
   ],
   "source": [
    "#programa que imprime as consoantes de uma string\n",
    "\n",
    "text = \"Hello, world!\"\n",
    "\n",
    "#inicia uma lista que recebe um loop que itera sobre os caracteres da string da variável text e os adiciona à lista, se eles não estiverem presentes na lista citada\n",
    "consoantes = [char for char in text if char.lower() not in \"aeiou,! \"]\n",
    "\n",
    "print(consoantes)\n",
    "\n",
    "#Ou...\n",
    "\n",
    "text = \"Hello, world!\"\n",
    "conso = []\n",
    "\n",
    "for char in text:\n",
    "    if char.lower() not in \"aeiou,! \":\n",
    "        conso.append(char)\n",
    "\n",
    "print(conso)"
   ]
  },
  {
   "cell_type": "code",
   "execution_count": 43,
   "id": "47952fd1-2e32-4287-a4ad-eda066bdbc3f",
   "metadata": {},
   "outputs": [
    {
     "name": "stdin",
     "output_type": "stream",
     "text": [
      "Digite um número inteiro positivo: 0\n"
     ]
    },
    {
     "name": "stdout",
     "output_type": "stream",
     "text": [
      "Número inválido\n"
     ]
    },
    {
     "name": "stdin",
     "output_type": "stream",
     "text": [
      "Digite um número inteiro positivo: 8\n"
     ]
    },
    {
     "name": "stdout",
     "output_type": "stream",
     "text": [
      "\n",
      "O fatorial de 8 é 40320\n"
     ]
    }
   ],
   "source": [
    "#Fatorial de um número usando laço for\n",
    "\n",
    "fatorial = 1\n",
    "\n",
    "#Loop que auxilia no tratamento de erros, funcionando até que o usuário digite um número válido\n",
    "while True:\n",
    "    #Pede-se o número ao usuário\n",
    "    n = int(input(\"Digite um número inteiro positivo:\"))\n",
    "    #Tratamento de erro\n",
    "    if n <= 0:\n",
    "        print(\"Número inválido\")\n",
    "    #Caso aceito\n",
    "    else:\n",
    "        #Loop que multiplica n por todos seus antecessores maiores que 0\n",
    "        for i in range(1, n + 1):\n",
    "            fatorial *= i\n",
    "        #Quebra do loop while\n",
    "        break\n",
    "\n",
    "print(f\"\\nO fatorial de {n} é {fatorial}\")"
   ]
  },
  {
   "cell_type": "code",
   "execution_count": 57,
   "id": "d6e07aa7-ae0c-4a5f-9d91-bb330fd5d063",
   "metadata": {},
   "outputs": [
    {
     "name": "stdout",
     "output_type": "stream",
     "text": [
      "**********\n",
      "**********\n",
      "**********\n",
      "\n",
      "**********\n",
      "**********\n",
      "**********\n"
     ]
    }
   ],
   "source": [
    "#Criando um retângulo com laço for\n",
    "\n",
    "#Para cada linha do retângulo..;\n",
    "for i in range(1, 4):\n",
    "    #...o programa imprime 10 \"*\"\n",
    "    print(\"*\" * 10)\n",
    "\n",
    "#Pula a linha\n",
    "print()\n",
    "\n",
    "#ou...\n",
    "\n",
    "#Para cada linha do retângulo...\n",
    "for i in range(3):\n",
    "    #e para cada coluna dele...\n",
    "    for j in range(10):\n",
    "        #...o programa imprime um \"*\"\n",
    "        print(\"*\", end= \"\")\n",
    "    #Quebra de linha toda vez que iterar sobre todas as colunas\n",
    "    print()"
   ]
  },
  {
   "cell_type": "code",
   "execution_count": 74,
   "id": "9854164a-b09f-42bf-b12b-4f9f89e84f8d",
   "metadata": {},
   "outputs": [
    {
     "name": "stdout",
     "output_type": "stream",
     "text": [
      "    *    \n",
      "   ***   \n",
      "  *****  \n",
      " ******* \n",
      "*********\n"
     ]
    }
   ],
   "source": [
    "#Criando um triângulo usando laço for nested\n",
    "\n",
    "#Inicia a variável com a quantidade inicial de espaços antes e depois do asterisco\n",
    "espacos = 4\n",
    "\n",
    "#Inicia a variável com a quantidade inicial de asteriscos\n",
    "ast = 1\n",
    "\n",
    "#Loop que vai iterar nas linhas\n",
    "for i in range(5):\n",
    "    #Para cada linha, o loop imprime a quantidade de espaços, antes e depois do asterisco, definida pela variável espacos, a quantidade de asteriscos definidos na variável ast...\n",
    "    print(\" \" * espacos + \"*\" * ast + \" \" * espacos)\n",
    "    #...e decrementa os espaços em 1...\n",
    "    espacos -= 1\n",
    "    #...ao mesmo tempo que incrementa os asteriscos em 2\n",
    "    ast += 2"
   ]
  },
  {
   "cell_type": "code",
   "execution_count": null,
   "id": "5b24479e-dcf5-49d4-9b0d-253102ddbb6c",
   "metadata": {},
   "outputs": [],
   "source": []
  }
 ],
 "metadata": {
  "kernelspec": {
   "display_name": "Python 3 (ipykernel)",
   "language": "python",
   "name": "python3"
  },
  "language_info": {
   "codemirror_mode": {
    "name": "ipython",
    "version": 3
   },
   "file_extension": ".py",
   "mimetype": "text/x-python",
   "name": "python",
   "nbconvert_exporter": "python",
   "pygments_lexer": "ipython3",
   "version": "3.11.7"
  }
 },
 "nbformat": 4,
 "nbformat_minor": 5
}
