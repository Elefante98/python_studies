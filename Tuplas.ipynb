{
 "cells": [
  {
   "cell_type": "code",
   "execution_count": 3,
   "id": "13c17738-0b35-4cd7-bf42-d60a7af3fe79",
   "metadata": {},
   "outputs": [
    {
     "name": "stdout",
     "output_type": "stream",
     "text": [
      "A arte da guerra\n",
      "\n",
      "('Oslo',)\n",
      "\n",
      "('Mônaco', 'Jatinho', 14)\n",
      "\n",
      "('Oslo', 'Mônaco', 'Vancouver', 'Califórnia', 'Fernando de Noronha')\n"
     ]
    }
   ],
   "source": [
    "#Tuplas são conjuntos de dados similares às listas, mas são imutáveis\n",
    "livro = (\"A arte da guerra\", \"Sun tzu\", \"978-8572835080\")\n",
    "#Os elementos de uma tupla ficam entre parênteses\n",
    "\n",
    "#e são acessados de forma similar às listas\n",
    "titulo = livro[0]\n",
    "\n",
    "print(titulo)\n",
    "print()\n",
    "\n",
    "\n",
    "#Tuplas com um único elemento são definidas com uma vírgula após o elemento\n",
    "cidade = (\"Oslo\",)\n",
    "print(cidade)\n",
    "print()\n",
    "\n",
    "#Tuplas podem ser definidas sem parenteses\n",
    "destino = \"Mônaco\", \"Jatinho\", 14\n",
    "print(destino)\n",
    "print()\n",
    "\n",
    "\n",
    "#Função tuple(): transforma uma lista em tupla\n",
    "destinos = [\"Oslo\", \"Mônaco\", \"Vancouver\", \"Califórnia\", \"Fernando de Noronha\"]\n",
    "dest = tuple(destinos)\n",
    "\n",
    "print(dest)"
   ]
  },
  {
   "cell_type": "code",
   "execution_count": 4,
   "id": "a09f7e6a-b67d-4389-ab4e-1742b6dfa1de",
   "metadata": {},
   "outputs": [
    {
     "name": "stdout",
     "output_type": "stream",
     "text": [
      "Último destino: Fernando de Noronha\n"
     ]
    }
   ],
   "source": [
    "destinos1 = [\"Oslo\", \"Mônaco\", \"Vancouver\", \"Califórnia\", \"Fernando de Noronha\"]\n",
    "\n",
    "#Podemos usar fatiamento (slice) em tuplas\n",
    "print(\"Último destino:\", destinos1[-1])"
   ]
  },
  {
   "cell_type": "code",
   "execution_count": 6,
   "id": "f82cb73a-8b90-492b-a5b4-3d141fcc02c2",
   "metadata": {},
   "outputs": [
    {
     "name": "stdout",
     "output_type": "stream",
     "text": [
      "((55, 65, 80), ['Bebidas acima de 100ml', 'Armas de fogo', 'Exlosivos', 'Baterias de lítio'])\n",
      "\n",
      "((55, 65, 80), ['Bebidas acima de 100ml', 'Armas de fogo', 'Exlosivos', 'Baterias de lítio', 'Objetos cortantes'])\n",
      "\n"
     ]
    }
   ],
   "source": [
    "#Tuplas são imutáveis, a menos que seus elementos sejam mutáveis\n",
    "dimensoes = (55, 65, 80)\n",
    "\n",
    "#Tentar mudar um elemento de uma tupla retorna um erro\n",
    "#dimensoes[1] = 60 #Saída: ERROR\n",
    "\n",
    "#Porém, se os elementos da tupla forem mutáveis, como uma lista, podemos alterar seus itens\n",
    "objetos_proibidos = [\"Bebidas acima de 100ml\", \"Armas de fogo\", \"Exlosivos\", \"Baterias de lítio\"]\n",
    "\n",
    "regras_bagagem = (dimensoes, objetos_proibidos)\n",
    "print(regras_bagagem)\n",
    "print()\n",
    "\n",
    "regras_bagagem[1].append(\"Objetos cortantes\")\n",
    "print(regras_bagagem)\n",
    "print()"
   ]
  },
  {
   "cell_type": "code",
   "execution_count": 10,
   "id": "3d1eb9a9-c437-40f6-943d-6dbae4e6eeee",
   "metadata": {},
   "outputs": [
    {
     "name": "stdout",
     "output_type": "stream",
     "text": [
      "Suas duas tuplas juntas: (1, 2, 3, 4, 5, 6)\n",
      "\n",
      "Sua tupla repetida: (1, 2, 3, 1, 2, 3, 1, 2, 3)\n",
      "\n",
      "O número 3 está na tupla: True\n"
     ]
    }
   ],
   "source": [
    "#Operações com tuplas\n",
    "tupla1 = (1, 2, 3)\n",
    "tupla2 = (4, 5, 6)\n",
    "\n",
    "\n",
    "#Concatenação: \"+\"\n",
    "print(f\"Suas duas tuplas juntas: {tupla1 + tupla2}\")\n",
    "print()\n",
    "\n",
    "\n",
    "#Repetição: *\n",
    "print(f\"Sua tupla repetida: {tupla1 * 3}\")\n",
    "print()\n",
    "\n",
    "\n",
    "\n",
    "#Verificar se um elemento está na tupla: x in tupla = (x, y, z)\n",
    "print(f\"O número 3 está na tupla: {3 in tupla1}\")\n"
   ]
  },
  {
   "cell_type": "code",
   "execution_count": 25,
   "id": "f3bf6844-957f-43b4-961a-355d6d304855",
   "metadata": {},
   "outputs": [
    {
     "name": "stdout",
     "output_type": "stream",
     "text": [
      "Água sanitária tem 3 vendas\n",
      "Sabão em pó tem 1 vendas\n",
      "Sabão em barra tem 1 vendas\n",
      "Amaciante tem 1 vendas\n",
      "Desinfetante tem 1 vendas\n",
      "Detergente tem 1 vendas\n",
      "\n",
      "A primeira aparição do produto Água sanitária foi na 1° venda\n",
      "A primeira aparição do produto Sabão em pó foi na 2° venda\n",
      "A primeira aparição do produto Sabão em barra foi na 7° venda\n",
      "A primeira aparição do produto Amaciante foi na 3° venda\n",
      "A primeira aparição do produto Desinfetante foi na 5° venda\n",
      "A primeira aparição do produto Detergente foi na 6° venda\n"
     ]
    }
   ],
   "source": [
    "#Métodos em tuplas\n",
    "vendas_id_produto = (101, 103, 342, 101, 733, 839, 292, 101)\n",
    "produtos = {\"Água sanitária\": 101, \"Sabão em pó\": 103, \"Sabão em barra\": 292, \"Amaciante\": 342, \"Desinfetante\": 733, \"Detergente\": 839}\n",
    "\n",
    "# count(): conta o número de vezes que um elemento aparece um uma tupla\n",
    "for produto in produtos:\n",
    "    print(f\"{produto} tem {vendas_id_produto.count(produtos[produto])} vendas\")\n",
    "\n",
    "print()\n",
    "#Depois a gente aprende sobre dicionários =)\n",
    "\n",
    "\n",
    "# index(): retorna o índice do primeiro elemento que corresponde ao argumento especificado\n",
    "for prod in produtos:\n",
    "    print(f\"A primeira aparição do produto {prod} foi na {vendas_id_produto.index(produtos[prod]) + 1}° venda\")\n"
   ]
  },
  {
   "cell_type": "code",
   "execution_count": 26,
   "id": "af58768a-8def-45d3-8761-585a05793405",
   "metadata": {},
   "outputs": [
    {
     "name": "stdout",
     "output_type": "stream",
     "text": [
      "O Moisés tem 18 anos e tirou 98.5\n"
     ]
    }
   ],
   "source": [
    "#Desempacotamento de tuplas\n",
    "\n",
    "\n",
    "#A tupla abaixo recebe, respectivamente, o nome, idade e nota de um estudante\n",
    "estudante_info = (\"Moisés\", 18, 98.5)\n",
    "\n",
    "\n",
    "#Podemos desempacotar as iformações, armazenando-as em várias variáveis\n",
    "nome, idade, nota = estudante_info\n",
    "print(f\"O {nome} tem {idade} anos e tirou {nota}\")"
   ]
  },
  {
   "cell_type": "code",
   "execution_count": 29,
   "id": "c2fe4d40-75b5-42ea-aabd-1e0437ebb3e9",
   "metadata": {},
   "outputs": [
    {
     "name": "stdout",
     "output_type": "stream",
     "text": [
      "Tivemos 185 vendas e o produto mais vendido foi o A.\n"
     ]
    }
   ],
   "source": [
    "#Retornando múltiplos valores \n",
    "def analisar_vendas(vendas_A, vendas_B):\n",
    "    total_vendas = vendas_A + vendas_B\n",
    "    top_vendido = \"A\" if vendas_A > vendas_B else \"B\"\n",
    "    #Retornamos múltiplos valores\n",
    "    return total_vendas, top_vendido\n",
    "\n",
    "#e armazenamos ele em variáveis, usando o desempacotar\n",
    "vendas_totais, mais_vendido = analisar_vendas(100, 85)\n",
    "\n",
    "print(f\"Tivemos {vendas_totais} vendas e o produto mais vendido foi o {mais_vendido}.\")"
   ]
  },
  {
   "cell_type": "code",
   "execution_count": 31,
   "id": "29dc165c-6da0-47a0-9c1d-df7e12fcc46f",
   "metadata": {},
   "outputs": [
    {
     "name": "stdout",
     "output_type": "stream",
     "text": [
      "Qantidade de vendas do produto A: 100\n",
      "Qantidade de vendas do produto B: 107\n",
      "\n",
      "Qantidade de vendas do produto A: 223\n",
      "Qantidade de vendas do produto B: 189\n",
      "\n",
      "Qantidade de vendas do produto A: 189\n",
      "Qantidade de vendas do produto B: 100\n",
      "\n"
     ]
    }
   ],
   "source": [
    "#Iterando sobre tuplas\n",
    "vendas = ([100, 107], [223, 189], [189, 100])\n",
    "\n",
    "for venda_A, venda_B in vendas:\n",
    "    print(f\"Qantidade de vendas do produto A: {venda_A}\")\n",
    "    print(f\"Qantidade de vendas do produto B: {venda_B}\")\n",
    "    print()"
   ]
  },
  {
   "cell_type": "code",
   "execution_count": 32,
   "id": "b19862a5-d501-4fc6-87d8-38a5aab1303b",
   "metadata": {},
   "outputs": [
    {
     "name": "stdout",
     "output_type": "stream",
     "text": [
      "100\n",
      "85\n",
      "\n",
      "85\n",
      "100\n"
     ]
    }
   ],
   "source": [
    "#trocando os valores entre duas variaveis\n",
    "vendasA = 100\n",
    "vendasB = 85\n",
    "print(vendasA)\n",
    "print(vendasB)\n",
    "print()\n",
    "\n",
    "\n",
    "#dessa forma, invertemos os valores entre as duas variaveis\n",
    "vendasA, vendasB = vendasB, vendasA\n",
    "print(vendasA)\n",
    "print(vendasB)"
   ]
  },
  {
   "cell_type": "code",
   "execution_count": 35,
   "id": "5b759109-2f6a-4588-b715-34088ddaabe1",
   "metadata": {},
   "outputs": [
    {
     "name": "stdout",
     "output_type": "stream",
     "text": [
      "True\n",
      "\n",
      "True\n",
      "\n"
     ]
    }
   ],
   "source": [
    "#Comparando tuplas\n",
    "t1 = (1, 2, 3)\n",
    "t2 = (1, 2, 4)\n",
    "\n",
    "#A comparação percorre todas as duas tuplas, procurando por dois elementos distintos; encontrando-o, classificando e encerrando em seguida\n",
    "print(t1 < t2)\n",
    "print()\n",
    "\n",
    "\n",
    "t3 = (1, 2, 3)\n",
    "t4 = (1, 2, 3, 4)\n",
    "\n",
    "#A tupla mais comprida sempre será maior\n",
    "print(t4 > t3)\n",
    "print()\n",
    "\n"
   ]
  },
  {
   "cell_type": "code",
   "execution_count": null,
   "id": "bd05cde3-c209-4139-b511-a81f8dd01b9a",
   "metadata": {},
   "outputs": [],
   "source": []
  }
 ],
 "metadata": {
  "kernelspec": {
   "display_name": "Python 3 (ipykernel)",
   "language": "python",
   "name": "python3"
  },
  "language_info": {
   "codemirror_mode": {
    "name": "ipython",
    "version": 3
   },
   "file_extension": ".py",
   "mimetype": "text/x-python",
   "name": "python",
   "nbconvert_exporter": "python",
   "pygments_lexer": "ipython3",
   "version": "3.11.7"
  }
 },
 "nbformat": 4,
 "nbformat_minor": 5
}
