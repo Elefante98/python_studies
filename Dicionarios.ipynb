{
 "cells": [
  {
   "cell_type": "code",
   "execution_count": 60,
   "id": "f596a400-e7ae-4d60-bf2d-7a70422158ed",
   "metadata": {},
   "outputs": [
    {
     "name": "stdout",
     "output_type": "stream",
     "text": [
      "89 99445-7800\n"
     ]
    }
   ],
   "source": [
    "#Dicionarios são estruturas de dados que armazenam coleções de itens, mas, ao contrario das tuplas ou listas, são indexados por chaves\n",
    "contatos = {\n",
    "    \"Moisés\": \"89 99455-5163\",\n",
    "    \"Nicolly\": \"89 99445-7800\"\n",
    "}\n",
    "\n",
    "#Para acessarmos um elemento, não usamos um índice inteiro, mas sim uma chave\n",
    "print(contatos[\"Nicolly\"])"
   ]
  },
  {
   "cell_type": "code",
   "execution_count": 6,
   "id": "5c4fb948-ac4d-4bc2-a2a9-eb86b465b676",
   "metadata": {},
   "outputs": [
    {
     "name": "stdout",
     "output_type": "stream",
     "text": [
      "{'marca': 'Dodge', 'modelo': 'Challenger', 'ano': 1970}\n",
      "\n",
      "Challenger\n"
     ]
    }
   ],
   "source": [
    "#Sintaxe \n",
    "\n",
    "#Dicionários são definidos entre chaves \"{}\" e possuem pares key-value, a chave seguida de dois pontos e o valor a frente\n",
    "carro = {\n",
    "    \"marca\": \"Dodge\", #Chave = marca, valor = Dodge\n",
    "    \"modelo\": \"Challenger\", #Chave = modelo, Valor = Challenger\n",
    "    \"ano\": 1970 #Chave = ano, Valor = 1970\n",
    "}\n",
    "\n",
    "#imprime o dicionaario completo\n",
    "print(carro)\n",
    "print()\n",
    "\n",
    "#imprime o valor da chave \"modelo\", no dicionario carro\n",
    "print(carro[\"modelo\"])"
   ]
  },
  {
   "cell_type": "code",
   "execution_count": 11,
   "id": "5a682230-b4cd-4470-981b-8806346354e5",
   "metadata": {},
   "outputs": [
    {
     "name": "stdout",
     "output_type": "stream",
     "text": [
      "Meu pai tem 44 anos!\n"
     ]
    }
   ],
   "source": [
    "#dicionarios aninhados são dicionários dentro de dicionários\n",
    "familia = {\n",
    "    #o dicionario familia recebe outros subdicionarios com as caracteristicas de cada pessoa da familia\n",
    "    \"pai\": {\n",
    "        \"nome\": \"Raimundo\",\n",
    "        \"idade\": 44,\n",
    "    },\n",
    "    \n",
    "    \"mãe\": {\n",
    "        \"nome\": \"Jocilene\",\n",
    "        \"idade\": 38,\n",
    "    },\n",
    "    \n",
    "    \"irmão\": {\n",
    "        \"nome\": \"Davi\",\n",
    "        \"idade\": 14,\n",
    "    },\n",
    "\n",
    "    \"eu\": {\n",
    "        \"nome\": \"Moisés\",\n",
    "        \"idade\": 18,\n",
    "    }\n",
    "}\n",
    "\n",
    "#para acessarmos os elemento, fazeos de forma similar à listas aninhadas: especificamos a chave externa, depois a interna\n",
    "print(f\"Meu pai tem {familia['pai']['idade']} anos!\")"
   ]
  },
  {
   "cell_type": "code",
   "execution_count": 12,
   "id": "3e739848-70af-4a06-9920-4a8b06e6c519",
   "metadata": {},
   "outputs": [
    {
     "name": "stdout",
     "output_type": "stream",
     "text": [
      "{}\n",
      "\n",
      "{'nome': 'Moisés', 'curso': 'Matemática', 'faculdade': 'IFSP'}\n"
     ]
    }
   ],
   "source": [
    "#podemos criar dicionarios vazio e atribuir itens a ele depois\n",
    "estudante = {}\n",
    "print(estudante)\n",
    "print()\n",
    "\n",
    "estudante[\"nome\"] = \"Moisés\"\n",
    "estudante[\"curso\"] = \"Matemática\"\n",
    "estudante[\"faculdade\"] = \"IFSP\"\n",
    "\n",
    "\n",
    "print(estudante)"
   ]
  },
  {
   "cell_type": "code",
   "execution_count": 17,
   "id": "32bf74cf-f6b2-499d-9d68-0011c9a0ed10",
   "metadata": {},
   "outputs": [
    {
     "name": "stdout",
     "output_type": "stream",
     "text": [
      "O aluno Moisés cursa Matemática no IFSP\n",
      "\n",
      "O aluno Moisés cursa Matemática no IFSP\n",
      "\n",
      "None\n",
      "\n",
      "Forneça uma chave existente!\n"
     ]
    }
   ],
   "source": [
    "#Como vimos, podemos acessar os elementos de um dicionario usando a chave entre colchetes\n",
    "print(f\"O aluno {estudante['nome']} cursa {estudante['curso']} no {estudante['faculdade']}\")\n",
    "print()\n",
    "\n",
    "#Mas tambem podemos usar o método get:\n",
    "print(f\"O aluno {estudante.get('nome')} cursa {estudante.get('curso')} no {estudante.get('faculdade')}\")\n",
    "print()\n",
    "\n",
    "#O método get() não retorna um erro, se chamarmos uma chave inexistente, mas sim o \"None\", podendo ainda ser especificado a saída em caso de erro\n",
    "print(estudante.get(\"idade\"))\n",
    "print()\n",
    "\n",
    "#Definindo um valor para caso seja chamada uma chave inexistente\n",
    "print(estudante.get(\"idade\", \"Forneça uma chave existente!\"))"
   ]
  },
  {
   "cell_type": "code",
   "execution_count": 18,
   "id": "3f98306e-d56c-48cf-9458-c173077de300",
   "metadata": {},
   "outputs": [
    {
     "name": "stdout",
     "output_type": "stream",
     "text": [
      "Idade não disponível\n"
     ]
    }
   ],
   "source": [
    "#Podemos verificar se existe uma certa chave em um dicionario\n",
    "print(estudante[\"idade\"] if \"idade\" in estudante else \"Idade não disponível\")"
   ]
  },
  {
   "cell_type": "code",
   "execution_count": 21,
   "id": "0709d110-d734-4400-8d14-f30fb3cd3b01",
   "metadata": {},
   "outputs": [
    {
     "name": "stdout",
     "output_type": "stream",
     "text": [
      "{'id': 12345, 'nome': 'Camiseta gola polo', 'marca': 'Lacoste'}\n",
      "\n",
      "{'id': 12345, 'nome': 'Camiseta gola polo', 'marca': 'Lacoste', 'preço': 100}\n",
      "\n",
      "Preço: 100\n",
      "\n",
      "Preço atualizado: 130\n",
      "\n"
     ]
    }
   ],
   "source": [
    "#Operações básicas com dicionários\n",
    "produto = {\n",
    "    \"id\": 12345,\n",
    "    \"nome\": \"Camiseta gola polo\",\n",
    "    \"marca\": \"Lacoste\"\n",
    "}\n",
    "print(produto)\n",
    "print()\n",
    "\n",
    "\n",
    "#Já vimos como adicionar elementos\n",
    "produto[\"preço\"] = 100\n",
    "\n",
    "print(produto)\n",
    "print()\n",
    "\n",
    "#Para atualizarmos itens, usamos a mesma sintaxe\n",
    "print(\"Preço:\", produto[\"preço\"])\n",
    "print()\n",
    "\n",
    "produto[\"preço\"] = 130\n",
    "\n",
    "print(\"Preço atualizado:\", produto[\"preço\"])\n",
    "print()\n",
    "\n"
   ]
  },
  {
   "cell_type": "code",
   "execution_count": 23,
   "id": "e37cd43b-a864-4fa5-bcc9-dfe95cb435f1",
   "metadata": {},
   "outputs": [
    {
     "name": "stdout",
     "output_type": "stream",
     "text": [
      "{'marca': 'Porsche', 'modelo': '911 gt3 rs', 'ano': 2013, 'cor': 'Branca', 'motor': 'V6 4.0 aspirado'}\n",
      "\n",
      "{'marca': 'Porsche', 'modelo': '911 gt3 rs', 'ano': 2013, 'cor': 'Branca'}\n",
      "\n",
      "{'marca': 'Porsche', 'modelo': '911 gt3 rs', 'ano': 2013}\n",
      "\n",
      "{'marca': 'Porsche', 'modelo': '911 gt3 rs'}\n",
      "\n"
     ]
    }
   ],
   "source": [
    "#removendo itens de um dicionario\n",
    "carro2 = {\n",
    "    \"marca\": \"Porsche\", #Chave = marca, valor = Dodge\n",
    "    \"modelo\": \"911 gt3 rs\", #Chave = modelo, Valor = Challenger\n",
    "    \"ano\": 2013, #Chave = ano, Valor = 1970\n",
    "    \"cor\": \"Branca\",\n",
    "    \"motor\": \"V6 4.0 aspirado\"\n",
    "}\n",
    "\n",
    "print(carro2)\n",
    "print()\n",
    "\n",
    "\n",
    "\n",
    "#del\n",
    "del carro2[\"motor\"] #Exclúi o elemento motor\n",
    "\n",
    "print(carro2)\n",
    "print()\n",
    "\n",
    "\n",
    "\n",
    "#pop()\n",
    "carro2.pop(\"cor\") #Remove o item indicado\n",
    "\n",
    "print(carro2)\n",
    "print()\n",
    "\n",
    "\n",
    "\n",
    "#popitem()\n",
    "carro2.popitem() #Remove o último item do dicionario\n",
    "\n",
    "print(carro2)\n",
    "print()"
   ]
  },
  {
   "cell_type": "code",
   "execution_count": 31,
   "id": "ed1c444f-ca68-4c3f-8fb0-0f4cdf81951d",
   "metadata": {
    "scrolled": true
   },
   "outputs": [
    {
     "name": "stdout",
     "output_type": "stream",
     "text": [
      "{'um': 1, 'dois': 2, 'três': 3, 'quatro': 4, 'cinco': 5}\n",
      "\n",
      "{'um': 1, 'dois': 2, 'três': 3, 'quatro': 4, 'cinco': 5}\n",
      "\n",
      "\n"
     ]
    }
   ],
   "source": [
    "#Copiando dicionários\n",
    "numeracao = {\n",
    "    \"um\": 1,\n",
    "    \"dois\": 2,\n",
    "    \"três\": 3,\n",
    "    \"quatro\": 4,\n",
    "    \"cinco\": 5\n",
    "}\n",
    "\n",
    "print(numeracao)\n",
    "print()\n",
    "\n",
    "\n",
    "\n",
    "#Método copy()\n",
    "numeracao_copia_1 = numeracao.copy()\n",
    "print(numeracao_copia_1)\n",
    "print()\n",
    "\n",
    "\n",
    "''' Revisar a função dict() '''\n",
    "#Método dict()\n",
    "#numeracao_copia_2 = dict(numeracao)\n",
    "#print(numeracao_copia_2)\n",
    "print()"
   ]
  },
  {
   "cell_type": "code",
   "execution_count": 34,
   "id": "61ee3dbd-87b3-427b-a6ec-2a3201cc21d6",
   "metadata": {},
   "outputs": [
    {
     "name": "stdout",
     "output_type": "stream",
     "text": [
      "{'nome': 'O pequeno príncipe', 'autor': 'Antoine de Saint-Exupéry', 'editora': 'Reynal & Hitchcock', 'ano': 1943, 'preço': 20.5}\n",
      "\n",
      "As chaves do dicionário livro são: ['nome', 'autor', 'editora', 'ano', 'preço']\n",
      "\n",
      "Os valores do dicionário livro são: ['O pequeno príncipe', 'Antoine de Saint-Exupéry', 'Reynal & Hitchcock', 1943, 20.5]\n",
      "\n",
      "Os itens do dicionário livro são: [('nome', 'O pequeno príncipe'), ('autor', 'Antoine de Saint-Exupéry'), ('editora', 'Reynal & Hitchcock'), ('ano', 1943), ('preço', 20.5)]\n",
      "\n"
     ]
    }
   ],
   "source": [
    "#métodos de dicionários\n",
    "livro = {\n",
    "    \"nome\": \"O pequeno príncipe\",\n",
    "    \"autor\": \"Antoine de Saint-Exupéry\",\n",
    "    \"editora\": \"Reynal & Hitchcock\",\n",
    "    \"ano\": 1943,\n",
    "    \"preço\": 20.50\n",
    "}\n",
    "\n",
    "print(livro)\n",
    "print()\n",
    "\n",
    "\n",
    "# keys(): retorna as chave de um dicionário\n",
    "print(f\"As chaves do dicionário livro são: {list(livro.keys())}\")\n",
    "print()\n",
    "\n",
    "\n",
    "\n",
    "# values(): retorna os valores de um dicionario\n",
    "print(f\"Os valores do dicionário livro são: {list(livro.values())}\")\n",
    "print()\n",
    "\n",
    "\n",
    "\n",
    "# items(): retorna os pares chave-valor de um dicionario em forma tuplas dentro de uma lista\n",
    "print(f\"Os itens do dicionário livro são: {list(livro.items())}\")\n",
    "print()"
   ]
  },
  {
   "cell_type": "code",
   "execution_count": 43,
   "id": "746faba1-1752-48d8-92e4-04154e95cd05",
   "metadata": {},
   "outputs": [
    {
     "name": "stdout",
     "output_type": "stream",
     "text": [
      "{'nome': 'O pequeno príncipe', 'autor': 'Antoine de Saint-Exupéry', 'editora': 'Reynal & Hitchcock', 'ano': 1943, 'preço': 20.5, 'ISBN': None, 'páginas': 96}\n",
      "\n",
      "{}\n",
      "\n",
      "\n",
      "\n",
      "{'nome': 'O pequeno príncipe', 'autor': 'Antoine de Saint-Exupéry', 'editora': 'Reynal & Hitchcock', 'ano': 1943, 'preço': 20.5, 'ISBN': None, 'páginas': 96}\n",
      "\n",
      "O pequeno príncipe\n",
      "\n",
      "{'nome': 'O pequeno príncipe', 'autor': 'Antoine de Saint-Exupéry', 'editora': 'Reynal & Hitchcock', 'ano': 1943, 'preço': 20.5, 'ISBN': None, 'páginas': 96}\n"
     ]
    }
   ],
   "source": [
    "#Métodos de dicionarios\n",
    "livro_copia = livro.copy()\n",
    "print(livro_copia)\n",
    "print()\n",
    "\n",
    "\n",
    "# clear(): limpa um dicionário\n",
    "livro_copia.clear()\n",
    "print(livro_copia)\n",
    "print()\n",
    "print()\n",
    "print()\n",
    "\n",
    "\n",
    "\n",
    "# setdefault(): retorna o valor da chave especificada, ou insere essa chave com um valor padrão, ou um valor especificado\n",
    "isbn = livro.setdefault(\"ISBN\") #insere a chave ISBN com o valor padrão None, pois no dicionario nao existia essa chave\n",
    "print(livro)\n",
    "print()\n",
    "\n",
    "\n",
    "nome = livro.setdefault(\"nome\") #retorna o valor da chave nome, pois ela ja existe no dicionerio livro\n",
    "print(nome)\n",
    "print()\n",
    "\n",
    "\n",
    "\n",
    "pag = livro.setdefault(\"páginas\", 96) #insere a chave paginas, no dicionario livro, e atribui a ela o vlor 96\n",
    "print(livro)"
   ]
  },
  {
   "cell_type": "code",
   "execution_count": 59,
   "id": "aa63988b-7b58-422c-87c6-f3b7d9aa9dc7",
   "metadata": {},
   "outputs": [
    {
     "name": "stdout",
     "output_type": "stream",
     "text": [
      "Nome: O pequeno príncipe\n",
      "Autor: Antoine de Saint-Exupéry\n",
      "Editora: Reynal & Hitchcock\n",
      "Ano: 1943\n",
      "Preço: 18.5\n",
      "Isbn: None\n",
      "Páginas: 96\n",
      "Formato: capa dura\n",
      "\n",
      "{'Nome': 'Desconhecido', 'Altura': 'Desconhecido', 'Peso': 'Desconhecido', 'Tempo de serviço prestado': 'Desconhecido'}\n"
     ]
    }
   ],
   "source": [
    "#métodos de dicionarios\n",
    "atualizacoes = {\n",
    "    \"formato\": \"capa dura\",\n",
    "    \"preço\": 18.50\n",
    "}\n",
    "\n",
    "\n",
    "# updates(): atualiza um dicionario com outro dicionario, ou um iteravel com pares chave-valor\n",
    "livro.update(atualizacoes)\n",
    "for chave, valor in livro.items():\n",
    "    print(f\"{chave.capitalize()}: {valor}\")\n",
    "print()\n",
    "\n",
    "\n",
    "# fromkeys()\n",
    "chaves = [\"Nome\", \"Altura\", \"Peso\", \"Tempo de serviço prestado\"]\n",
    "\n",
    "#o método fromkeys() recebe um iteravel com as chaves e um valor especificado para elas, e cria um dicionario com isso, com a ajuda da função dict()\n",
    "livro2 = dict.fromkeys(chaves, \"Desconhecido\")\n",
    "print(livro2)"
   ]
  },
  {
   "cell_type": "code",
   "execution_count": 86,
   "id": "fa8bdf82-2cc5-425b-beef-e2f09e6b6fb6",
   "metadata": {},
   "outputs": [
    {
     "name": "stdout",
     "output_type": "stream",
     "text": [
      "Matérias cursadas pelo aluno:\n",
      "Matemática\n",
      "Português\n",
      "História\n",
      "Geografia\n",
      "Química\n",
      "\n",
      "Matérias usando keys():\n",
      "Matemática\n",
      "Português\n",
      "História\n",
      "Geografia\n",
      "Química\n",
      "\n",
      "Notas do aluno:\n",
      "8\n",
      "9.1\n",
      "7.5\n",
      "10\n",
      "5.2\n",
      "\n",
      "A média do aluno é: 7.96\n",
      "\n",
      "\n",
      "\n",
      "Relatório de notas\n",
      "Sua nota em Matemática é 8\n",
      "Sua nota em Português é 9.1\n",
      "Sua nota em História é 7.5\n",
      "Sua nota em Geografia é 10\n",
      "Sua nota em Química é 5.2\n"
     ]
    }
   ],
   "source": [
    "#Iterando sobre dicionarios\n",
    "notas = {\n",
    "    \"Matemática\": 8,\n",
    "    \"Português\": 9.1,\n",
    "    \"História\": 7.5,\n",
    "    \"Geografia\": 10,\n",
    "    \"Química\": 5.2\n",
    "}\n",
    "\n",
    "#Iterando sobre as chaves\n",
    "print(\"Matérias cursadas pelo aluno:\")\n",
    "\n",
    "for materia in notas:\n",
    "    print(materia)\n",
    "print()\n",
    "\n",
    "\n",
    "\n",
    "#Usando keys()\n",
    "print(\"Matérias usando keys():\")\n",
    "for materia in notas.keys():\n",
    "    print(materia)\n",
    "print()\n",
    "\n",
    "\n",
    "\n",
    "#iterando apenas sobre os valores do dicionario\n",
    "print(\"Notas do aluno:\")\n",
    "\n",
    "#inicia a variavel que recebara a soma das notas\n",
    "total = 0\n",
    "\n",
    "#itera sobre os values() do dicionario notas, ou seja, seus valores\n",
    "for nota in notas.values():\n",
    "    print(nota)\n",
    "    total += nota\n",
    "print()\n",
    "print(f\"A média do aluno é: {total / len(notas):.2f}\\n\\n\")\n",
    "print()\n",
    "\n",
    "\n",
    "\n",
    "\n",
    "\n",
    "#Iterando sobre chaves e valores simultaneamente\n",
    "print(\"Relatório de notas\")\n",
    "for materia, nota in notas.items():\n",
    "    print(f\"Sua nota em {materia} é {nota}\")"
   ]
  },
  {
   "cell_type": "code",
   "execution_count": 93,
   "id": "3aa51aaa-282a-4d1a-ba65-70f0212e6aa5",
   "metadata": {},
   "outputs": [
    {
     "name": "stdout",
     "output_type": "stream",
     "text": [
      "Nota do joão em matemática: 8.5\n",
      "Nota atualizada do Pedro em história: 10\n",
      "Nota adicionada da Maria em química: 8.8\n"
     ]
    }
   ],
   "source": [
    "#Dicionários aninhados\n",
    "alunos = {\n",
    "    \"João\": {          # Informações sobre o aluno chamado \"João\".\n",
    "        \"Matemática\": 8.5,  # Nota de João em Matemática.\n",
    "        \"Português\": 9.0,   # Nota de João em Português.\n",
    "        \"História\": 7.5     # Nota de João em História.\n",
    "    },\n",
    "    \"Maria\": {         # Informações sobre a aluna chamada \"Maria\".\n",
    "        \"Matemática\": 9.5,  # Nota de Maria em Matemática.\n",
    "        \"Português\": 8.0,   # Nota de Maria em Português.\n",
    "        \"Geografia\": 8.7    # Nota de Maria em Geografia.\n",
    "    },\n",
    "    \"Pedro\": {         # Informações sobre o aluno chamado \"Pedro\".\n",
    "        \"Matemática\": 7.0,  # Nota de Pedro em Matemática.\n",
    "        \"Português\": 7.5,   # Nota de Pedro em Português.\n",
    "        \"História\": 8.0,    # Nota de Pedro em História.\n",
    "        \"Geografia\": 9.0    # Nota de Pedro em Geografia.\n",
    "    }\n",
    "}\n",
    "\n",
    "#acessando um elemento dentro de um dicionario aninhado (nota do joão em matemática)\n",
    "nota_joao_matematica = alunos[\"João\"][\"Matemática\"]\n",
    "print(\"Nota do joão em matemática:\", nota_joao_matematica)\n",
    "\n",
    "\n",
    "#modificando um elemento em um dicionario aninhado (nota de pedro em historia)\n",
    "alunos[\"Pedro\"][\"História\"] = 10\n",
    "print(f\"Nota atualizada do Pedro em história: {alunos['Pedro']['História']}\")\n",
    "\n",
    "\n",
    "#Adicionando um par de chave-valor\n",
    "alunos[\"Maria\"][\"Química\"] = 8.8\n",
    "print(f\"Nota adicionada da Maria em química: {alunos['Maria']['Química']}\")"
   ]
  },
  {
   "cell_type": "code",
   "execution_count": 3,
   "id": "99f1c4a4-cdba-44bb-a28c-d688303a19c1",
   "metadata": {},
   "outputs": [
    {
     "name": "stdout",
     "output_type": "stream",
     "text": [
      "{1: 1, 2: 4, 3: 9, 4: 16, 5: 25, 6: 36, 7: 49, 8: 64, 9: 81, 10: 100}\n"
     ]
    }
   ],
   "source": [
    "#Dicionary comprehension\n",
    "\n",
    "\n",
    "#Suponha que queiramos criar um dicionário onde as chaves são os inteiros positivos até 10 e os valores sejam seus quadrados\n",
    "#Sintaxe Básica: {chave: valor for item in iterável}\n",
    "quadrados = {x: x ** 2 for x in range(1, 11)}\n",
    "print(quadrados)\n",
    "#ou seja: {chave/x: valor/x ** 2 for item/x in iterável/range(1, 11)}\n"
   ]
  },
  {
   "cell_type": "code",
   "execution_count": 5,
   "id": "51a70742-cac5-43fe-9be9-5b9776e36663",
   "metadata": {},
   "outputs": [
    {
     "name": "stdout",
     "output_type": "stream",
     "text": [
      "{'um': 1, 'dois': 2, 'três': 3, 'quatro': 4, 'cinco': 5}\n",
      "\n",
      "{1: 'um', 2: 'dois', 3: 'três', 4: 'quatro', 5: 'cinco'}\n"
     ]
    }
   ],
   "source": [
    "#Converter chaves em valores e valores em chaves\n",
    "original = {\"um\": 1, \"dois\": 2, \"três\": 3, \"quatro\": 4, \"cinco\": 5}\n",
    "\n",
    "#ordenamos que a chave do dicionario seja o valor e o valor seja chave para cada um dos pares chave-valor nos items do dicionario original\n",
    "invertido = {valor: chave for chave, valor in original.items()}\n",
    "\n",
    "print(original)\n",
    "print()\n",
    "print(invertido)"
   ]
  },
  {
   "cell_type": "code",
   "execution_count": 7,
   "id": "c614a5f6-aeef-4421-8820-9c941534ce5c",
   "metadata": {},
   "outputs": [
    {
     "name": "stdout",
     "output_type": "stream",
     "text": [
      "{'laptop': 1000, 'mouse': 25, 'monitor': 200, 'teclado': 30, 'cabo hdmi': 10}\n",
      "\n",
      "{'laptop': 1000, 'monitor': 200}\n"
     ]
    }
   ],
   "source": [
    "#Filtrando itens de um dicionario\n",
    "precos = {\n",
    "    \"laptop\": 1000,       # Chave: \"laptop\", Valor: 1000\n",
    "    \"mouse\": 25,          # Chave: \"mouse\", Valor: 25\n",
    "    \"monitor\": 200,       # Chave: \"monitor\", Valor: 200\n",
    "    \"teclado\": 30,        # Chave: \"teclado\", Valor: 30\n",
    "    \"cabo hdmi\": 10       # Chave: \"cabo hdmi\", Valor: 10\n",
    "}\n",
    "\n",
    "#filtrando apenas os preços caros\n",
    "caros = {produto: preço for produto, preço in precos.items() if preço >= 50}\n",
    "#ordenamos que o dicionario caros recebesse o produto e seu preço, provindos do dicionario preços, se o preço fosse maior ou igual a 50 reais\n",
    "print(precos)\n",
    "print()\n",
    "print(caros)"
   ]
  },
  {
   "cell_type": "code",
   "execution_count": 13,
   "id": "84fb42c6-5142-4397-bb9a-a53b7798430b",
   "metadata": {},
   "outputs": [
    {
     "name": "stdout",
     "output_type": "stream",
     "text": [
      "Nome: João\n",
      "Idade: 25\n",
      "Email: joao@email.com\n"
     ]
    }
   ],
   "source": [
    "#Dicionarios e funções: assando dicionarios como argumento\n",
    "usuario = {\n",
    "    \"nome\": \"João\",\n",
    "    \"idade\": 25,\n",
    "    \"email\": \"joao@email.com\"\n",
    "}\n",
    "\n",
    "\n",
    "#A função recebe um perfil, que será passado por mim como um dicionário, como parametro\n",
    "def exibir_perfil(perfil):\n",
    "    #Eu itero sobre esse perfil,\n",
    "    for chave, valor in perfil.items():\n",
    "        #e exibo ele\n",
    "        print(f\"{chave.title()}: {valor}\")\n",
    "\n",
    "#Chamando a função com um dicionário como parâmetro\n",
    "exibir_perfil(usuario)"
   ]
  },
  {
   "cell_type": "code",
   "execution_count": 15,
   "id": "8e254f7a-ad41-4f52-bca4-b0d04b1fdfa4",
   "metadata": {},
   "outputs": [
    {
     "name": "stdout",
     "output_type": "stream",
     "text": [
      "Nome: Ana\n",
      "Idade: 33\n",
      "Email: Ana@hotmail.com\n"
     ]
    }
   ],
   "source": [
    "#Dicionarios e funções: retornando dicionarios de funções\n",
    "\n",
    "#A função criar_perfil recebe tres parametros (nome, idade e email)\n",
    "def criar_perfil(nome, idade, email):\n",
    "    #e retorna um dicionario onde cada parametro é o valor de uma chave predefinida\n",
    "    return {\n",
    "    \"nome\": nome,\n",
    "    \"idade\": idade,\n",
    "    \"email\": email\n",
    "     }\n",
    "\n",
    "#Chamei a função criar_perfil dentro da variavel perfil_ana, para armazenar o perfil da ana nessa variavel, passando os argumentos necessários\n",
    "perfil_ana = criar_perfil(\"Ana\", 33, \"Ana@hotmail.com\")\n",
    "\n",
    "\n",
    "#Chamei a função exibir_perfil com a variavel perfil ana, que é um dicionario retornado da função criar perfil\n",
    "exibir_perfil(perfil_ana)"
   ]
  },
  {
   "cell_type": "code",
   "execution_count": 28,
   "id": "8627bf27-d83c-4bf4-958c-def252052e98",
   "metadata": {},
   "outputs": [
    {
     "name": "stdout",
     "output_type": "stream",
     "text": [
      "\n",
      "Escolha uma opção: \n",
      "1. Adicionar contato \n",
      "2. Alterar contato \n",
      "3. Remover contato \n",
      "4. Listar contatos \n",
      "5. Sair\n",
      "\n"
     ]
    },
    {
     "name": "stdin",
     "output_type": "stream",
     "text": [
      "\n",
      " 1\n",
      "\n",
      "Digite o nome do contato:\n",
      " Pedro\n",
      "\n",
      "Digite o número:\n",
      " 89994555163\n"
     ]
    },
    {
     "name": "stdout",
     "output_type": "stream",
     "text": [
      "\n",
      "Contato salvo com sucesso!\n",
      "\n",
      "\n",
      "Escolha uma opção: \n",
      "1. Adicionar contato \n",
      "2. Alterar contato \n",
      "3. Remover contato \n",
      "4. Listar contatos \n",
      "5. Sair\n",
      "\n"
     ]
    },
    {
     "name": "stdin",
     "output_type": "stream",
     "text": [
      "\n",
      " h\n"
     ]
    },
    {
     "name": "stdout",
     "output_type": "stream",
     "text": [
      "Escolha uma opção válida!\n",
      "\n",
      "Escolha uma opção: \n",
      "1. Adicionar contato \n",
      "2. Alterar contato \n",
      "3. Remover contato \n",
      "4. Listar contatos \n",
      "5. Sair\n",
      "\n"
     ]
    },
    {
     "name": "stdin",
     "output_type": "stream",
     "text": [
      "\n",
      " 1\n",
      "\n",
      "Digite o nome do contato:\n",
      " Joao\n",
      "\n",
      "Digite o número:\n",
      " 89994555162\n"
     ]
    },
    {
     "name": "stdout",
     "output_type": "stream",
     "text": [
      "\n",
      "Contato salvo com sucesso!\n",
      "\n",
      "\n",
      "Escolha uma opção: \n",
      "1. Adicionar contato \n",
      "2. Alterar contato \n",
      "3. Remover contato \n",
      "4. Listar contatos \n",
      "5. Sair\n",
      "\n"
     ]
    },
    {
     "name": "stdin",
     "output_type": "stream",
     "text": [
      "\n",
      " 2\n",
      "\n",
      "Qual contato tu desejas alterar?\n",
      " Joao\n",
      "\n",
      "Digite um novo nome pro contato:\n",
      " Joao\n",
      "\n",
      "Digite um novo número:\n",
      " 89994555164\n"
     ]
    },
    {
     "name": "stdout",
     "output_type": "stream",
     "text": [
      "\n",
      "Contato alterado com sucesso!\n",
      "\n",
      "\n",
      "Escolha uma opção: \n",
      "1. Adicionar contato \n",
      "2. Alterar contato \n",
      "3. Remover contato \n",
      "4. Listar contatos \n",
      "5. Sair\n",
      "\n"
     ]
    },
    {
     "name": "stdin",
     "output_type": "stream",
     "text": [
      "\n",
      " 1\n",
      "\n",
      "Digite o nome do contato:\n",
      " Mateus\n",
      "\n",
      "Digite o número:\n",
      " 89994555165\n"
     ]
    },
    {
     "name": "stdout",
     "output_type": "stream",
     "text": [
      "\n",
      "Contato salvo com sucesso!\n",
      "\n",
      "\n",
      "Escolha uma opção: \n",
      "1. Adicionar contato \n",
      "2. Alterar contato \n",
      "3. Remover contato \n",
      "4. Listar contatos \n",
      "5. Sair\n",
      "\n"
     ]
    },
    {
     "name": "stdin",
     "output_type": "stream",
     "text": [
      "\n",
      " 3\n",
      "\n",
      "Qual contato você deseja excluir?\n",
      " Mateus\n"
     ]
    },
    {
     "name": "stdout",
     "output_type": "stream",
     "text": [
      "\n",
      "Contato excluído com sucesso!\n",
      "\n",
      "Escolha uma opção: \n",
      "1. Adicionar contato \n",
      "2. Alterar contato \n",
      "3. Remover contato \n",
      "4. Listar contatos \n",
      "5. Sair\n",
      "\n"
     ]
    },
    {
     "name": "stdin",
     "output_type": "stream",
     "text": [
      "\n",
      " 4\n"
     ]
    },
    {
     "name": "stdout",
     "output_type": "stream",
     "text": [
      "Nome: Pedro \n",
      "Número: 89994555163\n",
      "\n",
      "Nome: Joao \n",
      "Número: 89994555164\n",
      "\n",
      "\n",
      "Escolha uma opção: \n",
      "1. Adicionar contato \n",
      "2. Alterar contato \n",
      "3. Remover contato \n",
      "4. Listar contatos \n",
      "5. Sair\n",
      "\n"
     ]
    },
    {
     "name": "stdin",
     "output_type": "stream",
     "text": [
      "\n",
      " 5\n"
     ]
    }
   ],
   "source": [
    "#Exercício: Lista telefonica\n",
    "#Desenvolva uma aplicação de agenda telefônica que permita ao usuário:\n",
    "\n",
    "    #1. Adicionar contato\n",
    "    #2. Alterar contato\n",
    "    #3. Remover contato\n",
    "    #4. Listar contatos\n",
    "    #5. Sair\n",
    "\n",
    "\n",
    "#Inicia a função principal\n",
    "def main():\n",
    "    #Inicia um dicionario vazio\n",
    "    contatos = {}\n",
    "    #Inicia o programa com um loop que se quebrará quando especificado\n",
    "    while True:\n",
    "        #Chama a função mostrar_menu(), que traz as possíeveis escolhas ao usuário\n",
    "        mostrar_menu()\n",
    "        #Variável que recebe a escolha do usuário\n",
    "        escolha = input(\"\\n\")\n",
    "\n",
    "        #Condicional que veririfica qual a escolha do usuário e toma uma decisaão com base nisso\n",
    "        match escolha:\n",
    "              #Se a escolha for 1...\n",
    "              case \"1\":\n",
    "                  #Chama a função adicionar_contato(), passando o dicionario contatos como argumento\n",
    "                  adicionar_contato(contatos)\n",
    "              #Se a escolha for 2...\n",
    "              case \"2\":\n",
    "                  #Chama a função alterar_contato(), passando o dicionario contatos como argumento\n",
    "                  alterar_contato(contatos)\n",
    "              #Se a escolha for 3...\n",
    "              case \"3\":\n",
    "                  #Chama a função remover_contato(), passando o dicionario contatos como argumento\n",
    "                  remover_contato(contatos)\n",
    "              #Se a escolha for 4...\n",
    "              case \"4\":\n",
    "                  #Chama a função listar_contatos(), passando o dicionario contatos como argumento\n",
    "                  listar_contatos(contatos)\n",
    "              #Se a escolha for 5...\n",
    "              case \"5\":\n",
    "                  #Quebra o loop, encerrando o programa\n",
    "                  break\n",
    "              #Se a escolha for qualquer outra, que não as acima...\n",
    "              case _:\n",
    "                  #Pede que o usuário digite uma opção válida\n",
    "                  print(\"Escolha uma opção válida!\")\n",
    "\n",
    "\n",
    "\n",
    "\n",
    "#Inicia a função que mostra as escolhas válidas ao usuário\n",
    "def mostrar_menu():\n",
    "    #Pula uma linha\n",
    "    print()\n",
    "    #Apresenta as escolhas\n",
    "    print(\"Escolha uma opção: \\n1. Adicionar contato \\n2. Alterar contato \\n3. Remover contato \\n4. Listar contatos \\n5. Sair\\n\")\n",
    "\n",
    "\n",
    "##Inicia uma função para alterar os contatos do dicionario de contatos, que recebe um argumento (obviamente, esperado um dicionario)\n",
    "def adicionar_contato(dicionario):\n",
    "    #Pede o nome do contato\n",
    "    nome = input(\"\\nDigite o nome do contato:\\n\")\n",
    "    #Pede o número do contato\n",
    "    numero = input(\"\\nDigite o número:\\n\")\n",
    "    #Condicional para tratar erros de salvar dois contatos iguais\n",
    "    if nome in dicionario.keys() or numero in dicionario.values():\n",
    "        #Se o nome ou número já existir no dicionario, o sistema avisa isso ao usuário\n",
    "        print(\"\\nO contato já existe!\")\n",
    "        #Pula uma linha\n",
    "        print()\n",
    "    #Se não existir...\n",
    "    else:\n",
    "        #Cria uma chave com o nome do contato, que recebe o número dele como valor\n",
    "        dicionario[nome] = numero\n",
    "        #Pula uma linha\n",
    "        print()\n",
    "        #Avisa ao usuário que o contato foi salvo\n",
    "        print(\"Contato salvo com sucesso!\")\n",
    "        #Pula uma linha\n",
    "        print()\n",
    "\n",
    "\n",
    "\n",
    "#Inicia uma função para alterar os contatos do dicionario de contatos, que recebe um argumento (obviamente, esperado um dicionario)\n",
    "def alterar_contato(dicionario):\n",
    "    #Variavél que armazena o nome da pessoa que terá seu contato alterado\n",
    "    alterado = input(\"\\nQual contato tu desejas alterar?\\n\")\n",
    "    #Verifica se o contato existe\n",
    "    if alterado not in dicionario:\n",
    "        #Avisa o usuário da não existência, se não existir\n",
    "        print(\"\\nEste contato não existe!\")\n",
    "        #Pula uma linha\n",
    "        print()\n",
    "    else:\n",
    "        #Exclúi o contato a ser alterado, se ele existir\n",
    "        del dicionario[alterado]\n",
    "        #Pede um novo nome...\n",
    "        novo_nome = input(\"\\nDigite um novo nome pro contato:\\n\")\n",
    "        #e também umm novo número\n",
    "        novo_numero = input(\"\\nDigite um novo número:\\n\")\n",
    "        #Cria um novo contato com os novos nome e número\n",
    "        dicionario[novo_nome] = novo_numero\n",
    "        #Pula uma linha\n",
    "        print()\n",
    "        #Avisa o usuário do sucesso da alteração\n",
    "        print(\"Contato alterado com sucesso!\")\n",
    "        #Pula uma linha\n",
    "        print()\n",
    "\n",
    "\n",
    "\n",
    "#Incia uma função para remover um contato do dicionario de contatos, que recebe um argumento (obviamente, esperado um dicionario)\n",
    "def remover_contato(dicionario):\n",
    "    #Variavel que armazena o nome do contato a ser excluído\n",
    "    remover = input(\"\\nQual contato você deseja excluir?\\n\")\n",
    "    #Se esse contato existir\n",
    "    if remover in dicionario:\n",
    "        #Apaga ele do dicionario\n",
    "        del dicionario[remover]\n",
    "        #Pula uma linha \n",
    "        print()\n",
    "        #E confirma o sucesso da exclusão pro usuário\n",
    "        print(\"Contato excluído com sucesso!\")\n",
    "    #Se ele não existir\n",
    "    else:\n",
    "        #Avisa o usuário da não existencia\n",
    "        print(\"Nome inexistente na lista de contatos!\\n\")\n",
    "\n",
    "\n",
    "#Inicia uma função que lista todos os contatos de um dicionario de contatos, que recebe um argumento (obviamente, esperado um dicionario)\n",
    "def listar_contatos(dicionario):\n",
    "    #Itera sobre todos os pares chave-valor do dicionario passado como argumento\n",
    "    for nome, numero in dicionario.items():\n",
    "        #Exibe cada chave e valor ao usuário\n",
    "        print(f\"Nome: {nome} \\nNúmero: {numero}\\n\")\n",
    "\n",
    "\n",
    "\n",
    "\n",
    "#Chama a função principal, iniciando o programa\n",
    "main()"
   ]
  },
  {
   "cell_type": "code",
   "execution_count": null,
   "id": "1082557e-7c20-4fd5-8aa0-a0373dcb52e1",
   "metadata": {},
   "outputs": [],
   "source": []
  }
 ],
 "metadata": {
  "kernelspec": {
   "display_name": "Python 3 (ipykernel)",
   "language": "python",
   "name": "python3"
  },
  "language_info": {
   "codemirror_mode": {
    "name": "ipython",
    "version": 3
   },
   "file_extension": ".py",
   "mimetype": "text/x-python",
   "name": "python",
   "nbconvert_exporter": "python",
   "pygments_lexer": "ipython3",
   "version": "3.11.7"
  }
 },
 "nbformat": 4,
 "nbformat_minor": 5
}
