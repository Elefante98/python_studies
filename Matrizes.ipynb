{
 "cells": [
  {
   "cell_type": "code",
   "execution_count": 15,
   "id": "20bcd0a4-0282-4954-b053-653696e8222c",
   "metadata": {},
   "outputs": [
    {
     "name": "stdout",
     "output_type": "stream",
     "text": [
      "10 11 12 \n",
      "13 14 15 \n",
      "16 17 18 \n",
      "\n",
      "1 2 3 \n",
      "4 5 6 \n",
      "7 8 9 \n",
      "\n",
      "11 13 15 \n",
      "17 19 21 \n",
      "23 25 27 \n",
      "\n",
      "9 9 9 \n",
      "9 9 9 \n",
      "9 9 9 \n",
      "\n",
      "42\n"
     ]
    }
   ],
   "source": [
    "#Matrizes são conjuntos de listas com o mesmo tamanho, basicamente\n",
    "A = [[10, 11, 12], [13, 14, 15], [16, 17, 18]]\n",
    "B = [[1, 2, 3], [4, 5, 6], [7, 8, 9]]\n",
    "C = [[0, 0, 0], [0, 0, 0], [0, 0, 0]]\n",
    "D = [[0, 0, 0], [0, 0, 0], [0, 0, 0]]\n",
    "\n",
    "\n",
    "\n",
    "\n",
    "#Imprimindo a matriz A\n",
    "#Para cada lista interna (linhas) na matriz\n",
    "for linha in A:\n",
    "    #E para cada elemento dentro delas\n",
    "    for coluna in linha:\n",
    "        #exiba o elemento com um espaço no final\n",
    "        print(coluna, end= \" \")\n",
    "    #pula um linha no final de cada linha da matriz\n",
    "    print()\n",
    "print()\n",
    "\n",
    "\n",
    "\n",
    "#Imprimindo a matriz B\n",
    "for linha in B:\n",
    "    for coluna in linha:\n",
    "        print(coluna, end= \" \")\n",
    "    print()\n",
    "print()\n",
    "\n",
    "\n",
    "\n",
    "\n",
    "\n",
    "\n",
    "\n",
    "\n",
    "#Somando as matrizes\n",
    "#Para cada linha da matriz A\n",
    "for linha in range(3):\n",
    "    #e para cada elemento dentro delas\n",
    "    for coluna in range(3):\n",
    "        #O elemento que contenha o mesmo indice de linha e coluna na matriz B é somado ao elemento atual da A\n",
    "        C[linha][coluna] = B[linha][coluna] + A[linha][coluna]\n",
    "\n",
    "\n",
    "#Imprimindo a matriz C\n",
    "for linha in C:\n",
    "    for coluna in linha:\n",
    "        print(coluna, end= \" \")\n",
    "    print()\n",
    "print()\n",
    "\n",
    "\n",
    "\n",
    "#Subtraindo as matrizes\n",
    "#Para cada linha num intervalo de 0 a 2\n",
    "for linha in range(3):\n",
    "    #e para cada elemento dentro delas\n",
    "    for coluna in range(3):\n",
    "        #O elemento que contenha o mesmo indice de linha e coluna na matriz B é somado ao elemento atual da A e é armazenado na matriz D\n",
    "        D[linha][coluna] = A[linha][coluna] - B[linha][coluna]\n",
    "\n",
    "\n",
    "\n",
    "#Imprimindo a matriz D\n",
    "for linha in D:\n",
    "    for coluna in linha:\n",
    "        print(coluna, end= \" \")\n",
    "    print()\n",
    "print()\n",
    "\n",
    "\n",
    "\n",
    "#Somando a diagonal da matriz\n",
    "soma_diagonal = 0\n",
    "\n",
    "#para cada linha em um intervalo de 0 a 2 inclusivo\n",
    "for linha in range(3):\n",
    "    #a variável soma_diagonal recebe a posição da matriz A onde o indice da linha e da coluna são iguais\n",
    "    soma_diagonal += A[linha][linha]\n",
    "\n",
    "print(soma_diagonal)"
   ]
  },
  {
   "cell_type": "code",
   "execution_count": 19,
   "id": "a68b4d38-4184-4bfa-b158-30b176b1bb71",
   "metadata": {},
   "outputs": [
    {
     "name": "stdout",
     "output_type": "stream",
     "text": [
      "A soma dos números pares da matriz é 72\n"
     ]
    }
   ],
   "source": [
    "#Exercício: somar os números pares de uma matriz\n",
    "mat = [[1, 2, 3, 4], [5, 6, 7, 8], [9, 10, 11, 12], [13, 14, 15, 16]]\n",
    "\n",
    "#A lista a itera sobre as linhas e colunas da matriz e armazena apenas os números pares\n",
    "a = [j for i in mat for j in i if j % 2 == 0]\n",
    "\n",
    "\n",
    "print(f\"A soma dos números pares da matriz é {sum(a)}\")"
   ]
  },
  {
   "cell_type": "code",
   "execution_count": 22,
   "id": "990492be-4fcd-472c-a3ae-8132fae5a085",
   "metadata": {},
   "outputs": [
    {
     "name": "stdout",
     "output_type": "stream",
     "text": [
      "A soma da coluna 1 é 28\n",
      "A soma da coluna 2 é 32\n",
      "A soma da coluna 3 é 36\n",
      "A soma da coluna 4 é 40\n"
     ]
    }
   ],
   "source": [
    "#Somar colunas de uma matriz\n",
    "M = [\n",
    "    [1, 2, 3, 4],\n",
    "    [5, 6, 7, 8],\n",
    "    [9, 10, 11, 12],\n",
    "    [13, 14, 15, 16]\n",
    "]\n",
    "\n",
    "\n",
    "for coluna in range(4):\n",
    "    soma_coluna = [j for i in M for j in i if i.index(j) == coluna]\n",
    "    print(f\"A soma da coluna {coluna + 1} é {sum(soma_coluna)}\")\n",
    "\n"
   ]
  },
  {
   "cell_type": "code",
   "execution_count": 25,
   "id": "bb38eca5-a2c2-4f04-bf35-3daac0f9ca11",
   "metadata": {},
   "outputs": [
    {
     "name": "stdout",
     "output_type": "stream",
     "text": [
      "A soma da coluna 1 é 28\n",
      "A soma da coluna 1 é 32\n",
      "A soma da coluna 1 é 36\n",
      "A soma da coluna 1 é 40\n"
     ]
    }
   ],
   "source": [
    "#Somar colunas de uma matriz (outra forma)\n",
    "M = [\n",
    "    [1, 2, 3, 4],\n",
    "    [5, 6, 7, 8],\n",
    "    [9, 10, 11, 12],\n",
    "    [13, 14, 15, 16]\n",
    "]\n",
    "\n",
    "\n",
    "for coluna in range(4):\n",
    "    soma_coluna = 0\n",
    "    for linha in range(4):\n",
    "        soma_coluna += M[linha][coluna]\n",
    "    print(f\"A soma da coluna 1 é {soma_coluna}\")"
   ]
  },
  {
   "cell_type": "code",
   "execution_count": 26,
   "id": "b06200a4-5858-46d1-a3bb-88c9f74ea240",
   "metadata": {},
   "outputs": [
    {
     "name": "stdout",
     "output_type": "stream",
     "text": [
      "A soma da linha 1 é 10\n",
      "A soma da linha 2 é 26\n",
      "A soma da linha 3 é 42\n",
      "A soma da linha 4 é 58\n"
     ]
    }
   ],
   "source": [
    "#Somar os valores de uma linha\n",
    "for linha in range(4):\n",
    "    print(f\"A soma da linha {linha + 1} é {sum(M[linha])}\")"
   ]
  },
  {
   "cell_type": "code",
   "execution_count": 27,
   "id": "6f9e0a04-b2a6-4855-b310-e2b58df05660",
   "metadata": {},
   "outputs": [
    {
     "name": "stdout",
     "output_type": "stream",
     "text": [
      "A soma da linha 1 é 10\n",
      "A soma da linha 2 é 26\n",
      "A soma da linha 3 é 42\n",
      "A soma da linha 4 é 58\n"
     ]
    }
   ],
   "source": [
    "#Somar os valores de uma linha (outra forma)\n",
    "linhaN = 1\n",
    "for linha in M:\n",
    "    print(f\"A soma da linha {linhaN} é {sum(linha)}\")\n",
    "    linhaN += 1"
   ]
  },
  {
   "cell_type": "code",
   "execution_count": 42,
   "id": "5454b400-bdf2-4db0-ac7f-276aae6f30f1",
   "metadata": {},
   "outputs": [
    {
     "name": "stdout",
     "output_type": "stream",
     "text": [
      "\n"
     ]
    },
    {
     "name": "stdin",
     "output_type": "stream",
     "text": [
      "Digite o nome do 1° aluno:  Moises\n"
     ]
    },
    {
     "name": "stdout",
     "output_type": "stream",
     "text": [
      "\n"
     ]
    },
    {
     "name": "stdin",
     "output_type": "stream",
     "text": [
      "Digite as quatro notas de Moises separadas por espaço:  10 9 10 9\n"
     ]
    },
    {
     "name": "stdout",
     "output_type": "stream",
     "text": [
      "\n"
     ]
    },
    {
     "name": "stdin",
     "output_type": "stream",
     "text": [
      "Digite o nome do 2° aluno:  Marcao\n"
     ]
    },
    {
     "name": "stdout",
     "output_type": "stream",
     "text": [
      "\n"
     ]
    },
    {
     "name": "stdin",
     "output_type": "stream",
     "text": [
      "Digite as quatro notas de Marcao separadas por espaço:  9 8 10 10\n"
     ]
    },
    {
     "name": "stdout",
     "output_type": "stream",
     "text": [
      "\n"
     ]
    },
    {
     "name": "stdin",
     "output_type": "stream",
     "text": [
      "Digite o nome do 3° aluno:  Xandin\n"
     ]
    },
    {
     "name": "stdout",
     "output_type": "stream",
     "text": [
      "\n"
     ]
    },
    {
     "name": "stdin",
     "output_type": "stream",
     "text": [
      "Digite as quatro notas de Xandin separadas por espaço:  10 6 4 3\n"
     ]
    },
    {
     "name": "stdout",
     "output_type": "stream",
     "text": [
      "\n",
      "\n",
      "Moises tirou as notas [10.0, 9.0, 10.0, 9.0] e ficou com uma média de 9.5\n",
      "Aluno aprovado\n",
      "\n",
      "----------------------------------------\n",
      "\n",
      "Marcao tirou as notas [9.0, 8.0, 10.0, 10.0] e ficou com uma média de 9.25\n",
      "Aluno aprovado\n",
      "\n",
      "----------------------------------------\n",
      "\n",
      "Xandin tirou as notas [10.0, 6.0, 4.0, 3.0] e ficou com uma média de 5.75\n",
      "Aluno reprovado\n",
      "\n",
      "----------------------------------------\n",
      "\n"
     ]
    }
   ],
   "source": [
    "#Exercício.\n",
    "\"\"\"\n",
    "Exemplo de Matrizes e Média de Notas\n",
    "\n",
    "Você foi contratado para desenvolver um sistema simples de registro de \n",
    "notas para uma escola. O professor possui 3 alunos e para cada um, ele \n",
    "deseja registrar 4 notas correspondentes aos bimestres do ano letivo.\n",
    "\n",
    "Tarefas:\n",
    "\n",
    "    - Solicite ao usuário o nome de cada aluno.\n",
    "    - Para cada aluno, solicite as 4 notas correspondentes.\n",
    "    - Armazene todas essas informações em uma matriz, onde cada linha representa um aluno e as colunas contêm o nome do aluno seguido por suas 4 notas.\n",
    "    - Calcule a média das notas de cada aluno.\n",
    "    - Imprima o nome, as notas e a média de cada aluno.\n",
    "\n",
    "\"\"\"\n",
    "print()\n",
    "#Inicia uma matriz vazia que receberá os alunos e suas notas\n",
    "alunos = []\n",
    "\n",
    "#Itera 3 vezes, pois são três alunos\n",
    "for i in range(3):\n",
    "    #Pede o nome do aluno atual\n",
    "    nome = input(f\"Digite o nome do {i + 1}° aluno: \")\n",
    "    #Pula uma linha\n",
    "    print()\n",
    "    #Pede as notas do aluno, separadas por espaços\n",
    "    notas = input(f\"Digite as quatro notas de {nome} separadas por espaço: \")\n",
    "    #Cria uma lista com as notas, eliminando os espaços e transformando cada uma em float\n",
    "    notasL = [float(j) for j in notas.split()]\n",
    "    #Pula uma linha\n",
    "    print()\n",
    "    #Adiciona o aluno, seguido de suas notas na matriz alunos\n",
    "    alunos.append([nome] + notasL)\n",
    "\n",
    "#Pula uma linha\n",
    "print()\n",
    "\n",
    "#Para cada número na lista de alunos\n",
    "for num in range(3):\n",
    "    media = sum(alunos[num][1:]) / len(alunos[num][1:])\n",
    "    #exibe o nome do aluno, suas notas e sua média\n",
    "    print(f\"{alunos[num][0]} tirou as notas {alunos[num][1:]} e ficou com uma média de {media}\")\n",
    "    #Verifica se o aluno está acima da media e imprime uma mensagem de aprovado ou reprovado\n",
    "    print(\"Aluno aprovado\" if media >= 7 else \"Aluno reprovado\")\n",
    "    #Pula outra linha\n",
    "    print()\n",
    "    #Exibe um linha, para dividir cada aluno\n",
    "    print(\"-\" * 40)\n",
    "    #Pula uma linha\n",
    "    print()\n"
   ]
  },
  {
   "cell_type": "code",
   "execution_count": 48,
   "id": "a88ff4a2-4f1b-4818-a75c-fe818a4a70f1",
   "metadata": {},
   "outputs": [
    {
     "name": "stdout",
     "output_type": "stream",
     "text": [
      "Gato Cachorro \n",
      "Pássaro Peixe \n",
      "\n",
      "Ana\n",
      "Alice\n",
      "Amanda\n",
      "Arnaldo\n",
      "Alfredo\n",
      "Ariel\n",
      "Alberto\n",
      "Adriana\n"
     ]
    }
   ],
   "source": [
    "#Matrizes com strings\n",
    "animais = [\n",
    "    [\"Gato\", \"Cachorro\"],\n",
    "    [\"Pássaro\", \"Peixe\"]\n",
    "]\n",
    "\n",
    "#Imprimindo a matriz\n",
    "for i in range(2):\n",
    "    for j in range(2):\n",
    "        print(animais[i][j], end= \" \")\n",
    "    print()\n",
    "\n",
    "print()\n",
    "\n",
    "\n",
    "#Imprimindo apenas os nomes que começam com a letra A\n",
    "nomes = [\n",
    "    [\"Ana\", \"Bruno\", \"Carlos\", \"Alice\"],\n",
    "    [\"Amanda\", \"Beatriz\", \"Clara\", \"Arnaldo\"],\n",
    "    [\"Alfredo\", \"Bianca\", \"Cesar\", \"Ariel\"],\n",
    "    [\"Alberto\", \"Beto\", \"Camila\", \"Adriana\"]\n",
    "]\n",
    "letraA = [j for i in nomes for j in i if j[0] == \"A\"]\n",
    "for nome in letraA:\n",
    "    print(nome)"
   ]
  },
  {
   "cell_type": "code",
   "execution_count": 71,
   "id": "75f18643-1f62-4732-8a10-4df0a8109426",
   "metadata": {},
   "outputs": [
    {
     "name": "stdout",
     "output_type": "stream",
     "text": [
      "Bruno\n",
      "Alice\n",
      "Moises\n",
      "Beatriz\n",
      "Jose\n",
      "Alfredo\n",
      "Cesar\n",
      "Alberto\n",
      "Adriana\n"
     ]
    }
   ],
   "source": [
    "#Dada a matriz matriz_pessoas, imprima apenas as pessoas com mais de 30 anos\n",
    "matriz_pessoas = [\n",
    "    [[\"Ana\", 25], [\"Bruno\", 31], [\"Carlos\", 29], [\"Alice\", 34], [\"Moises\", 32]],\n",
    "    [[\"Amanda\", 22], [\"Beatriz\", 45], [\"Clara\", 30], [\"Arnaldo\", 27], [\"Jose\", 55]], \n",
    "    [[\"Alfredo\", 35], [\"Bianca\", 28], [\"Cesar\", 32], [\"Ariel\", 23], [\"Pedro\", 28]],  \n",
    "    [[\"Alberto\", 40], [\"Beto\", 24], [\"Camila\", 21], [\"Adriana\", 37], [\"Alice-anne\", 18]] \n",
    "]\n",
    "\n",
    "#A lista velho itera sobre todas as pessoas da matriz matriz_pessoas e filtra apenas os maiores de 30 anos\n",
    "velhos = [matriz_pessoas[i][j][0] for i in range(len(matriz_pessoas)) for j in range(len(matriz_pessoas[0])) if matriz_pessoas[i][j][1] > 30]\n",
    "for velho in velhos:\n",
    "    #Exibe cada uma das pessoas com mais de 30 anos\n",
    "    print(velho)"
   ]
  },
  {
   "cell_type": "code",
   "execution_count": 78,
   "id": "5a4df7c9-8111-4ea5-a30b-417e43f10fa7",
   "metadata": {},
   "outputs": [
    {
     "name": "stdout",
     "output_type": "stream",
     "text": [
      "Bruno\n",
      "Alice\n",
      "Moises\n",
      "Beatriz\n",
      "Jose\n",
      "Alfredo\n",
      "Cesar\n",
      "Alberto\n",
      "Adriana\n"
     ]
    }
   ],
   "source": [
    "#Dada a matriz matriz_pessoas, imprima apenas as pessoas com mais de 30 anos (outra forma)\n",
    "matriz_pessoas = [\n",
    "    [[\"Ana\", 25], [\"Bruno\", 31], [\"Carlos\", 29], [\"Alice\", 34], [\"Moises\", 32]],\n",
    "    [[\"Amanda\", 22], [\"Beatriz\", 45], [\"Clara\", 30], [\"Arnaldo\", 27], [\"Jose\", 55]], \n",
    "    [[\"Alfredo\", 35], [\"Bianca\", 28], [\"Cesar\", 32], [\"Ariel\", 23], [\"Pedro\", 28]],  \n",
    "    [[\"Alberto\", 40], [\"Beto\", 24], [\"Camila\", 21], [\"Adriana\", 37], [\"Alice-anne\", 18]] \n",
    "]\n",
    "\n",
    "\n",
    "for i in range(len(matriz_pessoas)):\n",
    "    for j in range(len(matriz_pessoas[0])):\n",
    "        nome = matriz_pessoas[i][j][0]\n",
    "        idade = matriz_pessoas[i][j][1]\n",
    "        if idade > 30:\n",
    "            print(nome)"
   ]
  },
  {
   "cell_type": "code",
   "execution_count": 84,
   "id": "7cf79501-13e4-4bab-a60d-be60b2f0e8b8",
   "metadata": {},
   "outputs": [
    {
     "name": "stdin",
     "output_type": "stream",
     "text": [
      "Em qual candidato você deseja votar?  Charlie\n",
      "Em qual candidato você deseja votar?  Charlie\n",
      "Em qual candidato você deseja votar?  Charlie\n",
      "Em qual candidato você deseja votar?  Bob\n",
      "Em qual candidato você deseja votar?  Alice\n",
      "Em qual candidato você deseja votar?  Alice\n",
      "Em qual candidato você deseja votar?  Alice\n",
      "Em qual candidato você deseja votar?  Alice\n",
      "Em qual candidato você deseja votar?  Alice\n",
      "Em qual candidato você deseja votar?  Alice\n"
     ]
    },
    {
     "name": "stdout",
     "output_type": "stream",
     "text": [
      "\n",
      "Alice recebeu 6 votos!\n",
      "Bob recebeu 1 votos!\n",
      "Charlie recebeu 3 votos!\n",
      "\n",
      "O vencedor da eleição é Alice\n"
     ]
    }
   ],
   "source": [
    "#Exercício: Urna Eletrônica com Matrizes\n",
    "\"\"\"\n",
    "Imagine que estamos conduzindo uma eleição para escolher o representante \n",
    "estudantil de uma universidade. Existem três candidatos concorrendo e, para \n",
    "simplificar, cada aluno pode votar apenas uma vez.\n",
    "\n",
    "Seu objetivo é criar um programa que simule uma urna eletrônica \n",
    "simples usando matrizes.\n",
    "\"\"\"\n",
    "\n",
    "#Inicia a matriz que recebe os candidatos e seus votos\n",
    "votos = [\n",
    "         [\"Alice\", 0], \n",
    "         [\"Bob\", 0], \n",
    "         [\"Charlie\", 0]\n",
    "]\n",
    "\n",
    "#Limita os eleitores a 10\n",
    "for n in range(10):\n",
    "    #pergunta ao usuário em quem deseja votar\n",
    "    voto = str(input(\"Em qual candidato você deseja votar? \"))\n",
    "    #Itera sobre a matriz dos candidatos\n",
    "    for i in votos:\n",
    "        #Encontra o candidato correto\n",
    "        if voto == i[0]:\n",
    "            #adiciona um voto para ele\n",
    "            i[1] += 1\n",
    "        else:\n",
    "            pass\n",
    "#Pula uma linha\n",
    "print()\n",
    "\n",
    "#Para cada uma das linhas da matriz de votos\n",
    "for candidato in votos:\n",
    "    #Exibe o candidatos e seus votos\n",
    "    print(f\"{candidato[0]} recebeu {candidato[1]} votos!\")\n",
    "#Pula uma linha\n",
    "print()\n",
    "\n",
    "\n",
    "#Lista que recebe todos os votos por pessoa\n",
    "cand = [v[1] for v in votos]\n",
    "#Itera sobre a matriz com os votos\n",
    "for pessoa in votos:\n",
    "    for vo in cand:\n",
    "        #Se o candidato tiver a mesma quantidade de votos que o maior número de votos da lista de votos\n",
    "        if pessoa[1] == max(cand):\n",
    "            #Essa pessoa é declarada vencedora\n",
    "            print(f\"O vencedor da eleição é {pessoa[0]}\")\n",
    "            #E o loop é quebrado\n",
    "            break"
   ]
  },
  {
   "cell_type": "code",
   "execution_count": 103,
   "id": "470116e7-a4d9-49c1-a99d-14a568917bc0",
   "metadata": {},
   "outputs": [
    {
     "name": "stdin",
     "output_type": "stream",
     "text": [
      "Escolha uma opção:\n",
      " \n",
      "1. Reservar assento \n",
      "2. Ver disposição dos assentos \n",
      "3. Sair\n",
      " 2\n"
     ]
    },
    {
     "name": "stdout",
     "output_type": "stream",
     "text": [
      "\n",
      "D D D D D D D D D D \n",
      "D D D D D D D D D D \n",
      "D D D D D D D D D D \n",
      "D D D D D D D D D D \n",
      "D D D D D D D D D D \n",
      "\n"
     ]
    },
    {
     "name": "stdin",
     "output_type": "stream",
     "text": [
      "Escolha uma opção:\n",
      " \n",
      "1. Reservar assento \n",
      "2. Ver disposição dos assentos \n",
      "3. Sair\n",
      " 1\n"
     ]
    },
    {
     "name": "stdout",
     "output_type": "stream",
     "text": [
      "\n"
     ]
    },
    {
     "name": "stdin",
     "output_type": "stream",
     "text": [
      "Em qual fileira (horizontal) você quer o seu assento? (D: Disponível, R: Reservado) 4\n"
     ]
    },
    {
     "name": "stdout",
     "output_type": "stream",
     "text": [
      "\n"
     ]
    },
    {
     "name": "stdin",
     "output_type": "stream",
     "text": [
      "Em qual coluna (vertical) você quer o seu assento? (D: Disponível, R: Reservado) 9\n"
     ]
    },
    {
     "name": "stdout",
     "output_type": "stream",
     "text": [
      "\n"
     ]
    },
    {
     "name": "stdin",
     "output_type": "stream",
     "text": [
      "Escolha uma opção:\n",
      " \n",
      "1. Reservar assento \n",
      "2. Ver disposição dos assentos \n",
      "3. Sair\n",
      " 2\n"
     ]
    },
    {
     "name": "stdout",
     "output_type": "stream",
     "text": [
      "\n",
      "D D D D D D D D D D \n",
      "D D D D D D D D D D \n",
      "D D D D D D D D D D \n",
      "D D D D D D D D R D \n",
      "D D D D D D D D D D \n",
      "\n"
     ]
    },
    {
     "name": "stdin",
     "output_type": "stream",
     "text": [
      "Escolha uma opção:\n",
      " \n",
      "1. Reservar assento \n",
      "2. Ver disposição dos assentos \n",
      "3. Sair\n",
      " 3\n"
     ]
    },
    {
     "name": "stdout",
     "output_type": "stream",
     "text": [
      "\n",
      "Obrigado por usar nosso sistema!\n"
     ]
    }
   ],
   "source": [
    "#Exercício: Reserva de Assentos no Cinema usando Matrizes\n",
    "\"\"\"\n",
    "\n",
    "Você foi contratado para criar um sistema simples de reserva de \n",
    "assentos para um pequeno cinema. O cinema tem 5 fileiras e 10 assentos \n",
    "em cada fileira, totalizando 50 assentos.\n",
    "\n",
    "Cada assento pode estar disponível, reservado ou ocupado.\n",
    "\"\"\"\n",
    "\n",
    "#Inicia uma matriz para receber a disposição dos assentos\n",
    "cinema = []\n",
    "#Itera do 0 ao 4\n",
    "for i in range(5):\n",
    "    #Cria uma fileira temporaria para armazenar linha por linha\n",
    "    fileira = []\n",
    "    #Itera do 0 ao 9\n",
    "    for i in range(10):\n",
    "        #Insere o \"D\" na fileira temporária\n",
    "        fileira.append(\"D\")\n",
    "    #Insere a fileira temporária na matriz e reinicia ela, até fazer isso 5 vezes\n",
    "    cinema.append(fileira)\n",
    "\n",
    "\n",
    "\n",
    "#Inicia uma função que recebe um argumento e serve para exibir a matriz cinema\n",
    "def mostrar_assentos(cinema):\n",
    "    for m in cinema:\n",
    "         for n in m:\n",
    "             print(n, end= \" \")\n",
    "         print()\n",
    "    print()\n",
    "\n",
    "\n",
    "\n",
    "#Inicia uma função que serve para exibir as escolhas possíveis do usuário e retorna essa escolha\n",
    "def mostrar_menu():\n",
    "    escolha = input(\"Escolha uma opção:\\n \\n1. Reservar assento \\n2. Ver disposição dos assentos \\n3. Sair\\n\")\n",
    "    print()\n",
    "    return escolha \n",
    "\n",
    "\n",
    "\n",
    "#Inicia uma função que serve para reservar um assento e recebe um argumento (matriz)\n",
    "def reservar_assento(cinema):\n",
    "    #Pede a linha do assento\n",
    "    linha = int(input(\"Em qual fileira (horizontal) você quer o seu assento? (D: Disponível, R: Reservado)\"))\n",
    "    #pula uma linha\n",
    "    print()\n",
    "    #Pede a coluna do assento\n",
    "    coluna = int(input(\"Em qual coluna (vertical) você quer o seu assento? (D: Disponível, R: Reservado)\"))\n",
    "    #Pula outra linha\n",
    "    print()\n",
    "    #Verifica se o assento se encontra disponível\n",
    "    if cinema[linha - 1][coluna - 1] == \"D\":\n",
    "        #Tranforma o número da linha e coluna em índice e faz o assento ser reservado\n",
    "        cinema[linha - 1][coluna - 1] = \"R\"\n",
    "    else:\n",
    "        print(\"Assento reservado ou ocupado!\")\n",
    "        print()\n",
    "\n",
    "\n",
    "#Inicia a função principal\n",
    "def main(assentos):\n",
    "    #Inicia um loop infinito\n",
    "    while True:\n",
    "        #Armazena o que a função mostrar_menu retornar em uma variável\n",
    "        escolha = mostrar_menu()\n",
    "        #Condicional que verifica a escolha do usuário e chama a função correspondente a essa escolha, passando o parametro da função main() como argumento\n",
    "        if escolha == \"1\":\n",
    "            reservar_assento(assentos)\n",
    "        elif escolha == \"2\":\n",
    "            mostrar_assentos(assentos)\n",
    "        elif escolha == \"3\":\n",
    "            print(\"Obrigado por usar nosso sistema!\")\n",
    "            break\n",
    "        else:\n",
    "            print(\"Digite uma opção válida!\")\n",
    "            print()\n",
    "\n",
    "#Chama a função main(), passando a matriz cinema como argumento\n",
    "main(cinema)"
   ]
  },
  {
   "cell_type": "code",
   "execution_count": 12,
   "id": "d786abe8-b2f3-4397-a65b-d1c92aa113c0",
   "metadata": {},
   "outputs": [
    {
     "name": "stdout",
     "output_type": "stream",
     "text": [
      " | | \n",
      "------\n",
      " | | \n",
      "------\n",
      " | | \n",
      "\n"
     ]
    },
    {
     "name": "stdin",
     "output_type": "stream",
     "text": [
      "Jogador 1 (X), em qual casa desejas jogar? (Digite o número da linha e da coluna)  1 1\n"
     ]
    },
    {
     "name": "stdout",
     "output_type": "stream",
     "text": [
      "\n",
      "X| | \n",
      "------\n",
      " | | \n",
      "------\n",
      " | | \n",
      "\n"
     ]
    },
    {
     "name": "stdin",
     "output_type": "stream",
     "text": [
      "Jogador 2 (O), em qual casa desejas jogar? (Digite o número da linha e da coluna) 1 2\n"
     ]
    },
    {
     "name": "stdout",
     "output_type": "stream",
     "text": [
      "\n",
      "X|O| \n",
      "------\n",
      " | | \n",
      "------\n",
      " | | \n",
      "\n"
     ]
    },
    {
     "name": "stdin",
     "output_type": "stream",
     "text": [
      "Jogador 1 (X), em qual casa desejas jogar? (Digite o número da linha e da coluna)  2 2\n"
     ]
    },
    {
     "name": "stdout",
     "output_type": "stream",
     "text": [
      "\n",
      "X|O| \n",
      "------\n",
      " |X| \n",
      "------\n",
      " | | \n",
      "\n"
     ]
    },
    {
     "name": "stdin",
     "output_type": "stream",
     "text": [
      "Jogador 2 (O), em qual casa desejas jogar? (Digite o número da linha e da coluna) 1 3\n"
     ]
    },
    {
     "name": "stdout",
     "output_type": "stream",
     "text": [
      "\n",
      "X|O|O\n",
      "------\n",
      " |X| \n",
      "------\n",
      " | | \n",
      "\n"
     ]
    },
    {
     "name": "stdin",
     "output_type": "stream",
     "text": [
      "Jogador 1 (X), em qual casa desejas jogar? (Digite o número da linha e da coluna)  3 3\n"
     ]
    },
    {
     "name": "stdout",
     "output_type": "stream",
     "text": [
      "\n",
      "O jogador 1 venceu!\n"
     ]
    },
    {
     "data": {
      "text/plain": [
       "''"
      ]
     },
     "execution_count": 12,
     "metadata": {},
     "output_type": "execute_result"
    }
   ],
   "source": [
    "#Exercício - Jogo da Velha com Matriz\n",
    "\n",
    "\"\"\"\n",
    "Objetivo: Implementar o jogo da velha usando uma matriz 3x3 e permitir que dois jogadores joguem um contra o outro.\n",
    "\n",
    "Instruções:\n",
    "\n",
    "    Inicialize uma matriz 3x3 com espaços em branco para representar o tabuleiro do jogo da velha.\n",
    "    Crie uma função para exibir o tabuleiro atualizado a cada jogada.\n",
    "    Crie uma função para verificar se há um vencedor.\n",
    "    Implemente um loop que alterna entre os jogadores (X e O) e permite que eles escolham uma posição no tabuleiro.\n",
    "    Após cada jogada, verifique se há um vencedor ou se o tabuleiro está cheio.\n",
    "    Se houver um vencedor ou o tabuleiro estiver cheio, termine o jogo e exiba o resultado.\n",
    "\"\"\"\n",
    "\n",
    "#Inicializa a matriz tabuleiro\n",
    "tabuleiro = [[\" \", \" \", \" \"], [\" \", \" \", \" \"], [\" \", \" \", \" \"]]\n",
    "\n",
    "\n",
    "#inicializa a função que exibirá o tabuleiro\n",
    "def mostrar_tabuleiro(matriz):\n",
    "    counter = 0\n",
    "    for i in range(3):\n",
    "        counter2 = 0\n",
    "        for j in range(3):\n",
    "            #Cria as separações verticais do tabuleiro\n",
    "            if counter2 < 2:\n",
    "                print(tabuleiro[i][j], end= \"|\")\n",
    "                counter2 += 1\n",
    "            else:\n",
    "                print(tabuleiro[i][j])\n",
    "        #Cria as separações horizontais do tabuleiro\n",
    "        if counter < 2:\n",
    "            print(\"-\" * 6)\n",
    "            counter += 1\n",
    "\n",
    "\n",
    "def verificar_vencedor(tabuleiro):\n",
    "    # Verifica linhas\n",
    "    for linha in tabuleiro:\n",
    "        if linha[0] == linha[1] == linha[2] and linha[0] != ' ':\n",
    "            return linha[0]\n",
    "    \n",
    "    # Verifica colunas\n",
    "    for col in range(3):\n",
    "        if tabuleiro[0][col] == tabuleiro[1][col] == tabuleiro[2][col] and tabuleiro[0][col] != ' ':\n",
    "            return tabuleiro[0][col]\n",
    "    \n",
    "    # Verifica diagonal principal\n",
    "    if tabuleiro[0][0] == tabuleiro[1][1] == tabuleiro[2][2] and tabuleiro[0][0] != ' ':\n",
    "        return tabuleiro[0][0]\n",
    "    \n",
    "    # Verifica diagonal secundária\n",
    "    if tabuleiro[0][2] == tabuleiro[1][1] == tabuleiro[2][0] and tabuleiro[0][2] != ' ':\n",
    "        return tabuleiro[0][2]\n",
    "            \n",
    "\n",
    "\n",
    "#Verifica se existem casas vazias no tabuleiro\n",
    "def tabuleiro_cheio(tabuleiro):\n",
    "    for i in tabuleiro:\n",
    "        if \" \" in i:\n",
    "            return False\n",
    "    return True\n",
    "\n",
    "\n",
    "\n",
    "#Inicia o jogo\n",
    "def main(matriz):\n",
    "    #Exibe o tabuleiro\n",
    "    while True:\n",
    "        mostrar_tabuleiro(matriz)\n",
    "        print()\n",
    "\n",
    "        #Inicia um loop que só quebra quando o jogador digitar uma casa válida\n",
    "        while True:\n",
    "            jogadorX = input(\"Jogador 1 (X), em qual casa desejas jogar? (Digite o número da linha e da coluna) \")\n",
    "            print()\n",
    "            jogadaX = [int(c) for c in jogadorX.split()]\n",
    "\n",
    "            #Trata erros relacionados a casa entre o intervalo de 1 a 3\n",
    "            if jogadaX[0] not in [1, 2, 3] or jogadaX[1] not in [1, 2, 3]:\n",
    "                print(\"Posição inválida! As linhas e colunas devem ser entre 1 e 3.\")\n",
    "                continue\n",
    "                \n",
    "            #Se a casa for válida e estiver vazia, atribui a jogada a essa casa\n",
    "            if matriz[jogadaX[0] - 1][jogadaX[1] - 1] == \" \":\n",
    "                matriz[jogadaX[0] - 1][jogadaX[1] - 1] = \"X\"\n",
    "                break\n",
    "            else:\n",
    "                #Trata erros relacionados a casa ocupada\n",
    "                print(\"Esta casa já foi ocupada! Tente novamente.\")\n",
    "                print()\n",
    "\n",
    "\n",
    "\n",
    "        \n",
    "        #Veurfica se existem casas vazias\n",
    "        if tabuleiro_cheio(matriz):\n",
    "            mostrar_tabuleiro(matriz)\n",
    "            print(\"O jogo terminou em empate!\")\n",
    "            break\n",
    "\n",
    "\n",
    "        \n",
    "        #A variavel vencedor recebe o retorno da funcao verificar_vencedor()\n",
    "        vencedor = verificar_vencedor(matriz)\n",
    "        #Printa quem foi o vencedor e quebra o loop, se houver um vencedor\n",
    "        if vencedor in [\"X\", \"O\"]:\n",
    "            print(f\"O jogador {'X' if vencedor == 'X' else 'O'} venceu!\")\n",
    "            return \"\"\n",
    "\n",
    "        #Exibe o tabuleiro e pula uma linha\n",
    "        mostrar_tabuleiro(matriz)\n",
    "        print()\n",
    "\n",
    "\n",
    "        #Repete o procedimento com o jogador O\n",
    "        while True:\n",
    "            jogadorO = input(\"Jogador 2 (O), em qual casa desejas jogar? (Digite o número da linha e da coluna)\")\n",
    "            print()\n",
    "            jogadaO = [int(c) for c in jogadorO.split()]\n",
    "\n",
    "            if jogadaO[0] not in [1, 2, 3] or jogadaO[1] not in [1, 2, 3]:\n",
    "                print(\"Posição inválida! As linhas e colunas devem ser entre 1 e 3.\")\n",
    "                continue\n",
    "\n",
    "            if matriz[jogadaO[0] - 1][jogadaO[1] - 1] == \" \":\n",
    "                matriz[jogadaO[0] - 1][jogadaO[1] - 1] = \"O\"\n",
    "                break\n",
    "            else:\n",
    "                print(\"Esta casa já foi ocupada! Tente novamente.\")\n",
    "                print()\n",
    "        \n",
    "        \n",
    "\n",
    "        #Verifica novamente se há vencedores\n",
    "        vencedor = verificar_vencedor(matriz)\n",
    "        if vencedor in [\"X\", \"O\"]:\n",
    "            print(f\"O jogador {'X' if vencedor == 'X' else 'O'} venceu!\")\n",
    "            return \"\"\n",
    "\n",
    "\n",
    "\n",
    "       \n",
    "#chama a função main que inicia o jogo         \n",
    "main(tabuleiro)"
   ]
  },
  {
   "cell_type": "code",
   "execution_count": 13,
   "id": "615cbe3e-96b2-42d5-a39f-bc74dea1e620",
   "metadata": {},
   "outputs": [
    {
     "name": "stdout",
     "output_type": "stream",
     "text": [
      " | | \n",
      "-----\n",
      " | | \n",
      "-----\n",
      " | | \n",
      "\n"
     ]
    },
    {
     "name": "stdin",
     "output_type": "stream",
     "text": [
      "Jogador (X), em qual casa desejas jogar? (Digite a linha e coluna, ex: 1 2)  1 1\n"
     ]
    },
    {
     "name": "stdout",
     "output_type": "stream",
     "text": [
      "X| | \n",
      "-----\n",
      " | | \n",
      "-----\n",
      " | | \n",
      "\n"
     ]
    },
    {
     "name": "stdin",
     "output_type": "stream",
     "text": [
      "Jogador (O), em qual casa desejas jogar? (Digite a linha e coluna, ex: 1 2)  1 2\n"
     ]
    },
    {
     "name": "stdout",
     "output_type": "stream",
     "text": [
      "X|O| \n",
      "-----\n",
      " | | \n",
      "-----\n",
      " | | \n",
      "\n"
     ]
    },
    {
     "name": "stdin",
     "output_type": "stream",
     "text": [
      "Jogador (X), em qual casa desejas jogar? (Digite a linha e coluna, ex: 1 2)  2 2\n"
     ]
    },
    {
     "name": "stdout",
     "output_type": "stream",
     "text": [
      "X|O| \n",
      "-----\n",
      " |X| \n",
      "-----\n",
      " | | \n",
      "\n"
     ]
    },
    {
     "name": "stdin",
     "output_type": "stream",
     "text": [
      "Jogador (O), em qual casa desejas jogar? (Digite a linha e coluna, ex: 1 2)  2 2\n"
     ]
    },
    {
     "name": "stdout",
     "output_type": "stream",
     "text": [
      "Esta casa já foi ocupada! Tente novamente.\n"
     ]
    },
    {
     "name": "stdin",
     "output_type": "stream",
     "text": [
      "Jogador (O), em qual casa desejas jogar? (Digite a linha e coluna, ex: 1 2)  2 1\n"
     ]
    },
    {
     "name": "stdout",
     "output_type": "stream",
     "text": [
      "X|O| \n",
      "-----\n",
      "O|X| \n",
      "-----\n",
      " | | \n",
      "\n"
     ]
    },
    {
     "name": "stdin",
     "output_type": "stream",
     "text": [
      "Jogador (X), em qual casa desejas jogar? (Digite a linha e coluna, ex: 1 2)  3 3\n"
     ]
    },
    {
     "name": "stdout",
     "output_type": "stream",
     "text": [
      "X|O| \n",
      "-----\n",
      "O|X| \n",
      "-----\n",
      " | |X\n",
      "Jogador X venceu!\n"
     ]
    }
   ],
   "source": [
    "\"\"\"O código abaixo é meu código otimizado pelo chatgpt, logo se encontra mais conciso e otimizado\"\"\"\n",
    "\n",
    "\n",
    "\n",
    "# Inicializa a matriz tabuleiro\n",
    "tabuleiro = [[\" \", \" \", \" \"], [\" \", \" \", \" \"], [\" \", \" \", \" \"]]\n",
    "\n",
    "# Função que exibe o tabuleiro\n",
    "def mostrar_tabuleiro(matriz):\n",
    "    for i in range(3):\n",
    "        print(\"|\".join(matriz[i]))\n",
    "        if i < 2:\n",
    "            print(\"-\" * 5)\n",
    "\n",
    "# Função para verificar se há um vencedor\n",
    "def verificar_vencedor(tabuleiro):\n",
    "    # Verifica linhas\n",
    "    for linha in tabuleiro:\n",
    "        if linha[0] == linha[1] == linha[2] and linha[0] != ' ':\n",
    "            return linha[0]\n",
    "    \n",
    "    # Verifica colunas\n",
    "    for col in range(3):\n",
    "        if tabuleiro[0][col] == tabuleiro[1][col] == tabuleiro[2][col] and tabuleiro[0][col] != ' ':\n",
    "            return tabuleiro[0][col]\n",
    "    \n",
    "    # Verifica diagonais\n",
    "    if tabuleiro[0][0] == tabuleiro[1][1] == tabuleiro[2][2] and tabuleiro[0][0] != ' ':\n",
    "        return tabuleiro[0][0]\n",
    "    if tabuleiro[0][2] == tabuleiro[1][1] == tabuleiro[2][0] and tabuleiro[0][2] != ' ':\n",
    "        return tabuleiro[0][2]\n",
    "\n",
    "    return None\n",
    "\n",
    "# Função para verificar se o tabuleiro está cheio\n",
    "def tabuleiro_cheio(tabuleiro):\n",
    "    for linha in tabuleiro:\n",
    "        if \" \" in linha:\n",
    "            return False\n",
    "    return True\n",
    "\n",
    "# Função principal do jogo\n",
    "def main(matriz):\n",
    "    # Exibe o tabuleiro\n",
    "    jogador_atual = \"X\"\n",
    "\n",
    "    while True:\n",
    "        mostrar_tabuleiro(matriz)\n",
    "        print()\n",
    "\n",
    "        # Solicita a jogada\n",
    "        while True:\n",
    "            jogada = input(f\"Jogador ({jogador_atual}), em qual casa desejas jogar? (Digite a linha e coluna, ex: 1 2) \").strip().split()\n",
    "\n",
    "            # Verifica se a entrada contém dois números\n",
    "            if len(jogada) != 2 or not all(c.isdigit() for c in jogada):\n",
    "                print(\"Entrada inválida! Digite dois números separados por espaço.\")\n",
    "                continue\n",
    "\n",
    "            jogada = [int(c) for c in jogada]\n",
    "\n",
    "            # Verifica se a posição é válida\n",
    "            if jogada[0] not in [1, 2, 3] or jogada[1] not in [1, 2, 3]:\n",
    "                print(\"Posição inválida! As linhas e colunas devem ser entre 1 e 3.\")\n",
    "                continue\n",
    "\n",
    "            # Verifica se a casa já está ocupada\n",
    "            if matriz[jogada[0] - 1][jogada[1] - 1] != \" \":\n",
    "                print(\"Esta casa já foi ocupada! Tente novamente.\")\n",
    "            else:\n",
    "                matriz[jogada[0] - 1][jogada[1] - 1] = jogador_atual\n",
    "                break\n",
    "\n",
    "        # Verifica se há um vencedor\n",
    "        vencedor = verificar_vencedor(matriz)\n",
    "        if vencedor:\n",
    "            mostrar_tabuleiro(matriz)\n",
    "            print(f\"Jogador {vencedor} venceu!\")\n",
    "            break\n",
    "\n",
    "        # Verifica se o tabuleiro está cheio\n",
    "        if tabuleiro_cheio(matriz):\n",
    "            mostrar_tabuleiro(matriz)\n",
    "            print(\"O jogo terminou em empate!\")\n",
    "            break\n",
    "\n",
    "        # Alterna entre os jogadores\n",
    "        jogador_atual = \"O\" if jogador_atual == \"X\" else \"X\"\n",
    "\n",
    "# Executa o jogo\n",
    "main(tabuleiro)\n"
   ]
  },
  {
   "cell_type": "code",
   "execution_count": null,
   "id": "a7520d8e-c068-45cb-8254-1b071c9505c5",
   "metadata": {},
   "outputs": [],
   "source": []
  }
 ],
 "metadata": {
  "kernelspec": {
   "display_name": "Python 3 (ipykernel)",
   "language": "python",
   "name": "python3"
  },
  "language_info": {
   "codemirror_mode": {
    "name": "ipython",
    "version": 3
   },
   "file_extension": ".py",
   "mimetype": "text/x-python",
   "name": "python",
   "nbconvert_exporter": "python",
   "pygments_lexer": "ipython3",
   "version": "3.12.4"
  }
 },
 "nbformat": 4,
 "nbformat_minor": 5
}
