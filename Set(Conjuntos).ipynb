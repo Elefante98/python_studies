{
 "cells": [
  {
   "cell_type": "code",
   "execution_count": 11,
   "id": "5f1f96ab-073f-4b57-9cfe-45eb753319c8",
   "metadata": {},
   "outputs": [
    {
     "name": "stdout",
     "output_type": "stream",
     "text": [
      "[1, 4, 3, 3, 5, 1, 10]\n",
      "\n",
      "{1, 3, 4, 5, 10}\n",
      "\n",
      "{1, 2, (8, 4), 'Moisés'}\n",
      "\n",
      "Erro do tipo unhashable type: 'list'\n"
     ]
    }
   ],
   "source": [
    "#Um \"set\" é uma coleção desordenada de elementos únicos. Isso significa que não permite duplicatas.\n",
    "#Sets são mutáveis, mas os elementos contidos neles devem ser imutáveis (por exemplo, números, strings e tuplas).\n",
    "\n",
    "numeros = [1, 4, 3, 3, 5, 1, 10]\n",
    "print(numeros) #Saída: [1, 4, 3, 3, 5, 1, 10]\n",
    "print()\n",
    "\n",
    "#Essa é uma das aplicações comuns do set(): remover duplicatas\n",
    "numeros2 = set(numeros)\n",
    "print(numeros2) #Saída: {1, 3, 4, 5, 10}\n",
    "print()\n",
    "\n",
    "#Como podemos ver, por ser desordenado, o conjunto não possui uma ordenação previsível de seus elementos\n",
    "conjunto = {1, 2, \"Moisés\", (8, 4)}\n",
    "print(conjunto) #Saída: {1, 2, (8, 4), 'Moisés'}\n",
    "print()\n",
    "\n",
    "\n",
    "#Imutabilidade dos elementos\n",
    "try:\n",
    "    #ao tentarmos adicionar um elemento mutável, como uma lista, a um conjunto, recebemos um erro\n",
    "    conjunto.add([1, 2, 3])\n",
    "except TypeError as e:\n",
    "    print(f\"Erro do tipo {e}\")"
   ]
  },
  {
   "cell_type": "code",
   "execution_count": 14,
   "id": "61d8209d-7af7-43f8-be46-6528e3511a23",
   "metadata": {},
   "outputs": [
    {
     "name": "stdout",
     "output_type": "stream",
     "text": [
      "{1, 2, 3, 4, 5, 6}\n",
      "\n",
      "{1, 2, 3, 4, 5, 6}\n",
      "\n",
      "True\n"
     ]
    }
   ],
   "source": [
    "#Criando um conjunto\n",
    "\n",
    "\n",
    "#Usando chaves\n",
    "s_chaves = {1, 2, 3, 3, 4, 5, 6, 6}\n",
    "print(s_chaves) #Saída: {1, 2, 3, 4, 5, 6}\n",
    "print()\n",
    "\n",
    "#Usando set()\n",
    "s_funcao = set([1, 2, 3, 3, 4, 5, 6, 6])\n",
    "print(s_funcao) #Saída: {1, 2, 3, 4, 5, 6}\n",
    "print()\n",
    "\n",
    "\n",
    "#ao comparar os dois métodos de criação de conjuntos, vemos que são iguais\n",
    "print(s_chaves == s_funcao) #Saída: True"
   ]
  },
  {
   "cell_type": "code",
   "execution_count": 28,
   "id": "c78d89e6-e010-4ba8-90d0-5f80d5ec4ba6",
   "metadata": {},
   "outputs": [
    {
     "name": "stdout",
     "output_type": "stream",
     "text": [
      "{1, 2, 3, 4, 5}\n",
      "\n",
      "{0, 1, 2, 3, 4, 5}\n",
      "\n",
      "{0, 1, 2, 4, 5}\n",
      "\n",
      "{0, 1, 2, 5}\n",
      "\n",
      "{1, 2, 5}\n",
      "\n",
      "set()\n",
      "\n"
     ]
    }
   ],
   "source": [
    "#Adicionando e removendo elementos de um conjunto\n",
    "se = {1, 2, 3, 4, 3, 5, 5}\n",
    "print(se)\n",
    "print()\n",
    "\n",
    "\n",
    "# add(): adiciona um elemento especificado ao conjunto, deixando o conjunto da mesma forma, se já houver esse elemento no conjunto\n",
    "se.add(0)\n",
    "print(se)\n",
    "print()\n",
    "\n",
    "\n",
    "\n",
    "# remove(): elimina o elemento especificado do conjunto, gerando um erro se o elemento não existir\n",
    "se.remove(3)\n",
    "print(se)\n",
    "print()\n",
    "\n",
    "\n",
    "\n",
    "\n",
    "# discard(): remove um elemento do conjunto, se ele existir, sem gerar um erro\n",
    "se.discard(4)\n",
    "print(se)\n",
    "print()\n",
    "se.discard(938) #Descartando um elemento que não existe e não receebndo um erro\n",
    "\n",
    "\n",
    "\n",
    "# pop(): remove um elemento aleatório do conjunto, por conta que conjuntos são desordenados\n",
    "se.pop()\n",
    "print(se)\n",
    "print()\n",
    "\n",
    "\n",
    "\n",
    "# clear(): remove todos os elementos do conjunto\n",
    "se.clear()\n",
    "print(se)\n",
    "print()"
   ]
  },
  {
   "cell_type": "code",
   "execution_count": 46,
   "id": "132d9543-81bf-49ce-bdae-0fe3edda42ab",
   "metadata": {},
   "outputs": [
    {
     "name": "stdout",
     "output_type": "stream",
     "text": [
      "Esse é o conjunto 1: {1, 2, 3, 4, 5, 6}\n",
      "\n",
      "Esse é o conjunto 2: {5, 6, 7, 8, 9, 10}\n",
      "\n",
      "Essa é a união dos conjuntos 1 e 2: {1, 2, 3, 4, 5, 6, 7, 8, 9, 10}\n",
      "\n",
      "Essa também é a união dos conjuntos 1 e 2: {1, 2, 3, 4, 5, 6, 7, 8, 9, 10}\n",
      "\n",
      "Essa é a intersecção dos conjuntos 1 e 2: {5, 6}\n",
      "\n",
      "Essa também é a intersecção dos conjuntos 1 e 2: {5, 6}\n",
      "\n",
      "Essa é a diferença entre os conjuntos 1 e 2: {1, 2, 3, 4}\n",
      "\n",
      "Essa também é a diferença entre os conjuntos 1 e 2: {1, 2, 3, 4}\n",
      "\n",
      "Essa é a difereça simétrica entre os conjuntos 1 e 2: {1, 2, 3, 4, 7, 8, 9, 10}\n",
      "\n",
      "Essa também é a difereça simétrica entre os conjuntos 1 e 2: {1, 2, 3, 4, 7, 8, 9, 10}\n",
      "\n",
      "O terceiro conjunto é um subconjunto do primeiro? True\n",
      "\n",
      "O primeiro conjunto é um superconjunto do terceiro? True\n"
     ]
    }
   ],
   "source": [
    "#Operações com conjuntos\n",
    "s1 = {1, 2, 3, 4, 5, 6}\n",
    "s2 = {5, 6, 7, 8, 9, 10}\n",
    "print(f\"Esse é o conjunto 1: {s1}\")\n",
    "print()\n",
    "print(f\"Esse é o conjunto 2: {s2}\")\n",
    "print()\n",
    "\n",
    "\n",
    "\n",
    "#União (s1 | s2 ou s1.union(s2)): retorna a junção de dois conjuntos, removendo duplicatas\n",
    "print(f\"Essa é a união dos conjuntos 1 e 2: {s1 | s2}\")\n",
    "\n",
    "print()\n",
    "\n",
    "print(f\"Essa também é a união dos conjuntos 1 e 2: {s1.union(s2)}\")\n",
    "\n",
    "print()\n",
    "\n",
    "#Intersecção (s1 & s2 ou s1.intersection(s2)): retorna a intersecção (parte que aparece em ambos) de dois conjuntos, sem duplicatas\n",
    "print(f\"Essa é a intersecção dos conjuntos 1 e 2: {s1 & s2}\")\n",
    "\n",
    "print()\n",
    "\n",
    "print(f\"Essa também é a intersecção dos conjuntos 1 e 2: {s1.intersection(s2)}\")\n",
    "\n",
    "print()\n",
    "\n",
    "\n",
    "#Diferença (s1 - s2 ou s1.difference(s2)): retorna todos os elementos que estão no primeiro comjunto, mas não estão no segundo\n",
    "print(f\"Essa é a diferença entre os conjuntos 1 e 2: {s1 - s2}\")\n",
    "\n",
    "print()\n",
    "\n",
    "print(f\"Essa também é a diferença entre os conjuntos 1 e 2: {s1.difference(s2)}\")\n",
    "\n",
    "print()\n",
    "\n",
    "\n",
    "#Diferença simétrica (s1 ^ s2 ou s1.symmetric_difference(s2)): retorna os elementos que estão no primeiro ou segundo conjunto, mas não em ambos\n",
    "print(f\"Essa é a difereça simétrica entre os conjuntos 1 e 2: {s1 ^ s2}\")\n",
    "\n",
    "print()\n",
    "\n",
    "print(f\"Essa também é a difereça simétrica entre os conjuntos 1 e 2: {s1.symmetric_difference(s2)}\")\n",
    "\n",
    "print()\n",
    "\n",
    "\n",
    "#issubset: verifica se o primeiro conjunto é um subconjunto do segundo\n",
    "sub = {1, 2, 3}\n",
    "print(f\"O terceiro conjunto é um subconjunto do primeiro? {sub.issubset(s1)}\") #Saida: True\n",
    "\n",
    "\n",
    "print()\n",
    "\n",
    "\n",
    "#issuperset: verifica se o primeiro conjunto é um superconjunto do segundo\n",
    "print(f\"O primeiro conjunto é um superconjunto do terceiro? {s1.issuperset(sub)}\") #Saida: True"
   ]
  },
  {
   "cell_type": "code",
   "execution_count": 50,
   "id": "a667103d-652e-42a4-95b3-411cb35fe7d1",
   "metadata": {},
   "outputs": [
    {
     "name": "stdout",
     "output_type": "stream",
     "text": [
      "{1, 2, 3, 4, 5, 6, 7, 8, 9, 10}\n",
      "\n",
      "O seu dicionário tem 10 caracteres!\n",
      "\n",
      "O número está no conjunto\n",
      "\n",
      "{1, 2, 3, 4, 5, 6, 7, 8, 9, 10}\n"
     ]
    }
   ],
   "source": [
    "#Outras funções e métodos\n",
    "conj = {1, 2, 3, 4, 5, 6, 7, 8, 9, 10}\n",
    "print(conj)\n",
    "print()\n",
    "\n",
    "\n",
    "# len(): retorna o comprimento do conjunto\n",
    "print(f\"O seu dicionário tem {len(conj)} caracteres!\")\n",
    "print()\n",
    "\n",
    "\n",
    "# in: retorna um booleano que determina se o elemento especificado existe no conjunto especificado\n",
    "number = 5\n",
    "if number in conj:\n",
    "    print(\"O número está no conjunto\")\n",
    "    print()\n",
    "else:\n",
    "    print(\"O número não está no conjunto\")\n",
    "    print()\n",
    "# copy(): cria uma cópia do conjunto especificado\n",
    "conj_copia = conj.copy()\n",
    "print(conj_copia)"
   ]
  },
  {
   "cell_type": "code",
   "execution_count": 53,
   "id": "cf9d991e-ec65-4b1c-883c-898b7f290771",
   "metadata": {},
   "outputs": [
    {
     "name": "stdout",
     "output_type": "stream",
     "text": [
      "frozenset({1, 2, 3, 4, 5})\n",
      "\n",
      "{1, 2, 'Python', (1, 5), frozenset({'cavalo', 3.5, 4})}\n"
     ]
    }
   ],
   "source": [
    "#Imutabilidade e frozenset: os elementos de um conjunto devem ser imutáveis, mas o próprio conjunto é mutável\n",
    "\n",
    "\n",
    "#Os frozensets são versão imutáveis dos conjuntos. Ou seja, uma vez criados, não podem ser modificados\n",
    "fs = frozenset([1, 2, 3, 4, 5])\n",
    "print(fs)\n",
    "print()\n",
    "\n",
    "\n",
    "#fs.add(6) causaria um erro, pois os frozensets são imutáveis\n",
    "\n",
    "\n",
    "#a principal utilidade de um frozenset é ser elemento de outro conjunto\n",
    "conju = {1, 2, \"Python\", (1, 5), frozenset([\"cavalo\", 4, 3.5])}\n",
    "print(conju)"
   ]
  },
  {
   "cell_type": "code",
   "execution_count": null,
   "id": "39bc1c3c-176a-48b1-bf68-278b6713822e",
   "metadata": {},
   "outputs": [],
   "source": []
  }
 ],
 "metadata": {
  "kernelspec": {
   "display_name": "Python 3 (ipykernel)",
   "language": "python",
   "name": "python3"
  },
  "language_info": {
   "codemirror_mode": {
    "name": "ipython",
    "version": 3
   },
   "file_extension": ".py",
   "mimetype": "text/x-python",
   "name": "python",
   "nbconvert_exporter": "python",
   "pygments_lexer": "ipython3",
   "version": "3.11.7"
  }
 },
 "nbformat": 4,
 "nbformat_minor": 5
}
